{
 "cells": [
  {
   "cell_type": "code",
   "execution_count": 60,
   "metadata": {},
   "outputs": [],
   "source": [
    "import json\n",
    "import pandas as pd\n",
    "\n",
    "from datasets import load_dataset,get_dataset_split_names, get_dataset_config_names #hugging face datasets\n",
    "\n",
    "import seaborn as sns\n",
    "sns.set_style(\"whitegrid\")\n",
    "sns.set_palette(sns.color_palette(\"pastel\"))"
   ]
  },
  {
   "attachments": {},
   "cell_type": "markdown",
   "metadata": {},
   "source": [
    "# Data preview"
   ]
  },
  {
   "cell_type": "code",
   "execution_count": 2,
   "metadata": {},
   "outputs": [],
   "source": [
    "import requests\n",
    "API_URL = \"https://datasets-server.huggingface.co/first-rows?dataset=dbpedia_14&config=dbpedia_14&split=train\"\n",
    "def query():\n",
    "    response = requests.request(\"GET\", API_URL)\n",
    "    return response.json()\n",
    "data = query()\n"
   ]
  },
  {
   "cell_type": "code",
   "execution_count": 3,
   "metadata": {},
   "outputs": [
    {
     "data": {
      "text/plain": [
       "dict_keys(['dataset', 'config', 'split', 'features', 'rows'])"
      ]
     },
     "execution_count": 3,
     "metadata": {},
     "output_type": "execute_result"
    }
   ],
   "source": [
    "data.keys()"
   ]
  },
  {
   "cell_type": "code",
   "execution_count": 4,
   "metadata": {},
   "outputs": [
    {
     "data": {
      "text/html": [
       "<div>\n",
       "<style scoped>\n",
       "    .dataframe tbody tr th:only-of-type {\n",
       "        vertical-align: middle;\n",
       "    }\n",
       "\n",
       "    .dataframe tbody tr th {\n",
       "        vertical-align: top;\n",
       "    }\n",
       "\n",
       "    .dataframe thead th {\n",
       "        text-align: right;\n",
       "    }\n",
       "</style>\n",
       "<table border=\"1\" class=\"dataframe\">\n",
       "  <thead>\n",
       "    <tr style=\"text-align: right;\">\n",
       "      <th></th>\n",
       "      <th>label</th>\n",
       "      <th>title</th>\n",
       "      <th>content</th>\n",
       "    </tr>\n",
       "  </thead>\n",
       "  <tbody>\n",
       "    <tr>\n",
       "      <th>0</th>\n",
       "      <td>0</td>\n",
       "      <td>E. D. Abbott Ltd</td>\n",
       "      <td>Abbott of Farnham E D Abbott Limited was a Br...</td>\n",
       "    </tr>\n",
       "    <tr>\n",
       "      <th>1</th>\n",
       "      <td>0</td>\n",
       "      <td>Schwan-Stabilo</td>\n",
       "      <td>Schwan-STABILO is a German maker of pens for ...</td>\n",
       "    </tr>\n",
       "    <tr>\n",
       "      <th>2</th>\n",
       "      <td>0</td>\n",
       "      <td>Q-workshop</td>\n",
       "      <td>Q-workshop is a Polish company located in Poz...</td>\n",
       "    </tr>\n",
       "    <tr>\n",
       "      <th>3</th>\n",
       "      <td>0</td>\n",
       "      <td>Marvell Software Solutions Israel</td>\n",
       "      <td>Marvell Software Solutions Israel known as RA...</td>\n",
       "    </tr>\n",
       "    <tr>\n",
       "      <th>4</th>\n",
       "      <td>0</td>\n",
       "      <td>Bergan Mercy Medical Center</td>\n",
       "      <td>Bergan Mercy Medical Center is a hospital loc...</td>\n",
       "    </tr>\n",
       "    <tr>\n",
       "      <th>...</th>\n",
       "      <td>...</td>\n",
       "      <td>...</td>\n",
       "      <td>...</td>\n",
       "    </tr>\n",
       "    <tr>\n",
       "      <th>95</th>\n",
       "      <td>0</td>\n",
       "      <td>Aegon</td>\n",
       "      <td>Aegon N.V. is a multinational life insurance ...</td>\n",
       "    </tr>\n",
       "    <tr>\n",
       "      <th>96</th>\n",
       "      <td>0</td>\n",
       "      <td>Parliamentary Monitoring Services</td>\n",
       "      <td>Parliamentary Monitoring Services is a United...</td>\n",
       "    </tr>\n",
       "    <tr>\n",
       "      <th>97</th>\n",
       "      <td>0</td>\n",
       "      <td>Rossiya Bank</td>\n",
       "      <td>The Rossiya Bank (Bank Rossiya in Russian: Ак...</td>\n",
       "    </tr>\n",
       "    <tr>\n",
       "      <th>98</th>\n",
       "      <td>0</td>\n",
       "      <td>Third Wire</td>\n",
       "      <td>Third Wire Productions Inc. (also known simpl...</td>\n",
       "    </tr>\n",
       "    <tr>\n",
       "      <th>99</th>\n",
       "      <td>0</td>\n",
       "      <td>Callcredit</td>\n",
       "      <td>Callcredit Limited is a credit reference agen...</td>\n",
       "    </tr>\n",
       "  </tbody>\n",
       "</table>\n",
       "<p>100 rows × 3 columns</p>\n",
       "</div>"
      ],
      "text/plain": [
       "    label                              title  \\\n",
       "0       0                   E. D. Abbott Ltd   \n",
       "1       0                     Schwan-Stabilo   \n",
       "2       0                         Q-workshop   \n",
       "3       0  Marvell Software Solutions Israel   \n",
       "4       0        Bergan Mercy Medical Center   \n",
       "..    ...                                ...   \n",
       "95      0                              Aegon   \n",
       "96      0  Parliamentary Monitoring Services   \n",
       "97      0                       Rossiya Bank   \n",
       "98      0                         Third Wire   \n",
       "99      0                         Callcredit   \n",
       "\n",
       "                                              content  \n",
       "0    Abbott of Farnham E D Abbott Limited was a Br...  \n",
       "1    Schwan-STABILO is a German maker of pens for ...  \n",
       "2    Q-workshop is a Polish company located in Poz...  \n",
       "3    Marvell Software Solutions Israel known as RA...  \n",
       "4    Bergan Mercy Medical Center is a hospital loc...  \n",
       "..                                                ...  \n",
       "95   Aegon N.V. is a multinational life insurance ...  \n",
       "96   Parliamentary Monitoring Services is a United...  \n",
       "97   The Rossiya Bank (Bank Rossiya in Russian: Ак...  \n",
       "98   Third Wire Productions Inc. (also known simpl...  \n",
       "99   Callcredit Limited is a credit reference agen...  \n",
       "\n",
       "[100 rows x 3 columns]"
      ]
     },
     "execution_count": 4,
     "metadata": {},
     "output_type": "execute_result"
    }
   ],
   "source": [
    "pd.DataFrame([line[\"row\"] for line in data[\"rows\"]])"
   ]
  },
  {
   "attachments": {},
   "cell_type": "markdown",
   "metadata": {},
   "source": [
    "# Data downloading"
   ]
  },
  {
   "cell_type": "code",
   "execution_count": 5,
   "metadata": {},
   "outputs": [
    {
     "data": {
      "text/plain": [
       "['train', 'test']"
      ]
     },
     "execution_count": 5,
     "metadata": {},
     "output_type": "execute_result"
    }
   ],
   "source": [
    "get_dataset_split_names(\"dbpedia_14\")"
   ]
  },
  {
   "cell_type": "code",
   "execution_count": 6,
   "metadata": {},
   "outputs": [
    {
     "data": {
      "text/plain": [
       "['dbpedia_14']"
      ]
     },
     "execution_count": 6,
     "metadata": {},
     "output_type": "execute_result"
    }
   ],
   "source": [
    "get_dataset_config_names(\"dbpedia_14\")"
   ]
  },
  {
   "cell_type": "code",
   "execution_count": 7,
   "metadata": {},
   "outputs": [
    {
     "name": "stderr",
     "output_type": "stream",
     "text": [
      "Found cached dataset dbpedia_14 (/Users/javier/.cache/huggingface/datasets/dbpedia_14/dbpedia_14/2.0.0/01dab9e10d969eadcdbc918be5a09c9190a24caeae33b10eee8f367a1e3f1f0c)\n",
      "Found cached dataset dbpedia_14 (/Users/javier/.cache/huggingface/datasets/dbpedia_14/dbpedia_14/2.0.0/01dab9e10d969eadcdbc918be5a09c9190a24caeae33b10eee8f367a1e3f1f0c)\n"
     ]
    }
   ],
   "source": [
    "data_train = load_dataset(\"dbpedia_14\", split = \"train\")\n",
    "data_test = load_dataset(\"dbpedia_14\", split = \"test\")"
   ]
  },
  {
   "cell_type": "code",
   "execution_count": 8,
   "metadata": {},
   "outputs": [
    {
     "data": {
      "text/plain": [
       "Dataset({\n",
       "    features: ['label', 'title', 'content'],\n",
       "    num_rows: 560000\n",
       "})"
      ]
     },
     "execution_count": 8,
     "metadata": {},
     "output_type": "execute_result"
    }
   ],
   "source": [
    "data_train"
   ]
  },
  {
   "cell_type": "code",
   "execution_count": 9,
   "metadata": {},
   "outputs": [
    {
     "data": {
      "text/plain": [
       "Dataset({\n",
       "    features: ['label', 'title', 'content'],\n",
       "    num_rows: 70000\n",
       "})"
      ]
     },
     "execution_count": 9,
     "metadata": {},
     "output_type": "execute_result"
    }
   ],
   "source": [
    "data_test"
   ]
  },
  {
   "cell_type": "code",
   "execution_count": 10,
   "metadata": {},
   "outputs": [
    {
     "data": {
      "text/html": [
       "<div>\n",
       "<style scoped>\n",
       "    .dataframe tbody tr th:only-of-type {\n",
       "        vertical-align: middle;\n",
       "    }\n",
       "\n",
       "    .dataframe tbody tr th {\n",
       "        vertical-align: top;\n",
       "    }\n",
       "\n",
       "    .dataframe thead th {\n",
       "        text-align: right;\n",
       "    }\n",
       "</style>\n",
       "<table border=\"1\" class=\"dataframe\">\n",
       "  <thead>\n",
       "    <tr style=\"text-align: right;\">\n",
       "      <th></th>\n",
       "      <th>label</th>\n",
       "      <th>title</th>\n",
       "      <th>content</th>\n",
       "    </tr>\n",
       "  </thead>\n",
       "  <tbody>\n",
       "    <tr>\n",
       "      <th>0</th>\n",
       "      <td>0</td>\n",
       "      <td>E. D. Abbott Ltd</td>\n",
       "      <td>Abbott of Farnham E D Abbott Limited was a Br...</td>\n",
       "    </tr>\n",
       "    <tr>\n",
       "      <th>1</th>\n",
       "      <td>0</td>\n",
       "      <td>Schwan-Stabilo</td>\n",
       "      <td>Schwan-STABILO is a German maker of pens for ...</td>\n",
       "    </tr>\n",
       "    <tr>\n",
       "      <th>2</th>\n",
       "      <td>0</td>\n",
       "      <td>Q-workshop</td>\n",
       "      <td>Q-workshop is a Polish company located in Poz...</td>\n",
       "    </tr>\n",
       "    <tr>\n",
       "      <th>3</th>\n",
       "      <td>0</td>\n",
       "      <td>Marvell Software Solutions Israel</td>\n",
       "      <td>Marvell Software Solutions Israel known as RA...</td>\n",
       "    </tr>\n",
       "    <tr>\n",
       "      <th>4</th>\n",
       "      <td>0</td>\n",
       "      <td>Bergan Mercy Medical Center</td>\n",
       "      <td>Bergan Mercy Medical Center is a hospital loc...</td>\n",
       "    </tr>\n",
       "    <tr>\n",
       "      <th>...</th>\n",
       "      <td>...</td>\n",
       "      <td>...</td>\n",
       "      <td>...</td>\n",
       "    </tr>\n",
       "    <tr>\n",
       "      <th>559995</th>\n",
       "      <td>13</td>\n",
       "      <td>Barking in Essex</td>\n",
       "      <td>Barking in Essex is a Black comedy play direc...</td>\n",
       "    </tr>\n",
       "    <tr>\n",
       "      <th>559996</th>\n",
       "      <td>13</td>\n",
       "      <td>Science &amp; Spirit</td>\n",
       "      <td>Science &amp; Spirit is a discontinued American b...</td>\n",
       "    </tr>\n",
       "    <tr>\n",
       "      <th>559997</th>\n",
       "      <td>13</td>\n",
       "      <td>The Blithedale Romance</td>\n",
       "      <td>The Blithedale Romance (1852) is Nathaniel Ha...</td>\n",
       "    </tr>\n",
       "    <tr>\n",
       "      <th>559998</th>\n",
       "      <td>13</td>\n",
       "      <td>Razadarit Ayedawbon</td>\n",
       "      <td>Razadarit Ayedawbon (Burmese: ရာဇာဓိရာဇ် အရေး...</td>\n",
       "    </tr>\n",
       "    <tr>\n",
       "      <th>559999</th>\n",
       "      <td>13</td>\n",
       "      <td>The Vinyl Cafe Notebooks</td>\n",
       "      <td>Vinyl Cafe Notebooks: a collection of essays ...</td>\n",
       "    </tr>\n",
       "  </tbody>\n",
       "</table>\n",
       "<p>560000 rows × 3 columns</p>\n",
       "</div>"
      ],
      "text/plain": [
       "        label                              title  \\\n",
       "0           0                   E. D. Abbott Ltd   \n",
       "1           0                     Schwan-Stabilo   \n",
       "2           0                         Q-workshop   \n",
       "3           0  Marvell Software Solutions Israel   \n",
       "4           0        Bergan Mercy Medical Center   \n",
       "...       ...                                ...   \n",
       "559995     13                   Barking in Essex   \n",
       "559996     13                   Science & Spirit   \n",
       "559997     13             The Blithedale Romance   \n",
       "559998     13                Razadarit Ayedawbon   \n",
       "559999     13           The Vinyl Cafe Notebooks   \n",
       "\n",
       "                                                  content  \n",
       "0        Abbott of Farnham E D Abbott Limited was a Br...  \n",
       "1        Schwan-STABILO is a German maker of pens for ...  \n",
       "2        Q-workshop is a Polish company located in Poz...  \n",
       "3        Marvell Software Solutions Israel known as RA...  \n",
       "4        Bergan Mercy Medical Center is a hospital loc...  \n",
       "...                                                   ...  \n",
       "559995   Barking in Essex is a Black comedy play direc...  \n",
       "559996   Science & Spirit is a discontinued American b...  \n",
       "559997   The Blithedale Romance (1852) is Nathaniel Ha...  \n",
       "559998   Razadarit Ayedawbon (Burmese: ရာဇာဓိရာဇ် အရေး...  \n",
       "559999   Vinyl Cafe Notebooks: a collection of essays ...  \n",
       "\n",
       "[560000 rows x 3 columns]"
      ]
     },
     "execution_count": 10,
     "metadata": {},
     "output_type": "execute_result"
    }
   ],
   "source": [
    "# For some reason slicing loads faster the dataset (23s vs 1.9s)\n",
    "df_train = pd.DataFrame(data_train[:560000])\n",
    "df_train"
   ]
  },
  {
   "cell_type": "code",
   "execution_count": 11,
   "metadata": {},
   "outputs": [
    {
     "data": {
      "text/html": [
       "<div>\n",
       "<style scoped>\n",
       "    .dataframe tbody tr th:only-of-type {\n",
       "        vertical-align: middle;\n",
       "    }\n",
       "\n",
       "    .dataframe tbody tr th {\n",
       "        vertical-align: top;\n",
       "    }\n",
       "\n",
       "    .dataframe thead th {\n",
       "        text-align: right;\n",
       "    }\n",
       "</style>\n",
       "<table border=\"1\" class=\"dataframe\">\n",
       "  <thead>\n",
       "    <tr style=\"text-align: right;\">\n",
       "      <th></th>\n",
       "      <th>label</th>\n",
       "      <th>title</th>\n",
       "      <th>content</th>\n",
       "    </tr>\n",
       "  </thead>\n",
       "  <tbody>\n",
       "    <tr>\n",
       "      <th>0</th>\n",
       "      <td>0</td>\n",
       "      <td>TY KU</td>\n",
       "      <td>TY KU /taɪkuː/ is an American alcoholic bever...</td>\n",
       "    </tr>\n",
       "    <tr>\n",
       "      <th>1</th>\n",
       "      <td>0</td>\n",
       "      <td>Odd Lot Entertainment</td>\n",
       "      <td>OddLot Entertainment founded in 2001 by longt...</td>\n",
       "    </tr>\n",
       "    <tr>\n",
       "      <th>2</th>\n",
       "      <td>0</td>\n",
       "      <td>Henkel</td>\n",
       "      <td>Henkel AG &amp; Company KGaA operates worldwide w...</td>\n",
       "    </tr>\n",
       "    <tr>\n",
       "      <th>3</th>\n",
       "      <td>0</td>\n",
       "      <td>GOAT Store</td>\n",
       "      <td>The GOAT Store (Games Of All Type Store) LLC ...</td>\n",
       "    </tr>\n",
       "    <tr>\n",
       "      <th>4</th>\n",
       "      <td>0</td>\n",
       "      <td>RagWing Aircraft Designs</td>\n",
       "      <td>RagWing Aircraft Designs (also called the Rag...</td>\n",
       "    </tr>\n",
       "  </tbody>\n",
       "</table>\n",
       "</div>"
      ],
      "text/plain": [
       "   label                     title  \\\n",
       "0      0                     TY KU   \n",
       "1      0     Odd Lot Entertainment   \n",
       "2      0                    Henkel   \n",
       "3      0                GOAT Store   \n",
       "4      0  RagWing Aircraft Designs   \n",
       "\n",
       "                                             content  \n",
       "0   TY KU /taɪkuː/ is an American alcoholic bever...  \n",
       "1   OddLot Entertainment founded in 2001 by longt...  \n",
       "2   Henkel AG & Company KGaA operates worldwide w...  \n",
       "3   The GOAT Store (Games Of All Type Store) LLC ...  \n",
       "4   RagWing Aircraft Designs (also called the Rag...  "
      ]
     },
     "execution_count": 11,
     "metadata": {},
     "output_type": "execute_result"
    }
   ],
   "source": [
    "# it has only 70000 rows, but for some reason slicing loads faster the dataset\n",
    "df_test = pd.DataFrame(data_test[:70000])\n",
    "df_test.head()"
   ]
  },
  {
   "attachments": {},
   "cell_type": "markdown",
   "metadata": {},
   "source": [
    "### Labels distribution"
   ]
  },
  {
   "attachments": {},
   "cell_type": "markdown",
   "metadata": {},
   "source": [
    "The data is completely balanced, as shown in the plots"
   ]
  },
  {
   "cell_type": "code",
   "execution_count": 64,
   "metadata": {},
   "outputs": [
    {
     "data": {
      "text/plain": [
       "[Text(0.5, 1.0, 'Histogram of training set labels')]"
      ]
     },
     "execution_count": 64,
     "metadata": {},
     "output_type": "execute_result"
    },
    {
     "data": {
      "image/png": "[encoded data removed]",
      "text/plain": [
       "<Figure size 640x480 with 1 Axes>"
      ]
     },
     "metadata": {},
     "output_type": "display_data"
    }
   ],
   "source": [
    "ax = sns.histplot(data=df_train, x=\"label\", bins = len(df_train[\"label\"].unique()))\n",
    "ax.set(title = \"Histogram of training set labels\")"
   ]
  },
  {
   "cell_type": "code",
   "execution_count": 63,
   "metadata": {},
   "outputs": [
    {
     "data": {
      "text/plain": [
       "[Text(0.5, 1.0, 'Histogram of training set labels')]"
      ]
     },
     "execution_count": 63,
     "metadata": {},
     "output_type": "execute_result"
    },
    {
     "data": {
      "image/png": "[encoded data removed]",
      "text/plain": [
       "<Figure size 640x480 with 1 Axes>"
      ]
     },
     "metadata": {},
     "output_type": "display_data"
    }
   ],
   "source": [
    "ax = sns.histplot(data=df_test, x=\"label\", bins = len(df_test[\"label\"].unique()))\n",
    "ax.set(title = \"Histogram of training set labels\")"
   ]
  },
  {
   "attachments": {},
   "cell_type": "markdown",
   "metadata": {},
   "source": [
    "### Cleaning data:\n",
    "\n",
    "We have some text with non-english characters"
   ]
  },
  {
   "cell_type": "code",
   "execution_count": 16,
   "metadata": {},
   "outputs": [],
   "source": [
    "def isEnglish(s):\n",
    "    try:\n",
    "        s[\"content\"].encode(encoding='utf-8').decode('ascii')\n",
    "        s[\"title\"].encode(encoding='utf-8').decode('ascii')\n",
    "    except UnicodeDecodeError:\n",
    "        pass\n",
    "    else:\n",
    "        return s"
   ]
  },
  {
   "cell_type": "code",
   "execution_count": 31,
   "metadata": {},
   "outputs": [
    {
     "name": "stdout",
     "output_type": "stream",
     "text": [
      "<class 'pandas.core.frame.DataFrame'>\n",
      "RangeIndex: 560000 entries, 0 to 559999\n",
      "Data columns (total 3 columns):\n",
      " #   Column   Non-Null Count   Dtype \n",
      "---  ------   --------------   ----- \n",
      " 0   label    560000 non-null  int64 \n",
      " 1   title    560000 non-null  object\n",
      " 2   content  560000 non-null  object\n",
      "dtypes: int64(1), object(2)\n",
      "memory usage: 12.8+ MB\n"
     ]
    }
   ],
   "source": [
    "df_train.info()"
   ]
  },
  {
   "cell_type": "code",
   "execution_count": 30,
   "metadata": {},
   "outputs": [
    {
     "name": "stdout",
     "output_type": "stream",
     "text": [
      "<class 'pandas.core.frame.DataFrame'>\n",
      "RangeIndex: 70000 entries, 0 to 69999\n",
      "Data columns (total 3 columns):\n",
      " #   Column   Non-Null Count  Dtype \n",
      "---  ------   --------------  ----- \n",
      " 0   label    70000 non-null  int64 \n",
      " 1   title    70000 non-null  object\n",
      " 2   content  70000 non-null  object\n",
      "dtypes: int64(1), object(2)\n",
      "memory usage: 1.6+ MB\n"
     ]
    }
   ],
   "source": [
    "df_test.info()"
   ]
  },
  {
   "cell_type": "code",
   "execution_count": 37,
   "metadata": {},
   "outputs": [],
   "source": [
    "df_train_with_na = df_train.apply(isEnglish, axis=1)\n",
    "df_test_with_na = df_test.apply(isEnglish, axis=1)\n"
   ]
  },
  {
   "cell_type": "code",
   "execution_count": 75,
   "metadata": {},
   "outputs": [
    {
     "data": {
      "text/html": [
       "<div>\n",
       "<style scoped>\n",
       "    .dataframe tbody tr th:only-of-type {\n",
       "        vertical-align: middle;\n",
       "    }\n",
       "\n",
       "    .dataframe tbody tr th {\n",
       "        vertical-align: top;\n",
       "    }\n",
       "\n",
       "    .dataframe thead th {\n",
       "        text-align: right;\n",
       "    }\n",
       "</style>\n",
       "<table border=\"1\" class=\"dataframe\">\n",
       "  <thead>\n",
       "    <tr style=\"text-align: right;\">\n",
       "      <th></th>\n",
       "      <th>label</th>\n",
       "      <th>title</th>\n",
       "      <th>content</th>\n",
       "    </tr>\n",
       "  </thead>\n",
       "  <tbody>\n",
       "    <tr>\n",
       "      <th>2</th>\n",
       "      <td>0.0</td>\n",
       "      <td>Q-workshop</td>\n",
       "      <td>Q-workshop is a Polish company located in Poz...</td>\n",
       "    </tr>\n",
       "    <tr>\n",
       "      <th>10</th>\n",
       "      <td>0.0</td>\n",
       "      <td>Angstrem (company)</td>\n",
       "      <td>Angstrem Group (Russian: ОАО «Ангстрем» named...</td>\n",
       "    </tr>\n",
       "    <tr>\n",
       "      <th>12</th>\n",
       "      <td>0.0</td>\n",
       "      <td>JVC</td>\n",
       "      <td>Victor Company of Japan Ltd (日本ビクター株式会社 Nippo...</td>\n",
       "    </tr>\n",
       "    <tr>\n",
       "      <th>13</th>\n",
       "      <td>0.0</td>\n",
       "      <td>Toei Bus</td>\n",
       "      <td>The Toei Bus (都営バス Toei Basu) is a bus servic...</td>\n",
       "    </tr>\n",
       "    <tr>\n",
       "      <th>18</th>\n",
       "      <td>0.0</td>\n",
       "      <td>CIB Bank</td>\n",
       "      <td>CIB Bank is the second-biggest commercial ban...</td>\n",
       "    </tr>\n",
       "  </tbody>\n",
       "</table>\n",
       "</div>"
      ],
      "text/plain": [
       "    label               title  \\\n",
       "2     0.0          Q-workshop   \n",
       "10    0.0  Angstrem (company)   \n",
       "12    0.0                 JVC   \n",
       "13    0.0            Toei Bus   \n",
       "18    0.0            CIB Bank   \n",
       "\n",
       "                                              content  \n",
       "2    Q-workshop is a Polish company located in Poz...  \n",
       "10   Angstrem Group (Russian: ОАО «Ангстрем» named...  \n",
       "12   Victor Company of Japan Ltd (日本ビクター株式会社 Nippo...  \n",
       "13   The Toei Bus (都営バス Toei Basu) is a bus servic...  \n",
       "18   CIB Bank is the second-biggest commercial ban...  "
      ]
     },
     "execution_count": 75,
     "metadata": {},
     "output_type": "execute_result"
    }
   ],
   "source": [
    "examples_non_english_train = df_train[df_train_with_na.isna()].dropna(how=\"any\")\n",
    "examples_non_english_train.head()"
   ]
  },
  {
   "cell_type": "code",
   "execution_count": 36,
   "metadata": {},
   "outputs": [
    {
     "data": {
      "text/html": [
       "<div>\n",
       "<style scoped>\n",
       "    .dataframe tbody tr th:only-of-type {\n",
       "        vertical-align: middle;\n",
       "    }\n",
       "\n",
       "    .dataframe tbody tr th {\n",
       "        vertical-align: top;\n",
       "    }\n",
       "\n",
       "    .dataframe thead th {\n",
       "        text-align: right;\n",
       "    }\n",
       "</style>\n",
       "<table border=\"1\" class=\"dataframe\">\n",
       "  <thead>\n",
       "    <tr style=\"text-align: right;\">\n",
       "      <th></th>\n",
       "      <th>label</th>\n",
       "      <th>title</th>\n",
       "      <th>content</th>\n",
       "    </tr>\n",
       "  </thead>\n",
       "  <tbody>\n",
       "    <tr>\n",
       "      <th>0</th>\n",
       "      <td>0</td>\n",
       "      <td>TY KU</td>\n",
       "      <td>TY KU /taɪkuː/ is an American alcoholic bever...</td>\n",
       "    </tr>\n",
       "    <tr>\n",
       "      <th>2</th>\n",
       "      <td>0</td>\n",
       "      <td>Henkel</td>\n",
       "      <td>Henkel AG &amp; Company KGaA operates worldwide w...</td>\n",
       "    </tr>\n",
       "    <tr>\n",
       "      <th>5</th>\n",
       "      <td>0</td>\n",
       "      <td>Pošte Srpske</td>\n",
       "      <td>Pošte Srpske is one of three companies respon...</td>\n",
       "    </tr>\n",
       "    <tr>\n",
       "      <th>13</th>\n",
       "      <td>0</td>\n",
       "      <td>Shell Oil Company</td>\n",
       "      <td>Shell Oil Company is the United States-based ...</td>\n",
       "    </tr>\n",
       "    <tr>\n",
       "      <th>22</th>\n",
       "      <td>0</td>\n",
       "      <td>Korchma Taras Bulba</td>\n",
       "      <td>Korchma Taras Bulba – the chain of restaurant...</td>\n",
       "    </tr>\n",
       "  </tbody>\n",
       "</table>\n",
       "</div>"
      ],
      "text/plain": [
       "    label                title  \\\n",
       "0       0                TY KU   \n",
       "2       0               Henkel   \n",
       "5       0         Pošte Srpske   \n",
       "13      0    Shell Oil Company   \n",
       "22      0  Korchma Taras Bulba   \n",
       "\n",
       "                                              content  \n",
       "0    TY KU /taɪkuː/ is an American alcoholic bever...  \n",
       "2    Henkel AG & Company KGaA operates worldwide w...  \n",
       "5    Pošte Srpske is one of three companies respon...  \n",
       "13   Shell Oil Company is the United States-based ...  \n",
       "22   Korchma Taras Bulba – the chain of restaurant...  "
      ]
     },
     "execution_count": 36,
     "metadata": {},
     "output_type": "execute_result"
    }
   ],
   "source": [
    "examples_non_english_test = df_test[df_test_with_na.isna()].dropna(how=\"any\")\n",
    "examples_non_english_test.head()"
   ]
  },
  {
   "cell_type": "code",
   "execution_count": 38,
   "metadata": {},
   "outputs": [
    {
     "data": {
      "text/html": [
       "<div>\n",
       "<style scoped>\n",
       "    .dataframe tbody tr th:only-of-type {\n",
       "        vertical-align: middle;\n",
       "    }\n",
       "\n",
       "    .dataframe tbody tr th {\n",
       "        vertical-align: top;\n",
       "    }\n",
       "\n",
       "    .dataframe thead th {\n",
       "        text-align: right;\n",
       "    }\n",
       "</style>\n",
       "<table border=\"1\" class=\"dataframe\">\n",
       "  <thead>\n",
       "    <tr style=\"text-align: right;\">\n",
       "      <th></th>\n",
       "      <th>label</th>\n",
       "      <th>title</th>\n",
       "      <th>content</th>\n",
       "    </tr>\n",
       "  </thead>\n",
       "  <tbody>\n",
       "    <tr>\n",
       "      <th>0</th>\n",
       "      <td>0.0</td>\n",
       "      <td>E. D. Abbott Ltd</td>\n",
       "      <td>Abbott of Farnham E D Abbott Limited was a Br...</td>\n",
       "    </tr>\n",
       "    <tr>\n",
       "      <th>1</th>\n",
       "      <td>0.0</td>\n",
       "      <td>Schwan-Stabilo</td>\n",
       "      <td>Schwan-STABILO is a German maker of pens for ...</td>\n",
       "    </tr>\n",
       "    <tr>\n",
       "      <th>3</th>\n",
       "      <td>0.0</td>\n",
       "      <td>Marvell Software Solutions Israel</td>\n",
       "      <td>Marvell Software Solutions Israel known as RA...</td>\n",
       "    </tr>\n",
       "    <tr>\n",
       "      <th>4</th>\n",
       "      <td>0.0</td>\n",
       "      <td>Bergan Mercy Medical Center</td>\n",
       "      <td>Bergan Mercy Medical Center is a hospital loc...</td>\n",
       "    </tr>\n",
       "    <tr>\n",
       "      <th>5</th>\n",
       "      <td>0.0</td>\n",
       "      <td>The Unsigned Guide</td>\n",
       "      <td>The Unsigned Guide is an online contacts dire...</td>\n",
       "    </tr>\n",
       "    <tr>\n",
       "      <th>...</th>\n",
       "      <td>...</td>\n",
       "      <td>...</td>\n",
       "      <td>...</td>\n",
       "    </tr>\n",
       "    <tr>\n",
       "      <th>559994</th>\n",
       "      <td>13.0</td>\n",
       "      <td>Scoliosis (journal)</td>\n",
       "      <td>Scoliosis (ISSN 1748-7161) is an open-access ...</td>\n",
       "    </tr>\n",
       "    <tr>\n",
       "      <th>559995</th>\n",
       "      <td>13.0</td>\n",
       "      <td>Barking in Essex</td>\n",
       "      <td>Barking in Essex is a Black comedy play direc...</td>\n",
       "    </tr>\n",
       "    <tr>\n",
       "      <th>559996</th>\n",
       "      <td>13.0</td>\n",
       "      <td>Science &amp; Spirit</td>\n",
       "      <td>Science &amp; Spirit is a discontinued American b...</td>\n",
       "    </tr>\n",
       "    <tr>\n",
       "      <th>559997</th>\n",
       "      <td>13.0</td>\n",
       "      <td>The Blithedale Romance</td>\n",
       "      <td>The Blithedale Romance (1852) is Nathaniel Ha...</td>\n",
       "    </tr>\n",
       "    <tr>\n",
       "      <th>559999</th>\n",
       "      <td>13.0</td>\n",
       "      <td>The Vinyl Cafe Notebooks</td>\n",
       "      <td>Vinyl Cafe Notebooks: a collection of essays ...</td>\n",
       "    </tr>\n",
       "  </tbody>\n",
       "</table>\n",
       "<p>385749 rows × 3 columns</p>\n",
       "</div>"
      ],
      "text/plain": [
       "        label                              title  \\\n",
       "0         0.0                   E. D. Abbott Ltd   \n",
       "1         0.0                     Schwan-Stabilo   \n",
       "3         0.0  Marvell Software Solutions Israel   \n",
       "4         0.0        Bergan Mercy Medical Center   \n",
       "5         0.0                 The Unsigned Guide   \n",
       "...       ...                                ...   \n",
       "559994   13.0                Scoliosis (journal)   \n",
       "559995   13.0                   Barking in Essex   \n",
       "559996   13.0                   Science & Spirit   \n",
       "559997   13.0             The Blithedale Romance   \n",
       "559999   13.0           The Vinyl Cafe Notebooks   \n",
       "\n",
       "                                                  content  \n",
       "0        Abbott of Farnham E D Abbott Limited was a Br...  \n",
       "1        Schwan-STABILO is a German maker of pens for ...  \n",
       "3        Marvell Software Solutions Israel known as RA...  \n",
       "4        Bergan Mercy Medical Center is a hospital loc...  \n",
       "5        The Unsigned Guide is an online contacts dire...  \n",
       "...                                                   ...  \n",
       "559994   Scoliosis (ISSN 1748-7161) is an open-access ...  \n",
       "559995   Barking in Essex is a Black comedy play direc...  \n",
       "559996   Science & Spirit is a discontinued American b...  \n",
       "559997   The Blithedale Romance (1852) is Nathaniel Ha...  \n",
       "559999   Vinyl Cafe Notebooks: a collection of essays ...  \n",
       "\n",
       "[385749 rows x 3 columns]"
      ]
     },
     "execution_count": 38,
     "metadata": {},
     "output_type": "execute_result"
    }
   ],
   "source": [
    "clean_df_train = df_train_with_na.dropna(how=\"any\")\n",
    "clean_df_train"
   ]
  },
  {
   "cell_type": "code",
   "execution_count": 42,
   "metadata": {},
   "outputs": [
    {
     "data": {
      "text/html": [
       "<div>\n",
       "<style scoped>\n",
       "    .dataframe tbody tr th:only-of-type {\n",
       "        vertical-align: middle;\n",
       "    }\n",
       "\n",
       "    .dataframe tbody tr th {\n",
       "        vertical-align: top;\n",
       "    }\n",
       "\n",
       "    .dataframe thead th {\n",
       "        text-align: right;\n",
       "    }\n",
       "</style>\n",
       "<table border=\"1\" class=\"dataframe\">\n",
       "  <thead>\n",
       "    <tr style=\"text-align: right;\">\n",
       "      <th></th>\n",
       "      <th>label</th>\n",
       "      <th>title</th>\n",
       "      <th>content</th>\n",
       "    </tr>\n",
       "  </thead>\n",
       "  <tbody>\n",
       "    <tr>\n",
       "      <th>1</th>\n",
       "      <td>0</td>\n",
       "      <td>Odd Lot Entertainment</td>\n",
       "      <td>OddLot Entertainment founded in 2001 by longt...</td>\n",
       "    </tr>\n",
       "    <tr>\n",
       "      <th>3</th>\n",
       "      <td>0</td>\n",
       "      <td>GOAT Store</td>\n",
       "      <td>The GOAT Store (Games Of All Type Store) LLC ...</td>\n",
       "    </tr>\n",
       "    <tr>\n",
       "      <th>4</th>\n",
       "      <td>0</td>\n",
       "      <td>RagWing Aircraft Designs</td>\n",
       "      <td>RagWing Aircraft Designs (also called the Rag...</td>\n",
       "    </tr>\n",
       "    <tr>\n",
       "      <th>6</th>\n",
       "      <td>0</td>\n",
       "      <td>Open Kernel Labs</td>\n",
       "      <td>Open Kernel Labs (OK Labs) is a privately own...</td>\n",
       "    </tr>\n",
       "    <tr>\n",
       "      <th>7</th>\n",
       "      <td>0</td>\n",
       "      <td>Skye Bank</td>\n",
       "      <td>Skye Bank Plc. commonly known as Skye Bank is...</td>\n",
       "    </tr>\n",
       "    <tr>\n",
       "      <th>...</th>\n",
       "      <td>...</td>\n",
       "      <td>...</td>\n",
       "      <td>...</td>\n",
       "    </tr>\n",
       "    <tr>\n",
       "      <th>69992</th>\n",
       "      <td>13</td>\n",
       "      <td>Sometimes the Magic Works</td>\n",
       "      <td>Sometimes the Magic Works: Lessons from a Wri...</td>\n",
       "    </tr>\n",
       "    <tr>\n",
       "      <th>69993</th>\n",
       "      <td>13</td>\n",
       "      <td>Zia (novel)</td>\n",
       "      <td>Zia is the sequel to the award-winning Island...</td>\n",
       "    </tr>\n",
       "    <tr>\n",
       "      <th>69994</th>\n",
       "      <td>13</td>\n",
       "      <td>Scottish Socialist Voice</td>\n",
       "      <td>The Scottish Socialist Voice is a political n...</td>\n",
       "    </tr>\n",
       "    <tr>\n",
       "      <th>69995</th>\n",
       "      <td>13</td>\n",
       "      <td>Energy Victory</td>\n",
       "      <td>Energy Victory: Winning the War on Terror by ...</td>\n",
       "    </tr>\n",
       "    <tr>\n",
       "      <th>69999</th>\n",
       "      <td>13</td>\n",
       "      <td>The Prophecy (novel)</td>\n",
       "      <td>The Prophecy is the fifth novel by New York T...</td>\n",
       "    </tr>\n",
       "  </tbody>\n",
       "</table>\n",
       "<p>48117 rows × 3 columns</p>\n",
       "</div>"
      ],
      "text/plain": [
       "       label                      title  \\\n",
       "1          0      Odd Lot Entertainment   \n",
       "3          0                 GOAT Store   \n",
       "4          0   RagWing Aircraft Designs   \n",
       "6          0           Open Kernel Labs   \n",
       "7          0                  Skye Bank   \n",
       "...      ...                        ...   \n",
       "69992     13  Sometimes the Magic Works   \n",
       "69993     13                Zia (novel)   \n",
       "69994     13   Scottish Socialist Voice   \n",
       "69995     13             Energy Victory   \n",
       "69999     13       The Prophecy (novel)   \n",
       "\n",
       "                                                 content  \n",
       "1       OddLot Entertainment founded in 2001 by longt...  \n",
       "3       The GOAT Store (Games Of All Type Store) LLC ...  \n",
       "4       RagWing Aircraft Designs (also called the Rag...  \n",
       "6       Open Kernel Labs (OK Labs) is a privately own...  \n",
       "7       Skye Bank Plc. commonly known as Skye Bank is...  \n",
       "...                                                  ...  \n",
       "69992   Sometimes the Magic Works: Lessons from a Wri...  \n",
       "69993   Zia is the sequel to the award-winning Island...  \n",
       "69994   The Scottish Socialist Voice is a political n...  \n",
       "69995   Energy Victory: Winning the War on Terror by ...  \n",
       "69999   The Prophecy is the fifth novel by New York T...  \n",
       "\n",
       "[48117 rows x 3 columns]"
      ]
     },
     "execution_count": 42,
     "metadata": {},
     "output_type": "execute_result"
    }
   ],
   "source": [
    "clean_df_test = df_test[~df_test_with_na.isna()]\n",
    "clean_df_test.head()"
   ]
  },
  {
   "attachments": {},
   "cell_type": "markdown",
   "metadata": {},
   "source": [
    "Deleting rows containing non-english characters has made the dataset unbalanced. This is something to take into account for future iterations. "
   ]
  },
  {
   "cell_type": "code",
   "execution_count": 61,
   "metadata": {},
   "outputs": [
    {
     "data": {
      "text/plain": [
       "[Text(0.5, 1.0, 'Histogram of training set labels')]"
      ]
     },
     "execution_count": 61,
     "metadata": {},
     "output_type": "execute_result"
    },
    {
     "data": {
      "image/png": "[encoded data removed]",
      "text/plain": [
       "<Figure size 640x480 with 1 Axes>"
      ]
     },
     "metadata": {},
     "output_type": "display_data"
    }
   ],
   "source": [
    "ax = sns.histplot(data=clean_df_train, x=\"label\", bins = len(clean_df_train[\"label\"].unique()))\n",
    "ax.set(title = \"Histogram of training set labels\")"
   ]
  },
  {
   "cell_type": "code",
   "execution_count": 62,
   "metadata": {},
   "outputs": [
    {
     "data": {
      "text/plain": [
       "[Text(0.5, 1.0, 'Histogram of training set labels')]"
      ]
     },
     "execution_count": 62,
     "metadata": {},
     "output_type": "execute_result"
    },
    {
     "data": {
      "image/png": "[encoded data removed]",
      "text/plain": [
       "<Figure size 640x480 with 1 Axes>"
      ]
     },
     "metadata": {},
     "output_type": "display_data"
    }
   ],
   "source": [
    "ax = sns.histplot(data=clean_df_test, x=\"label\", bins = len(clean_df_test[\"label\"].unique()))\n",
    "ax.set(title = \"Histogram of training set labels\")"
   ]
  },
  {
   "attachments": {},
   "cell_type": "markdown",
   "metadata": {},
   "source": [
    "### Saving the data in reduced csv files"
   ]
  },
  {
   "cell_type": "code",
   "execution_count": 65,
   "metadata": {},
   "outputs": [],
   "source": [
    "clean_df_train.to_csv('clean_df_train.csv', index=False)\n",
    "clean_df_test.to_csv('clean_df_test.csv', index=False)"
   ]
  }
 ],
 "metadata": {
  "kernelspec": {
   "display_name": "Python 3",
   "language": "python",
   "name": "python3"
  },
  "language_info": {
   "codemirror_mode": {
    "name": "ipython",
    "version": 3
   },
   "file_extension": ".py",
   "mimetype": "text/x-python",
   "name": "python",
   "nbconvert_exporter": "python",
   "pygments_lexer": "ipython3",
   "version": "3.8.10"
  },
  "orig_nbformat": 4,
  "vscode": {
   "interpreter": {
    "hash": "aee8b7b246df8f9039afb4144a1f6fd8d2ca17a180786b69acc140d282b71a49"
   }
  }
 },
 "nbformat": 4,
 "nbformat_minor": 2
}
