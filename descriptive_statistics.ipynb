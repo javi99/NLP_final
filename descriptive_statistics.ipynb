{
 "cells": [
  {
   "cell_type": "code",
   "execution_count": 1,
   "metadata": {},
   "outputs": [],
   "source": [
    "import json\n",
    "import pandas as pd\n",
    "\n",
    "from datasets import load_dataset,get_dataset_split_names, get_dataset_config_names #hugging face datasets"
   ]
  },
  {
   "attachments": {},
   "cell_type": "markdown",
   "metadata": {},
   "source": [
    "# Data preview"
   ]
  },
  {
   "cell_type": "code",
   "execution_count": 2,
   "metadata": {},
   "outputs": [],
   "source": [
    "import requests\n",
    "API_URL = \"https://datasets-server.huggingface.co/first-rows?dataset=dbpedia_14&config=dbpedia_14&split=train\"\n",
    "def query():\n",
    "    response = requests.request(\"GET\", API_URL)\n",
    "    return response.json()\n",
    "data = query()\n"
   ]
  },
  {
   "cell_type": "code",
   "execution_count": 3,
   "metadata": {},
   "outputs": [
    {
     "data": {
      "text/plain": [
       "dict_keys(['dataset', 'config', 'split', 'features', 'rows'])"
      ]
     },
     "execution_count": 3,
     "metadata": {},
     "output_type": "execute_result"
    }
   ],
   "source": [
    "data.keys()"
   ]
  },
  {
   "cell_type": "code",
   "execution_count": 4,
   "metadata": {},
   "outputs": [
    {
     "data": {
      "text/html": [
       "<div>\n",
       "<style scoped>\n",
       "    .dataframe tbody tr th:only-of-type {\n",
       "        vertical-align: middle;\n",
       "    }\n",
       "\n",
       "    .dataframe tbody tr th {\n",
       "        vertical-align: top;\n",
       "    }\n",
       "\n",
       "    .dataframe thead th {\n",
       "        text-align: right;\n",
       "    }\n",
       "</style>\n",
       "<table border=\"1\" class=\"dataframe\">\n",
       "  <thead>\n",
       "    <tr style=\"text-align: right;\">\n",
       "      <th></th>\n",
       "      <th>label</th>\n",
       "      <th>title</th>\n",
       "      <th>content</th>\n",
       "    </tr>\n",
       "  </thead>\n",
       "  <tbody>\n",
       "    <tr>\n",
       "      <th>0</th>\n",
       "      <td>0</td>\n",
       "      <td>E. D. Abbott Ltd</td>\n",
       "      <td>Abbott of Farnham E D Abbott Limited was a Br...</td>\n",
       "    </tr>\n",
       "    <tr>\n",
       "      <th>1</th>\n",
       "      <td>0</td>\n",
       "      <td>Schwan-Stabilo</td>\n",
       "      <td>Schwan-STABILO is a German maker of pens for ...</td>\n",
       "    </tr>\n",
       "    <tr>\n",
       "      <th>2</th>\n",
       "      <td>0</td>\n",
       "      <td>Q-workshop</td>\n",
       "      <td>Q-workshop is a Polish company located in Poz...</td>\n",
       "    </tr>\n",
       "    <tr>\n",
       "      <th>3</th>\n",
       "      <td>0</td>\n",
       "      <td>Marvell Software Solutions Israel</td>\n",
       "      <td>Marvell Software Solutions Israel known as RA...</td>\n",
       "    </tr>\n",
       "    <tr>\n",
       "      <th>4</th>\n",
       "      <td>0</td>\n",
       "      <td>Bergan Mercy Medical Center</td>\n",
       "      <td>Bergan Mercy Medical Center is a hospital loc...</td>\n",
       "    </tr>\n",
       "    <tr>\n",
       "      <th>...</th>\n",
       "      <td>...</td>\n",
       "      <td>...</td>\n",
       "      <td>...</td>\n",
       "    </tr>\n",
       "    <tr>\n",
       "      <th>95</th>\n",
       "      <td>0</td>\n",
       "      <td>Aegon</td>\n",
       "      <td>Aegon N.V. is a multinational life insurance ...</td>\n",
       "    </tr>\n",
       "    <tr>\n",
       "      <th>96</th>\n",
       "      <td>0</td>\n",
       "      <td>Parliamentary Monitoring Services</td>\n",
       "      <td>Parliamentary Monitoring Services is a United...</td>\n",
       "    </tr>\n",
       "    <tr>\n",
       "      <th>97</th>\n",
       "      <td>0</td>\n",
       "      <td>Rossiya Bank</td>\n",
       "      <td>The Rossiya Bank (Bank Rossiya in Russian: Ак...</td>\n",
       "    </tr>\n",
       "    <tr>\n",
       "      <th>98</th>\n",
       "      <td>0</td>\n",
       "      <td>Third Wire</td>\n",
       "      <td>Third Wire Productions Inc. (also known simpl...</td>\n",
       "    </tr>\n",
       "    <tr>\n",
       "      <th>99</th>\n",
       "      <td>0</td>\n",
       "      <td>Callcredit</td>\n",
       "      <td>Callcredit Limited is a credit reference agen...</td>\n",
       "    </tr>\n",
       "  </tbody>\n",
       "</table>\n",
       "<p>100 rows × 3 columns</p>\n",
       "</div>"
      ],
      "text/plain": [
       "    label                              title  \\\n",
       "0       0                   E. D. Abbott Ltd   \n",
       "1       0                     Schwan-Stabilo   \n",
       "2       0                         Q-workshop   \n",
       "3       0  Marvell Software Solutions Israel   \n",
       "4       0        Bergan Mercy Medical Center   \n",
       "..    ...                                ...   \n",
       "95      0                              Aegon   \n",
       "96      0  Parliamentary Monitoring Services   \n",
       "97      0                       Rossiya Bank   \n",
       "98      0                         Third Wire   \n",
       "99      0                         Callcredit   \n",
       "\n",
       "                                              content  \n",
       "0    Abbott of Farnham E D Abbott Limited was a Br...  \n",
       "1    Schwan-STABILO is a German maker of pens for ...  \n",
       "2    Q-workshop is a Polish company located in Poz...  \n",
       "3    Marvell Software Solutions Israel known as RA...  \n",
       "4    Bergan Mercy Medical Center is a hospital loc...  \n",
       "..                                                ...  \n",
       "95   Aegon N.V. is a multinational life insurance ...  \n",
       "96   Parliamentary Monitoring Services is a United...  \n",
       "97   The Rossiya Bank (Bank Rossiya in Russian: Ак...  \n",
       "98   Third Wire Productions Inc. (also known simpl...  \n",
       "99   Callcredit Limited is a credit reference agen...  \n",
       "\n",
       "[100 rows x 3 columns]"
      ]
     },
     "execution_count": 4,
     "metadata": {},
     "output_type": "execute_result"
    }
   ],
   "source": [
    "pd.DataFrame([line[\"row\"] for line in data[\"rows\"]])"
   ]
  },
  {
   "attachments": {},
   "cell_type": "markdown",
   "metadata": {},
   "source": [
    "# Data downloading"
   ]
  },
  {
   "cell_type": "code",
   "execution_count": 5,
   "metadata": {},
   "outputs": [
    {
     "data": {
      "text/plain": [
       "['train', 'test']"
      ]
     },
     "execution_count": 5,
     "metadata": {},
     "output_type": "execute_result"
    }
   ],
   "source": [
    "get_dataset_split_names(\"dbpedia_14\")"
   ]
  },
  {
   "cell_type": "code",
   "execution_count": 6,
   "metadata": {},
   "outputs": [
    {
     "data": {
      "text/plain": [
       "['dbpedia_14']"
      ]
     },
     "execution_count": 6,
     "metadata": {},
     "output_type": "execute_result"
    }
   ],
   "source": [
    "get_dataset_config_names(\"dbpedia_14\")"
   ]
  },
  {
   "cell_type": "code",
   "execution_count": 7,
   "metadata": {},
   "outputs": [
    {
     "name": "stderr",
     "output_type": "stream",
     "text": [
      "Found cached dataset dbpedia_14 (/Users/javier/.cache/huggingface/datasets/dbpedia_14/dbpedia_14/2.0.0/01dab9e10d969eadcdbc918be5a09c9190a24caeae33b10eee8f367a1e3f1f0c)\n",
      "Found cached dataset dbpedia_14 (/Users/javier/.cache/huggingface/datasets/dbpedia_14/dbpedia_14/2.0.0/01dab9e10d969eadcdbc918be5a09c9190a24caeae33b10eee8f367a1e3f1f0c)\n"
     ]
    }
   ],
   "source": [
    "data_train = load_dataset(\"dbpedia_14\", split = \"train\")\n",
    "data_test = load_dataset(\"dbpedia_14\", split = \"test\")"
   ]
  },
  {
   "cell_type": "code",
   "execution_count": 16,
   "metadata": {},
   "outputs": [
    {
     "data": {
      "text/plain": [
       "Dataset({\n",
       "    features: ['label', 'title', 'content'],\n",
       "    num_rows: 560000\n",
       "})"
      ]
     },
     "execution_count": 16,
     "metadata": {},
     "output_type": "execute_result"
    }
   ],
   "source": [
    "data_train"
   ]
  },
  {
   "cell_type": "code",
   "execution_count": 22,
   "metadata": {},
   "outputs": [
    {
     "data": {
      "text/plain": [
       "Dataset({\n",
       "    features: ['label', 'title', 'content'],\n",
       "    num_rows: 70000\n",
       "})"
      ]
     },
     "execution_count": 22,
     "metadata": {},
     "output_type": "execute_result"
    }
   ],
   "source": [
    "data_test"
   ]
  },
  {
   "cell_type": "code",
   "execution_count": 38,
   "metadata": {},
   "outputs": [
    {
     "data": {
      "text/html": [
       "<div>\n",
       "<style scoped>\n",
       "    .dataframe tbody tr th:only-of-type {\n",
       "        vertical-align: middle;\n",
       "    }\n",
       "\n",
       "    .dataframe tbody tr th {\n",
       "        vertical-align: top;\n",
       "    }\n",
       "\n",
       "    .dataframe thead th {\n",
       "        text-align: right;\n",
       "    }\n",
       "</style>\n",
       "<table border=\"1\" class=\"dataframe\">\n",
       "  <thead>\n",
       "    <tr style=\"text-align: right;\">\n",
       "      <th></th>\n",
       "      <th>label</th>\n",
       "      <th>title</th>\n",
       "      <th>content</th>\n",
       "    </tr>\n",
       "  </thead>\n",
       "  <tbody>\n",
       "    <tr>\n",
       "      <th>0</th>\n",
       "      <td>0</td>\n",
       "      <td>E. D. Abbott Ltd</td>\n",
       "      <td>Abbott of Farnham E D Abbott Limited was a Br...</td>\n",
       "    </tr>\n",
       "    <tr>\n",
       "      <th>1</th>\n",
       "      <td>0</td>\n",
       "      <td>Schwan-Stabilo</td>\n",
       "      <td>Schwan-STABILO is a German maker of pens for ...</td>\n",
       "    </tr>\n",
       "    <tr>\n",
       "      <th>2</th>\n",
       "      <td>0</td>\n",
       "      <td>Q-workshop</td>\n",
       "      <td>Q-workshop is a Polish company located in Poz...</td>\n",
       "    </tr>\n",
       "    <tr>\n",
       "      <th>3</th>\n",
       "      <td>0</td>\n",
       "      <td>Marvell Software Solutions Israel</td>\n",
       "      <td>Marvell Software Solutions Israel known as RA...</td>\n",
       "    </tr>\n",
       "    <tr>\n",
       "      <th>4</th>\n",
       "      <td>0</td>\n",
       "      <td>Bergan Mercy Medical Center</td>\n",
       "      <td>Bergan Mercy Medical Center is a hospital loc...</td>\n",
       "    </tr>\n",
       "    <tr>\n",
       "      <th>...</th>\n",
       "      <td>...</td>\n",
       "      <td>...</td>\n",
       "      <td>...</td>\n",
       "    </tr>\n",
       "    <tr>\n",
       "      <th>559995</th>\n",
       "      <td>13</td>\n",
       "      <td>Barking in Essex</td>\n",
       "      <td>Barking in Essex is a Black comedy play direc...</td>\n",
       "    </tr>\n",
       "    <tr>\n",
       "      <th>559996</th>\n",
       "      <td>13</td>\n",
       "      <td>Science &amp; Spirit</td>\n",
       "      <td>Science &amp; Spirit is a discontinued American b...</td>\n",
       "    </tr>\n",
       "    <tr>\n",
       "      <th>559997</th>\n",
       "      <td>13</td>\n",
       "      <td>The Blithedale Romance</td>\n",
       "      <td>The Blithedale Romance (1852) is Nathaniel Ha...</td>\n",
       "    </tr>\n",
       "    <tr>\n",
       "      <th>559998</th>\n",
       "      <td>13</td>\n",
       "      <td>Razadarit Ayedawbon</td>\n",
       "      <td>Razadarit Ayedawbon (Burmese: ရာဇာဓိရာဇ် အရေး...</td>\n",
       "    </tr>\n",
       "    <tr>\n",
       "      <th>559999</th>\n",
       "      <td>13</td>\n",
       "      <td>The Vinyl Cafe Notebooks</td>\n",
       "      <td>Vinyl Cafe Notebooks: a collection of essays ...</td>\n",
       "    </tr>\n",
       "  </tbody>\n",
       "</table>\n",
       "<p>560000 rows × 3 columns</p>\n",
       "</div>"
      ],
      "text/plain": [
       "        label                              title  \\\n",
       "0           0                   E. D. Abbott Ltd   \n",
       "1           0                     Schwan-Stabilo   \n",
       "2           0                         Q-workshop   \n",
       "3           0  Marvell Software Solutions Israel   \n",
       "4           0        Bergan Mercy Medical Center   \n",
       "...       ...                                ...   \n",
       "559995     13                   Barking in Essex   \n",
       "559996     13                   Science & Spirit   \n",
       "559997     13             The Blithedale Romance   \n",
       "559998     13                Razadarit Ayedawbon   \n",
       "559999     13           The Vinyl Cafe Notebooks   \n",
       "\n",
       "                                                  content  \n",
       "0        Abbott of Farnham E D Abbott Limited was a Br...  \n",
       "1        Schwan-STABILO is a German maker of pens for ...  \n",
       "2        Q-workshop is a Polish company located in Poz...  \n",
       "3        Marvell Software Solutions Israel known as RA...  \n",
       "4        Bergan Mercy Medical Center is a hospital loc...  \n",
       "...                                                   ...  \n",
       "559995   Barking in Essex is a Black comedy play direc...  \n",
       "559996   Science & Spirit is a discontinued American b...  \n",
       "559997   The Blithedale Romance (1852) is Nathaniel Ha...  \n",
       "559998   Razadarit Ayedawbon (Burmese: ရာဇာဓိရာဇ် အရေး...  \n",
       "559999   Vinyl Cafe Notebooks: a collection of essays ...  \n",
       "\n",
       "[560000 rows x 3 columns]"
      ]
     },
     "execution_count": 38,
     "metadata": {},
     "output_type": "execute_result"
    }
   ],
   "source": [
    "# For some reason slicing loads faster the dataset (23s vs 1.9s)\n",
    "df_train = pd.DataFrame(data_train[:560000])\n",
    "df_train"
   ]
  },
  {
   "cell_type": "code",
   "execution_count": 21,
   "metadata": {},
   "outputs": [
    {
     "data": {
      "text/html": [
       "<div>\n",
       "<style scoped>\n",
       "    .dataframe tbody tr th:only-of-type {\n",
       "        vertical-align: middle;\n",
       "    }\n",
       "\n",
       "    .dataframe tbody tr th {\n",
       "        vertical-align: top;\n",
       "    }\n",
       "\n",
       "    .dataframe thead th {\n",
       "        text-align: right;\n",
       "    }\n",
       "</style>\n",
       "<table border=\"1\" class=\"dataframe\">\n",
       "  <thead>\n",
       "    <tr style=\"text-align: right;\">\n",
       "      <th></th>\n",
       "      <th>label</th>\n",
       "      <th>title</th>\n",
       "      <th>content</th>\n",
       "    </tr>\n",
       "  </thead>\n",
       "  <tbody>\n",
       "    <tr>\n",
       "      <th>0</th>\n",
       "      <td>0</td>\n",
       "      <td>TY KU</td>\n",
       "      <td>TY KU /taɪkuː/ is an American alcoholic bever...</td>\n",
       "    </tr>\n",
       "    <tr>\n",
       "      <th>1</th>\n",
       "      <td>0</td>\n",
       "      <td>Odd Lot Entertainment</td>\n",
       "      <td>OddLot Entertainment founded in 2001 by longt...</td>\n",
       "    </tr>\n",
       "    <tr>\n",
       "      <th>2</th>\n",
       "      <td>0</td>\n",
       "      <td>Henkel</td>\n",
       "      <td>Henkel AG &amp; Company KGaA operates worldwide w...</td>\n",
       "    </tr>\n",
       "    <tr>\n",
       "      <th>3</th>\n",
       "      <td>0</td>\n",
       "      <td>GOAT Store</td>\n",
       "      <td>The GOAT Store (Games Of All Type Store) LLC ...</td>\n",
       "    </tr>\n",
       "    <tr>\n",
       "      <th>4</th>\n",
       "      <td>0</td>\n",
       "      <td>RagWing Aircraft Designs</td>\n",
       "      <td>RagWing Aircraft Designs (also called the Rag...</td>\n",
       "    </tr>\n",
       "    <tr>\n",
       "      <th>...</th>\n",
       "      <td>...</td>\n",
       "      <td>...</td>\n",
       "      <td>...</td>\n",
       "    </tr>\n",
       "    <tr>\n",
       "      <th>69995</th>\n",
       "      <td>13</td>\n",
       "      <td>Energy Victory</td>\n",
       "      <td>Energy Victory: Winning the War on Terror by ...</td>\n",
       "    </tr>\n",
       "    <tr>\n",
       "      <th>69996</th>\n",
       "      <td>13</td>\n",
       "      <td>Bestiario</td>\n",
       "      <td>Bestiario is a book of 8 short stories writte...</td>\n",
       "    </tr>\n",
       "    <tr>\n",
       "      <th>69997</th>\n",
       "      <td>13</td>\n",
       "      <td>Wuthering Heights</td>\n",
       "      <td>Wuthering Heights is a novel by Emily Brontë ...</td>\n",
       "    </tr>\n",
       "    <tr>\n",
       "      <th>69998</th>\n",
       "      <td>13</td>\n",
       "      <td>L'Indépendant</td>\n",
       "      <td>L'Indépendant is a newspaper published in Lux...</td>\n",
       "    </tr>\n",
       "    <tr>\n",
       "      <th>69999</th>\n",
       "      <td>13</td>\n",
       "      <td>The Prophecy (novel)</td>\n",
       "      <td>The Prophecy is the fifth novel by New York T...</td>\n",
       "    </tr>\n",
       "  </tbody>\n",
       "</table>\n",
       "<p>70000 rows × 3 columns</p>\n",
       "</div>"
      ],
      "text/plain": [
       "       label                     title  \\\n",
       "0          0                     TY KU   \n",
       "1          0     Odd Lot Entertainment   \n",
       "2          0                    Henkel   \n",
       "3          0                GOAT Store   \n",
       "4          0  RagWing Aircraft Designs   \n",
       "...      ...                       ...   \n",
       "69995     13            Energy Victory   \n",
       "69996     13                 Bestiario   \n",
       "69997     13         Wuthering Heights   \n",
       "69998     13             L'Indépendant   \n",
       "69999     13      The Prophecy (novel)   \n",
       "\n",
       "                                                 content  \n",
       "0       TY KU /taɪkuː/ is an American alcoholic bever...  \n",
       "1       OddLot Entertainment founded in 2001 by longt...  \n",
       "2       Henkel AG & Company KGaA operates worldwide w...  \n",
       "3       The GOAT Store (Games Of All Type Store) LLC ...  \n",
       "4       RagWing Aircraft Designs (also called the Rag...  \n",
       "...                                                  ...  \n",
       "69995   Energy Victory: Winning the War on Terror by ...  \n",
       "69996   Bestiario is a book of 8 short stories writte...  \n",
       "69997   Wuthering Heights is a novel by Emily Brontë ...  \n",
       "69998   L'Indépendant is a newspaper published in Lux...  \n",
       "69999   The Prophecy is the fifth novel by New York T...  \n",
       "\n",
       "[70000 rows x 3 columns]"
      ]
     },
     "execution_count": 21,
     "metadata": {},
     "output_type": "execute_result"
    }
   ],
   "source": [
    "# it has only 70000 rows, but for some reason slicing loads faster the dataset\n",
    "df_test = pd.DataFrame(data_test[:70000])\n",
    "df_test.head()"
   ]
  },
  {
   "attachments": {},
   "cell_type": "markdown",
   "metadata": {},
   "source": [
    "### Labels distribution"
   ]
  },
  {
   "attachments": {},
   "cell_type": "markdown",
   "metadata": {},
   "source": [
    "The data is completely balanced, as shown in the plots"
   ]
  },
  {
   "cell_type": "code",
   "execution_count": 35,
   "metadata": {},
   "outputs": [
    {
     "data": {
      "text/plain": [
       "0     40000\n",
       "1     40000\n",
       "2     40000\n",
       "3     40000\n",
       "4     40000\n",
       "5     40000\n",
       "6     40000\n",
       "7     40000\n",
       "8     40000\n",
       "9     40000\n",
       "10    40000\n",
       "11    40000\n",
       "12    40000\n",
       "13    40000\n",
       "Name: label, dtype: int64"
      ]
     },
     "execution_count": 35,
     "metadata": {},
     "output_type": "execute_result"
    }
   ],
   "source": [
    "df_train[\"label\"].value_counts()"
   ]
  },
  {
   "cell_type": "code",
   "execution_count": 34,
   "metadata": {},
   "outputs": [
    {
     "data": {
      "text/plain": [
       "<AxesSubplot:>"
      ]
     },
     "execution_count": 34,
     "metadata": {},
     "output_type": "execute_result"
    },
    {
     "data": {
      "image/png": "[encoded data removed]",
      "text/plain": [
       "<Figure size 640x480 with 1 Axes>"
      ]
     },
     "metadata": {},
     "output_type": "display_data"
    }
   ],
   "source": [
    "df_train[\"label\"].hist(bins = len(df_train[\"label\"].unique()))"
   ]
  },
  {
   "cell_type": "code",
   "execution_count": 36,
   "metadata": {},
   "outputs": [
    {
     "data": {
      "text/plain": [
       "<AxesSubplot:>"
      ]
     },
     "execution_count": 36,
     "metadata": {},
     "output_type": "execute_result"
    },
    {
     "data": {
      "image/png": "[encoded data removed]",
      "text/plain": [
       "<Figure size 640x480 with 1 Axes>"
      ]
     },
     "metadata": {},
     "output_type": "display_data"
    }
   ],
   "source": [
    "df_test[\"label\"].hist(bins = len(df_test[\"label\"].unique()))"
   ]
  },
  {
   "attachments": {},
   "cell_type": "markdown",
   "metadata": {},
   "source": [
    "### Cleaning data:\n",
    "\n",
    "We have some text with non-english characters"
   ]
  },
  {
   "cell_type": "code",
   "execution_count": 39,
   "metadata": {},
   "outputs": [],
   "source": [
    "def isEnglish(s):\n",
    "    try:\n",
    "        s[\"content\"].encode(encoding='utf-8').decode('ascii')\n",
    "        s[\"title\"].encode(encoding='utf-8').decode('ascii')\n",
    "    except UnicodeDecodeError:\n",
    "        pass\n",
    "    else:\n",
    "        return s"
   ]
  },
  {
   "cell_type": "code",
   "execution_count": 44,
   "metadata": {},
   "outputs": [],
   "source": [
    "clean_df_train = df_train.apply(lambda line: isEnglish(line), axis=1)"
   ]
  },
  {
   "cell_type": "code",
   "execution_count": 50,
   "metadata": {},
   "outputs": [
    {
     "data": {
      "text/html": [
       "<div>\n",
       "<style scoped>\n",
       "    .dataframe tbody tr th:only-of-type {\n",
       "        vertical-align: middle;\n",
       "    }\n",
       "\n",
       "    .dataframe tbody tr th {\n",
       "        vertical-align: top;\n",
       "    }\n",
       "\n",
       "    .dataframe thead th {\n",
       "        text-align: right;\n",
       "    }\n",
       "</style>\n",
       "<table border=\"1\" class=\"dataframe\">\n",
       "  <thead>\n",
       "    <tr style=\"text-align: right;\">\n",
       "      <th></th>\n",
       "      <th>label</th>\n",
       "      <th>title</th>\n",
       "      <th>content</th>\n",
       "    </tr>\n",
       "  </thead>\n",
       "  <tbody>\n",
       "    <tr>\n",
       "      <th>2</th>\n",
       "      <td>0.0</td>\n",
       "      <td>Q-workshop</td>\n",
       "      <td>Q-workshop is a Polish company located in Poz...</td>\n",
       "    </tr>\n",
       "    <tr>\n",
       "      <th>10</th>\n",
       "      <td>0.0</td>\n",
       "      <td>Angstrem (company)</td>\n",
       "      <td>Angstrem Group (Russian: ОАО «Ангстрем» named...</td>\n",
       "    </tr>\n",
       "    <tr>\n",
       "      <th>12</th>\n",
       "      <td>0.0</td>\n",
       "      <td>JVC</td>\n",
       "      <td>Victor Company of Japan Ltd (日本ビクター株式会社 Nippo...</td>\n",
       "    </tr>\n",
       "    <tr>\n",
       "      <th>13</th>\n",
       "      <td>0.0</td>\n",
       "      <td>Toei Bus</td>\n",
       "      <td>The Toei Bus (都営バス Toei Basu) is a bus servic...</td>\n",
       "    </tr>\n",
       "    <tr>\n",
       "      <th>18</th>\n",
       "      <td>0.0</td>\n",
       "      <td>CIB Bank</td>\n",
       "      <td>CIB Bank is the second-biggest commercial ban...</td>\n",
       "    </tr>\n",
       "  </tbody>\n",
       "</table>\n",
       "</div>"
      ],
      "text/plain": [
       "    label               title  \\\n",
       "2     0.0          Q-workshop   \n",
       "10    0.0  Angstrem (company)   \n",
       "12    0.0                 JVC   \n",
       "13    0.0            Toei Bus   \n",
       "18    0.0            CIB Bank   \n",
       "\n",
       "                                              content  \n",
       "2    Q-workshop is a Polish company located in Poz...  \n",
       "10   Angstrem Group (Russian: ОАО «Ангстрем» named...  \n",
       "12   Victor Company of Japan Ltd (日本ビクター株式会社 Nippo...  \n",
       "13   The Toei Bus (都営バス Toei Basu) is a bus servic...  \n",
       "18   CIB Bank is the second-biggest commercial ban...  "
      ]
     },
     "execution_count": 50,
     "metadata": {},
     "output_type": "execute_result"
    }
   ],
   "source": [
    "examples_non_english = df_train[clean_df_train.isna()].dropna(how=\"any\")\n",
    "examples_non_english.head()"
   ]
  },
  {
   "cell_type": "code",
   "execution_count": 52,
   "metadata": {},
   "outputs": [
    {
     "data": {
      "text/html": [
       "<div>\n",
       "<style scoped>\n",
       "    .dataframe tbody tr th:only-of-type {\n",
       "        vertical-align: middle;\n",
       "    }\n",
       "\n",
       "    .dataframe tbody tr th {\n",
       "        vertical-align: top;\n",
       "    }\n",
       "\n",
       "    .dataframe thead th {\n",
       "        text-align: right;\n",
       "    }\n",
       "</style>\n",
       "<table border=\"1\" class=\"dataframe\">\n",
       "  <thead>\n",
       "    <tr style=\"text-align: right;\">\n",
       "      <th></th>\n",
       "      <th>label</th>\n",
       "      <th>title</th>\n",
       "      <th>content</th>\n",
       "    </tr>\n",
       "  </thead>\n",
       "  <tbody>\n",
       "    <tr>\n",
       "      <th>0</th>\n",
       "      <td>0.0</td>\n",
       "      <td>E. D. Abbott Ltd</td>\n",
       "      <td>Abbott of Farnham E D Abbott Limited was a Br...</td>\n",
       "    </tr>\n",
       "    <tr>\n",
       "      <th>1</th>\n",
       "      <td>0.0</td>\n",
       "      <td>Schwan-Stabilo</td>\n",
       "      <td>Schwan-STABILO is a German maker of pens for ...</td>\n",
       "    </tr>\n",
       "    <tr>\n",
       "      <th>3</th>\n",
       "      <td>0.0</td>\n",
       "      <td>Marvell Software Solutions Israel</td>\n",
       "      <td>Marvell Software Solutions Israel known as RA...</td>\n",
       "    </tr>\n",
       "    <tr>\n",
       "      <th>4</th>\n",
       "      <td>0.0</td>\n",
       "      <td>Bergan Mercy Medical Center</td>\n",
       "      <td>Bergan Mercy Medical Center is a hospital loc...</td>\n",
       "    </tr>\n",
       "    <tr>\n",
       "      <th>5</th>\n",
       "      <td>0.0</td>\n",
       "      <td>The Unsigned Guide</td>\n",
       "      <td>The Unsigned Guide is an online contacts dire...</td>\n",
       "    </tr>\n",
       "    <tr>\n",
       "      <th>...</th>\n",
       "      <td>...</td>\n",
       "      <td>...</td>\n",
       "      <td>...</td>\n",
       "    </tr>\n",
       "    <tr>\n",
       "      <th>559994</th>\n",
       "      <td>13.0</td>\n",
       "      <td>Scoliosis (journal)</td>\n",
       "      <td>Scoliosis (ISSN 1748-7161) is an open-access ...</td>\n",
       "    </tr>\n",
       "    <tr>\n",
       "      <th>559995</th>\n",
       "      <td>13.0</td>\n",
       "      <td>Barking in Essex</td>\n",
       "      <td>Barking in Essex is a Black comedy play direc...</td>\n",
       "    </tr>\n",
       "    <tr>\n",
       "      <th>559996</th>\n",
       "      <td>13.0</td>\n",
       "      <td>Science &amp; Spirit</td>\n",
       "      <td>Science &amp; Spirit is a discontinued American b...</td>\n",
       "    </tr>\n",
       "    <tr>\n",
       "      <th>559997</th>\n",
       "      <td>13.0</td>\n",
       "      <td>The Blithedale Romance</td>\n",
       "      <td>The Blithedale Romance (1852) is Nathaniel Ha...</td>\n",
       "    </tr>\n",
       "    <tr>\n",
       "      <th>559999</th>\n",
       "      <td>13.0</td>\n",
       "      <td>The Vinyl Cafe Notebooks</td>\n",
       "      <td>Vinyl Cafe Notebooks: a collection of essays ...</td>\n",
       "    </tr>\n",
       "  </tbody>\n",
       "</table>\n",
       "<p>385749 rows × 3 columns</p>\n",
       "</div>"
      ],
      "text/plain": [
       "        label                              title  \\\n",
       "0         0.0                   E. D. Abbott Ltd   \n",
       "1         0.0                     Schwan-Stabilo   \n",
       "3         0.0  Marvell Software Solutions Israel   \n",
       "4         0.0        Bergan Mercy Medical Center   \n",
       "5         0.0                 The Unsigned Guide   \n",
       "...       ...                                ...   \n",
       "559994   13.0                Scoliosis (journal)   \n",
       "559995   13.0                   Barking in Essex   \n",
       "559996   13.0                   Science & Spirit   \n",
       "559997   13.0             The Blithedale Romance   \n",
       "559999   13.0           The Vinyl Cafe Notebooks   \n",
       "\n",
       "                                                  content  \n",
       "0        Abbott of Farnham E D Abbott Limited was a Br...  \n",
       "1        Schwan-STABILO is a German maker of pens for ...  \n",
       "3        Marvell Software Solutions Israel known as RA...  \n",
       "4        Bergan Mercy Medical Center is a hospital loc...  \n",
       "5        The Unsigned Guide is an online contacts dire...  \n",
       "...                                                   ...  \n",
       "559994   Scoliosis (ISSN 1748-7161) is an open-access ...  \n",
       "559995   Barking in Essex is a Black comedy play direc...  \n",
       "559996   Science & Spirit is a discontinued American b...  \n",
       "559997   The Blithedale Romance (1852) is Nathaniel Ha...  \n",
       "559999   Vinyl Cafe Notebooks: a collection of essays ...  \n",
       "\n",
       "[385749 rows x 3 columns]"
      ]
     },
     "execution_count": 52,
     "metadata": {},
     "output_type": "execute_result"
    }
   ],
   "source": [
    "clean_df_train = clean_df_train.dropna(how=\"any\")\n",
    "clean_df_train"
   ]
  },
  {
   "cell_type": "code",
   "execution_count": 53,
   "metadata": {},
   "outputs": [
    {
     "data": {
      "text/plain": [
       "array([[<AxesSubplot:title={'center':'label'}>]], dtype=object)"
      ]
     },
     "execution_count": 53,
     "metadata": {},
     "output_type": "execute_result"
    },
    {
     "data": {
      "image/png": "[encoded data removed]",
      "text/plain": [
       "<Figure size 640x480 with 1 Axes>"
      ]
     },
     "metadata": {},
     "output_type": "display_data"
    }
   ],
   "source": [
    "clean_df_train.hist(\"label\")"
   ]
  },
  {
   "cell_type": "code",
   "execution_count": null,
   "metadata": {},
   "outputs": [],
   "source": []
  },
  {
   "attachments": {},
   "cell_type": "markdown",
   "metadata": {},
   "source": [
    "# Baseline model\n"
   ]
  },
  {
   "cell_type": "code",
   "execution_count": null,
   "metadata": {},
   "outputs": [],
   "source": []
  }
 ],
 "metadata": {
  "kernelspec": {
   "display_name": "Python 3",
   "language": "python",
   "name": "python3"
  },
  "language_info": {
   "codemirror_mode": {
    "name": "ipython",
    "version": 3
   },
   "file_extension": ".py",
   "mimetype": "text/x-python",
   "name": "python",
   "nbconvert_exporter": "python",
   "pygments_lexer": "ipython3",
   "version": "3.8.10"
  },
  "orig_nbformat": 4,
  "vscode": {
   "interpreter": {
    "hash": "aee8b7b246df8f9039afb4144a1f6fd8d2ca17a180786b69acc140d282b71a49"
   }
  }
 },
 "nbformat": 4,
 "nbformat_minor": 2
}
