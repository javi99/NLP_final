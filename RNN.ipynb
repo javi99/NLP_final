{
 "cells": [
  {
   "attachments": {},
   "cell_type": "markdown",
   "metadata": {},
   "source": [
    "# Recurrent neural networks (RNN)"
   ]
  },
  {
   "cell_type": "code",
   "execution_count": 2,
   "metadata": {},
   "outputs": [
    {
     "name": "stderr",
     "output_type": "stream",
     "text": [
      "2023-03-28 15:28:00.155878: I tensorflow/core/platform/cpu_feature_guard.cc:182] This TensorFlow binary is optimized to use available CPU instructions in performance-critical operations.\n",
      "To enable the following instructions: AVX2 FMA, in other operations, rebuild TensorFlow with the appropriate compiler flags.\n"
     ]
    }
   ],
   "source": [
    "#spacy works for python 3.8.10\n",
    "import spacy\n",
    "#!python3.8 -m spacy download en_core_web_sm\n",
    "\n",
    "#word2vec\n",
    "from gensim.models import Word2Vec\n",
    "from gensim import downloader\n",
    "\n",
    "import string\n",
    "import numpy as np\n",
    "import pandas as pd\n",
    "\n",
    "from gensim.models import Word2Vec\n",
    "from gensim import downloader\n",
    "\n",
    "#modelling\n",
    "from sklearn.model_selection import train_test_split\n",
    "from sklearn.preprocessing import OneHotEncoder,LabelEncoder\n",
    "from tensorflow.keras.preprocessing.sequence import pad_sequences\n",
    "from tensorflow.keras.preprocessing.text import Tokenizer\n",
    "from tensorflow.keras.models import Sequential\n",
    "from tensorflow.keras.layers import Dense, Dropout, LSTM, Bidirectional, Embedding\n",
    "from tensorflow.keras.models import load_model\n",
    "from tensorflow.keras.callbacks import EarlyStopping\n",
    "from tensorflow.keras.callbacks import ReduceLROnPlateau\n",
    "\n",
    "#saving model\n",
    "import pickle"
   ]
  },
  {
   "attachments": {},
   "cell_type": "markdown",
   "metadata": {},
   "source": [
    "### Functions and global vars definition"
   ]
  },
  {
   "cell_type": "code",
   "execution_count": 3,
   "metadata": {},
   "outputs": [],
   "source": [
    "DEVELOPING = True\n",
    "MAX_LENGTH = 80"
   ]
  },
  {
   "cell_type": "code",
   "execution_count": 21,
   "metadata": {},
   "outputs": [],
   "source": [
    "nlp = spacy.load(\"en_core_web_sm\")#english tokenizer, tagger, parser and NER\n",
    "def split_sentences(text):\n",
    "    aux_sentence = nlp(text)\n",
    "    return [str(token.lemma_).lower() for token in aux_sentence if not (token.is_stop or \\\n",
    "                                                                token.is_punct or \\\n",
    "                                                                len(token)<3)]\n",
    "\n",
    "def encoding_data(data_train,data_test,max_length):\n",
    "    \"\"\"This function creates the tokenizer, fits it to the data, tokenizes and padds train and test dataframes,\n",
    "    saves the fitted tokenizer into a file, and finally returns train and test dataframes with text encoded as well as \n",
    "    the labels one hot encoded and the word_index dictionary\"\"\"\n",
    "    tokenizer = Tokenizer()\n",
    "    tokenizer.fit_on_texts(data_train[\"preprocessed_content\"])\n",
    "\n",
    "    # word_index is a dictionary contains indeces for the words like {'for': 8, 'is': 9, 'me': 10, ...}\n",
    "    word_index = tokenizer.word_index\n",
    "\n",
    "    # train_sequences is vectors where each vector represents a sentence\n",
    "    train_sequences = tokenizer.texts_to_sequences(data_train[\"preprocessed_content\"])\n",
    "    test_sequences = tokenizer.texts_to_sequences(data_test[\"preprocessed_content\"])\n",
    "\n",
    "    train_sequences = pad_sequences(train_sequences, maxlen=max_length, padding=\"pre\")\n",
    "    test_sequences = pad_sequences(test_sequences, maxlen=max_length, padding=\"pre\")\n",
    "\n",
    "    # Convert our labels into one-hot encoded\n",
    "    onehot_encoder = OneHotEncoder(sparse=False)\n",
    "    onehot_encoder.fit(np.array(data_train[\"label\"]).reshape(-1, 1))\n",
    "\n",
    "    train_labels = onehot_encoder.transform(np.array(data_train[\"label\"]).reshape(-1, 1))\n",
    "    test_labels = onehot_encoder.transform(np.array(data_test[\"label\"]).reshape(-1, 1))\n",
    "\n",
    "\n",
    "    # saving\n",
    "    with open('data/tokenizer.pickle', 'wb') as handle:\n",
    "        pickle.dump(tokenizer, handle, protocol=pickle.HIGHEST_PROTOCOL)\n",
    "\n",
    "\n",
    "    return train_sequences, test_sequences, train_labels, test_labels, word_index\n",
    "\n",
    "def embeddingWights(w2v, word_index, max_num_words=500000):\n",
    "  \n",
    "  all_embs = np.stack(w2v.wv.vectors)\n",
    "  emb_mean,emb_std = all_embs.mean(), all_embs.std()\n",
    "\n",
    "  num_words = min(max_num_words, len(word_index))+1\n",
    "\n",
    "  embedding_dim=len(w2v.wv['software'])\n",
    "\n",
    "  embedding_wights = np.random.normal(emb_mean, emb_std, (num_words, embedding_dim))\n",
    "\n",
    "  for word, i in word_index.items():\n",
    "    if i >= max_num_words:\n",
    "        break\n",
    "\n",
    "    if word in w2v.wv:\n",
    "        embedding_vector = w2v.wv[word]\n",
    "        embedding_wights[i] = embedding_vector\n",
    "    \n",
    "  return embedding_wights, num_words\n",
    "\n",
    "def build_RNN_model(input_size, num_words, output_dim, embedding_wights):\n",
    "\n",
    "    model = Sequential()\n",
    "    model.add(Embedding(input_dim=num_words, output_dim=output_dim, trainable=True, input_length=input_size, weights=[embedding_wights]))\n",
    "    model.add(Bidirectional(LSTM(256, return_sequences=True, recurrent_dropout=0.2, dropout=0.2), 'concat'))\n",
    "    model.add(Dropout(0.4))\n",
    "    model.add(LSTM(64, return_sequences=True, recurrent_dropout=0.2, dropout=0.2))\n",
    "    model.add(Dropout(0.4))\n",
    "    model.add(LSTM(32, return_sequences=False, recurrent_dropout=0.2, dropout=0.2))\n",
    "    model.add(Dropout(0.2))\n",
    "    model.add(Dense(32, activation='sigmoid'))\n",
    "    model.add(Dropout(0.2))\n",
    "    model.add(Dense(14, activation='softmax'))\n",
    "    model.compile(loss ='categorical_crossentropy', optimizer = \"adam\", metrics = [\"accuracy\",\"F1\"])\n",
    "\n",
    "\n",
    "    return model\n"
   ]
  },
  {
   "cell_type": "code",
   "execution_count": 5,
   "metadata": {},
   "outputs": [],
   "source": [
    "data_train = pd.read_csv(\"clean_df_train.csv\")\n",
    "data_test = pd.read_csv(\"clean_df_test.csv\")"
   ]
  },
  {
   "cell_type": "code",
   "execution_count": 6,
   "metadata": {},
   "outputs": [],
   "source": [
    "#subsampling for developing faster\n",
    "if DEVELOPING:\n",
    "    data_train = data_train.groupby('label').apply(lambda x: x.sample(frac=0.03)).reset_index(drop=True)\n",
    "    data_test = data_test.groupby('label').apply(lambda x: x.sample(frac=0.03)).reset_index(drop=True)"
   ]
  },
  {
   "attachments": {},
   "cell_type": "markdown",
   "metadata": {},
   "source": [
    "## preprocessing"
   ]
  },
  {
   "attachments": {},
   "cell_type": "markdown",
   "metadata": {},
   "source": [
    "### Analyzing length of each sentence"
   ]
  },
  {
   "attachments": {},
   "cell_type": "markdown",
   "metadata": {},
   "source": [
    "With a length of input of 80 words we are only not completely getting approximatelly a 5% of the data (train and test)"
   ]
  },
  {
   "cell_type": "code",
   "execution_count": 7,
   "metadata": {},
   "outputs": [],
   "source": [
    "data_train[\"words_count\"] = data_train.apply(lambda row: len(row[\"content\"].split()), axis = 1)\n",
    "data_test[\"words_count\"] = data_test.apply(lambda row: len(row[\"content\"].split()), axis = 1)"
   ]
  },
  {
   "cell_type": "code",
   "execution_count": 8,
   "metadata": {},
   "outputs": [
    {
     "data": {
      "text/plain": [
       "count    11573.000000\n",
       "mean        45.155966\n",
       "std         24.755010\n",
       "min          2.000000\n",
       "25%         24.000000\n",
       "50%         44.000000\n",
       "75%         65.000000\n",
       "max       1175.000000\n",
       "Name: words_count, dtype: float64"
      ]
     },
     "execution_count": 8,
     "metadata": {},
     "output_type": "execute_result"
    }
   ],
   "source": [
    "data_train[\"words_count\"].describe()"
   ]
  },
  {
   "cell_type": "code",
   "execution_count": 9,
   "metadata": {},
   "outputs": [
    {
     "data": {
      "text/plain": [
       "count    1443.000000\n",
       "mean       45.778933\n",
       "std        23.077126\n",
       "min         6.000000\n",
       "25%        24.000000\n",
       "50%        44.000000\n",
       "75%        67.000000\n",
       "max       179.000000\n",
       "Name: words_count, dtype: float64"
      ]
     },
     "execution_count": 9,
     "metadata": {},
     "output_type": "execute_result"
    }
   ],
   "source": [
    "data_test[\"words_count\"].describe()"
   ]
  },
  {
   "cell_type": "code",
   "execution_count": 10,
   "metadata": {},
   "outputs": [
    {
     "data": {
      "text/plain": [
       "0        [ware, label, himeyasoft, inc., confuse, distr...\n",
       "1        [octapharma, large, privately, own, human, pro...\n",
       "2        [knoll, aircraft, company, american, aircraft,...\n",
       "3        [middletown, area, transit, popularly, know, m...\n",
       "4        [fabrap, finch, alexander, barnes, rothschild,...\n",
       "                               ...                        \n",
       "11568    [journal, gazette, morning, newspaper, fort, w...\n",
       "11569    [scandia, academic, journal, history, publish,...\n",
       "11570    [central, european, journal, mathematics, peer...\n",
       "11571    [grey, japanese, science, fiction, manga, crea...\n",
       "11572    [kindly, ones, french, les, bienveillantes, hi...\n",
       "Length: 11573, dtype: object"
      ]
     },
     "execution_count": 10,
     "metadata": {},
     "output_type": "execute_result"
    }
   ],
   "source": [
    "\"\"\"#parallelizing (Not sure it works correctly. Maybe mac hardware is not good for this)\n",
    "import dask.dataframe as dd\n",
    "from dask.multiprocessing import get\n",
    "\n",
    "ddata = dd.from_pandas(data_train, npartitions=30)\n",
    "\n",
    "#data_train[:1000].apply(lambda row: split_sentences(row[\"content\"]), axis = 1)\n",
    "ddata.map_partitions(lambda df: df.apply((lambda row: split_sentences(row[\"content\"])), axis=1)).compute(scheduler=\"threads\")\"\"\""
   ]
  },
  {
   "cell_type": "code",
   "execution_count": 11,
   "metadata": {},
   "outputs": [],
   "source": [
    "data_train[\"preprocessed_content\"] = data_train.apply(lambda row: split_sentences(row[\"content\"]), axis = 1)\n",
    "data_test[\"preprocessed_content\"] = data_test.apply(lambda row: split_sentences(row[\"content\"]), axis = 1)"
   ]
  },
  {
   "cell_type": "code",
   "execution_count": 12,
   "metadata": {},
   "outputs": [
    {
     "data": {
      "text/html": [
       "<div>\n",
       "<style scoped>\n",
       "    .dataframe tbody tr th:only-of-type {\n",
       "        vertical-align: middle;\n",
       "    }\n",
       "\n",
       "    .dataframe tbody tr th {\n",
       "        vertical-align: top;\n",
       "    }\n",
       "\n",
       "    .dataframe thead th {\n",
       "        text-align: right;\n",
       "    }\n",
       "</style>\n",
       "<table border=\"1\" class=\"dataframe\">\n",
       "  <thead>\n",
       "    <tr style=\"text-align: right;\">\n",
       "      <th></th>\n",
       "      <th>label</th>\n",
       "      <th>title</th>\n",
       "      <th>content</th>\n",
       "      <th>words_count</th>\n",
       "      <th>preprocessed_content</th>\n",
       "    </tr>\n",
       "  </thead>\n",
       "  <tbody>\n",
       "    <tr>\n",
       "      <th>0</th>\n",
       "      <td>0.0</td>\n",
       "      <td>C's Ware</td>\n",
       "      <td>C's Ware is a label of HimeyaSoft Inc. (not t...</td>\n",
       "      <td>77</td>\n",
       "      <td>[ware, label, himeyasoft, inc., confuse, distr...</td>\n",
       "    </tr>\n",
       "    <tr>\n",
       "      <th>1</th>\n",
       "      <td>0.0</td>\n",
       "      <td>Octapharma</td>\n",
       "      <td>Octapharma AG is the largest privately owned ...</td>\n",
       "      <td>68</td>\n",
       "      <td>[octapharma, large, privately, own, human, pro...</td>\n",
       "    </tr>\n",
       "    <tr>\n",
       "      <th>2</th>\n",
       "      <td>0.0</td>\n",
       "      <td>Knoll Aircraft Company</td>\n",
       "      <td>Knoll Aircraft Company was an American aircra...</td>\n",
       "      <td>12</td>\n",
       "      <td>[knoll, aircraft, company, american, aircraft,...</td>\n",
       "    </tr>\n",
       "    <tr>\n",
       "      <th>3</th>\n",
       "      <td>0.0</td>\n",
       "      <td>Middletown Area Transit</td>\n",
       "      <td>Middletown Area Transit popularly known as MA...</td>\n",
       "      <td>73</td>\n",
       "      <td>[middletown, area, transit, popularly, know, m...</td>\n",
       "    </tr>\n",
       "    <tr>\n",
       "      <th>4</th>\n",
       "      <td>0.0</td>\n",
       "      <td>FABRAP</td>\n",
       "      <td>FABRAP or Finch Alexander Barnes Rothschild a...</td>\n",
       "      <td>32</td>\n",
       "      <td>[fabrap, finch, alexander, barnes, rothschild,...</td>\n",
       "    </tr>\n",
       "  </tbody>\n",
       "</table>\n",
       "</div>"
      ],
      "text/plain": [
       "   label                    title  \\\n",
       "0    0.0                 C's Ware   \n",
       "1    0.0               Octapharma   \n",
       "2    0.0   Knoll Aircraft Company   \n",
       "3    0.0  Middletown Area Transit   \n",
       "4    0.0                   FABRAP   \n",
       "\n",
       "                                             content  words_count  \\\n",
       "0   C's Ware is a label of HimeyaSoft Inc. (not t...           77   \n",
       "1   Octapharma AG is the largest privately owned ...           68   \n",
       "2   Knoll Aircraft Company was an American aircra...           12   \n",
       "3   Middletown Area Transit popularly known as MA...           73   \n",
       "4   FABRAP or Finch Alexander Barnes Rothschild a...           32   \n",
       "\n",
       "                                preprocessed_content  \n",
       "0  [ware, label, himeyasoft, inc., confuse, distr...  \n",
       "1  [octapharma, large, privately, own, human, pro...  \n",
       "2  [knoll, aircraft, company, american, aircraft,...  \n",
       "3  [middletown, area, transit, popularly, know, m...  \n",
       "4  [fabrap, finch, alexander, barnes, rothschild,...  "
      ]
     },
     "execution_count": 12,
     "metadata": {},
     "output_type": "execute_result"
    }
   ],
   "source": [
    "data_train.head()"
   ]
  },
  {
   "cell_type": "code",
   "execution_count": 13,
   "metadata": {},
   "outputs": [
    {
     "data": {
      "text/html": [
       "<div>\n",
       "<style scoped>\n",
       "    .dataframe tbody tr th:only-of-type {\n",
       "        vertical-align: middle;\n",
       "    }\n",
       "\n",
       "    .dataframe tbody tr th {\n",
       "        vertical-align: top;\n",
       "    }\n",
       "\n",
       "    .dataframe thead th {\n",
       "        text-align: right;\n",
       "    }\n",
       "</style>\n",
       "<table border=\"1\" class=\"dataframe\">\n",
       "  <thead>\n",
       "    <tr style=\"text-align: right;\">\n",
       "      <th></th>\n",
       "      <th>label</th>\n",
       "      <th>title</th>\n",
       "      <th>content</th>\n",
       "      <th>words_count</th>\n",
       "      <th>preprocessed_content</th>\n",
       "    </tr>\n",
       "  </thead>\n",
       "  <tbody>\n",
       "    <tr>\n",
       "      <th>0</th>\n",
       "      <td>0</td>\n",
       "      <td>SemBioSys Genetics</td>\n",
       "      <td>SemBioSys Genetics Inc. was a development sta...</td>\n",
       "      <td>46</td>\n",
       "      <td>[sembiosys, genetics, inc., development, stage...</td>\n",
       "    </tr>\n",
       "    <tr>\n",
       "      <th>1</th>\n",
       "      <td>0</td>\n",
       "      <td>Element Six</td>\n",
       "      <td>Element Six (formerly De Beers Industrial Dia...</td>\n",
       "      <td>57</td>\n",
       "      <td>[element, beers, industrial, diamond, company,...</td>\n",
       "    </tr>\n",
       "    <tr>\n",
       "      <th>2</th>\n",
       "      <td>0</td>\n",
       "      <td>NBTY</td>\n",
       "      <td>NBTY Inc. formerly known as Nature's Bounty I...</td>\n",
       "      <td>56</td>\n",
       "      <td>[nbty, inc., know, nature, bounty, inc., ameri...</td>\n",
       "    </tr>\n",
       "    <tr>\n",
       "      <th>3</th>\n",
       "      <td>0</td>\n",
       "      <td>Pinkberry</td>\n",
       "      <td>Pinkberry is a franchise of upscale frozen de...</td>\n",
       "      <td>65</td>\n",
       "      <td>[pinkberry, franchise, upscale, frozen, desser...</td>\n",
       "    </tr>\n",
       "    <tr>\n",
       "      <th>4</th>\n",
       "      <td>0</td>\n",
       "      <td>Lam Research</td>\n",
       "      <td>Lam Research Corporation is an American corpo...</td>\n",
       "      <td>27</td>\n",
       "      <td>[lam, research, corporation, american, corpora...</td>\n",
       "    </tr>\n",
       "  </tbody>\n",
       "</table>\n",
       "</div>"
      ],
      "text/plain": [
       "   label               title  \\\n",
       "0      0  SemBioSys Genetics   \n",
       "1      0         Element Six   \n",
       "2      0                NBTY   \n",
       "3      0           Pinkberry   \n",
       "4      0        Lam Research   \n",
       "\n",
       "                                             content  words_count  \\\n",
       "0   SemBioSys Genetics Inc. was a development sta...           46   \n",
       "1   Element Six (formerly De Beers Industrial Dia...           57   \n",
       "2   NBTY Inc. formerly known as Nature's Bounty I...           56   \n",
       "3   Pinkberry is a franchise of upscale frozen de...           65   \n",
       "4   Lam Research Corporation is an American corpo...           27   \n",
       "\n",
       "                                preprocessed_content  \n",
       "0  [sembiosys, genetics, inc., development, stage...  \n",
       "1  [element, beers, industrial, diamond, company,...  \n",
       "2  [nbty, inc., know, nature, bounty, inc., ameri...  \n",
       "3  [pinkberry, franchise, upscale, frozen, desser...  \n",
       "4  [lam, research, corporation, american, corpora...  "
      ]
     },
     "execution_count": 13,
     "metadata": {},
     "output_type": "execute_result"
    }
   ],
   "source": [
    "data_test.head()"
   ]
  },
  {
   "attachments": {},
   "cell_type": "markdown",
   "metadata": {},
   "source": [
    "### Saving preprocessed dataframes to avoid repeating preprocessing"
   ]
  },
  {
   "cell_type": "code",
   "execution_count": null,
   "metadata": {},
   "outputs": [],
   "source": [
    "data_train.to_csv('preprocessed_df_train.csv', index=False)\n",
    "data_test.to_csv('preprocessed_df_test.csv', index=False)"
   ]
  },
  {
   "attachments": {},
   "cell_type": "markdown",
   "metadata": {},
   "source": [
    "## Tokenizer"
   ]
  },
  {
   "cell_type": "code",
   "execution_count": 14,
   "metadata": {},
   "outputs": [],
   "source": [
    "train_sequences, test_sequences, train_labels, test_labels, word_index = encoding_data(data_train, data_test, MAX_LENGTH)\n",
    "\n",
    "#Saving all information so we dont need to process them again\n",
    "with open(\"data/train_sequences.pickle\",\"wb\") as file:\n",
    "    pickle.dump(train_sequences,file)\n",
    "with open(\"data/test_sequences.pickle\",\"wb\") as file:\n",
    "    pickle.dump(test_sequences,file)\n",
    "with open(\"data/train_labels.pickle\",\"wb\") as file:\n",
    "    pickle.dump(train_labels,file)\n",
    "with open(\"data/test_labels.pickle\",\"wb\") as file:\n",
    "    pickle.dump(test_labels,file)\n",
    "with open(\"data/word_index.pickle\",\"wb\") as file:\n",
    "    pickle.dump(word_index,file)"
   ]
  },
  {
   "cell_type": "code",
   "execution_count": 15,
   "metadata": {},
   "outputs": [],
   "source": [
    "# loading\n",
    "with open('tokenizer.pickle', 'rb') as file:\n",
    "    tokenizer = pickle.load(file)\n",
    "with open(\"data/train_sequences.pickle\",\"rb\") as file:\n",
    "    train_sequences = pickle.load(file)\n",
    "with open(\"data/train_sequences.pickle\",\"rb\") as file:\n",
    "    test_sequences = pickle.load(file)\n",
    "with open(\"data/train_labels.pickle\",\"rb\") as file:\n",
    "    train_labels = pickle.load(file)\n",
    "with open(\"data/test_labels.pickle\",\"rb\") as file:\n",
    "    test_labels = pickle.load(file)\n",
    "with open(\"data/word_index.pickle\",\"rb\") as file:\n",
    "    word_index = pickle.load(file)"
   ]
  },
  {
   "attachments": {},
   "cell_type": "markdown",
   "metadata": {},
   "source": [
    "# Defnining word embedding"
   ]
  },
  {
   "attachments": {},
   "cell_type": "markdown",
   "metadata": {},
   "source": [
    "### Creating our own word embedding with Word2vec"
   ]
  },
  {
   "attachments": {},
   "cell_type": "markdown",
   "metadata": {},
   "source": [
    "+ min_count = int - Ignores all words with total absolute frequency lower than this - (2, 100)\n",
    "+ window = int - The maximum distance between the current and predicted word within a sentence. E.g. window words on the left and window words on the left of our target - (2, 10)\n",
    "+ size = int - Dimensionality of the feature vectors. - (50, 300)\n",
    "+ sample = float - The threshold for configuring which higher-frequency words are randomly downsampled. Highly influencial. - (0, 1e-5)\n",
    "+ alpha = float - The initial learning rate - (0.01, 0.05)\n",
    "min_alpha = float - Learning rate will linearly drop to min_alpha as training progresses. To set it: alpha - (min_alpha * epochs) ~ 0.00\n",
    "+ negative = int - If > 0, negative sampling will be used, the int for negative specifies how many \"noise words\" should be drown. If set to 0, no negative sampling is used. - (5, 20)\n",
    "+ workers = int - Use these many worker threads to train the model (=faster training with multicore machines)"
   ]
  },
  {
   "cell_type": "code",
   "execution_count": 16,
   "metadata": {},
   "outputs": [
    {
     "data": {
      "text/plain": [
       "43870"
      ]
     },
     "execution_count": 16,
     "metadata": {},
     "output_type": "execute_result"
    }
   ],
   "source": [
    "#total words in our vocabulary\n",
    "len(word_index.keys())"
   ]
  },
  {
   "cell_type": "code",
   "execution_count": 17,
   "metadata": {},
   "outputs": [],
   "source": [
    "w2v_model = Word2Vec(sentences=list(data_train[\"preprocessed_content\"]),\n",
    "                     min_count=3,\n",
    "                     window=10,\n",
    "                     vector_size=100,\n",
    "                     sample=6e-5, \n",
    "                     alpha=0.03, \n",
    "                     min_alpha=0.0007, \n",
    "                     negative=5)"
   ]
  },
  {
   "cell_type": "code",
   "execution_count": 18,
   "metadata": {},
   "outputs": [
    {
     "data": {
      "text/plain": [
       "11934"
      ]
     },
     "execution_count": 18,
     "metadata": {},
     "output_type": "execute_result"
    }
   ],
   "source": [
    "#total words in our word embedding ignoring words that appear less than 3 times\n",
    "len(w2v_model.wv)"
   ]
  },
  {
   "cell_type": "code",
   "execution_count": 19,
   "metadata": {},
   "outputs": [
    {
     "name": "stdout",
     "output_type": "stream",
     "text": [
      "3 words similar to **software**\n",
      "('son', 0.9998385906219482)\n",
      "('take', 0.9998255372047424)\n",
      "('call', 0.9998217225074768)\n"
     ]
    }
   ],
   "source": [
    "#testing similarities\n",
    "word = 'software'\n",
    "print(f\"3 words similar to **{word}**\")\n",
    "words = w2v_model.wv.most_similar(word, topn=3)\n",
    "for word in words:\n",
    "  print(word)"
   ]
  },
  {
   "cell_type": "code",
   "execution_count": 22,
   "metadata": {},
   "outputs": [],
   "source": [
    "embedding_wights, num_words = embeddingWights(w2v_model, word_index, max_num_words=500000)"
   ]
  },
  {
   "cell_type": "code",
   "execution_count": 23,
   "metadata": {},
   "outputs": [
    {
     "data": {
      "text/plain": [
       "0.0"
      ]
     },
     "execution_count": 23,
     "metadata": {},
     "output_type": "execute_result"
    }
   ],
   "source": [
    "#testing the word embedding by comparing the weights of the final \n",
    "#embedding_wights and w2v_model.wv vector for the word \"software\"\n",
    "\n",
    "(embedding_wights[word_index[\"software\"],:].reshape([100,1])-w2v_model.wv[\"software\"].reshape([100,1])).sum()"
   ]
  },
  {
   "attachments": {},
   "cell_type": "markdown",
   "metadata": {},
   "source": [
    "# Training"
   ]
  },
  {
   "attachments": {},
   "cell_type": "markdown",
   "metadata": {},
   "source": [
    "### Data separation"
   ]
  },
  {
   "cell_type": "code",
   "execution_count": 24,
   "metadata": {},
   "outputs": [],
   "source": [
    "train_data, val_data, train_labels, val_labels = train_test_split(train_sequences, \n",
    "                                                                  train_labels,\n",
    "                                                                  test_size = 0.2)\n",
    "test_data = test_sequences\n",
    "test_labels = test_labels"
   ]
  },
  {
   "cell_type": "code",
   "execution_count": 26,
   "metadata": {},
   "outputs": [
    {
     "name": "stdout",
     "output_type": "stream",
     "text": [
      "Epoch 1/5\n",
      "193/193 [==============================] - ETA: 0s - loss: 2.6266 - accuracy: 0.1032WARNING:tensorflow:Early stopping conditioned on metric `val_categorical_crossentropy` which is not available. Available metrics are: loss,accuracy,val_loss,val_accuracy\n",
      "WARNING:tensorflow:Learning rate reduction is conditioned on metric `val_categorical_crossentropy` which is not available. Available metrics are: loss,accuracy,val_loss,val_accuracy,lr\n",
      "193/193 [==============================] - 171s 831ms/step - loss: 2.6266 - accuracy: 0.1032 - val_loss: 2.5628 - val_accuracy: 0.1296 - lr: 0.0010\n",
      "Epoch 2/5\n",
      "193/193 [==============================] - ETA: 0s - loss: 2.4886 - accuracy: 0.1404WARNING:tensorflow:Early stopping conditioned on metric `val_categorical_crossentropy` which is not available. Available metrics are: loss,accuracy,val_loss,val_accuracy\n",
      "WARNING:tensorflow:Learning rate reduction is conditioned on metric `val_categorical_crossentropy` which is not available. Available metrics are: loss,accuracy,val_loss,val_accuracy,lr\n",
      "193/193 [==============================] - 170s 883ms/step - loss: 2.4886 - accuracy: 0.1404 - val_loss: 2.2567 - val_accuracy: 0.1603 - lr: 0.0010\n",
      "Epoch 3/5\n",
      "193/193 [==============================] - ETA: 0s - loss: 2.2110 - accuracy: 0.1872WARNING:tensorflow:Early stopping conditioned on metric `val_categorical_crossentropy` which is not available. Available metrics are: loss,accuracy,val_loss,val_accuracy\n",
      "WARNING:tensorflow:Learning rate reduction is conditioned on metric `val_categorical_crossentropy` which is not available. Available metrics are: loss,accuracy,val_loss,val_accuracy,lr\n",
      "193/193 [==============================] - 158s 815ms/step - loss: 2.2110 - accuracy: 0.1872 - val_loss: 2.0001 - val_accuracy: 0.2220 - lr: 0.0010\n",
      "Epoch 4/5\n",
      "193/193 [==============================] - ETA: 0s - loss: 1.9174 - accuracy: 0.2471WARNING:tensorflow:Early stopping conditioned on metric `val_categorical_crossentropy` which is not available. Available metrics are: loss,accuracy,val_loss,val_accuracy\n",
      "WARNING:tensorflow:Learning rate reduction is conditioned on metric `val_categorical_crossentropy` which is not available. Available metrics are: loss,accuracy,val_loss,val_accuracy,lr\n",
      "193/193 [==============================] - 157s 814ms/step - loss: 1.9174 - accuracy: 0.2471 - val_loss: 1.8049 - val_accuracy: 0.2812 - lr: 0.0010\n",
      "Epoch 5/5\n",
      "193/193 [==============================] - ETA: 0s - loss: 1.7148 - accuracy: 0.3006WARNING:tensorflow:Early stopping conditioned on metric `val_categorical_crossentropy` which is not available. Available metrics are: loss,accuracy,val_loss,val_accuracy\n",
      "WARNING:tensorflow:Learning rate reduction is conditioned on metric `val_categorical_crossentropy` which is not available. Available metrics are: loss,accuracy,val_loss,val_accuracy,lr\n",
      "193/193 [==============================] - 164s 850ms/step - loss: 1.7148 - accuracy: 0.3006 - val_loss: 1.7050 - val_accuracy: 0.3145 - lr: 0.0010\n"
     ]
    }
   ],
   "source": [
    "RNN_model = build_RNN_model(MAX_LENGTH, num_words, 100, embedding_wights)\n",
    "\n",
    "stopping = EarlyStopping(monitor='val_loss', patience=3, verbose=1, mode = \"min\")\n",
    "reduce_lr = ReduceLROnPlateau(monitor='val_loss', patience = 5, mode = \"min\", verbose = 1, factor = 0.1, min_delta=0.001, min_lr = 0.00001)\n",
    "\n",
    "history = RNN_model.fit(train_data, train_labels, epochs = 5,\n",
    "          batch_size = 48, shuffle=True,\n",
    "          validation_data=[val_data, val_labels],\n",
    "          callbacks = [stopping, reduce_lr]\n",
    "          )"
   ]
  },
  {
   "cell_type": "code",
   "execution_count": 29,
   "metadata": {},
   "outputs": [
    {
     "data": {
      "text/plain": [
       "<matplotlib.legend.Legend at 0x7fd028e0bd60>"
      ]
     },
     "execution_count": 29,
     "metadata": {},
     "output_type": "execute_result"
    },
    {
     "data": {
      "image/png": "[encoded data removed]",
      "text/plain": [
       "<Figure size 640x480 with 1 Axes>"
      ]
     },
     "metadata": {},
     "output_type": "display_data"
    }
   ],
   "source": [
    "import matplotlib.pyplot as plt\n",
    "\n",
    "loss = history.history['loss']\n",
    "val_loss = history.history['val_loss']\n",
    "epochs = range(1, len(loss) + 1)\n",
    "plt.plot(epochs, loss, 'y', label='Training loss')\n",
    "plt.plot(epochs, val_loss, 'r', label='Validation loss')\n",
    "plt.title('Training and validation loss')\n",
    "plt.xlabel('Epochs')\n",
    "plt.ylabel('Loss')\n",
    "plt.legend()"
   ]
  }
 ],
 "metadata": {
  "kernelspec": {
   "display_name": "Python 3",
   "language": "python",
   "name": "python3"
  },
  "language_info": {
   "codemirror_mode": {
    "name": "ipython",
    "version": 3
   },
   "file_extension": ".py",
   "mimetype": "text/x-python",
   "name": "python",
   "nbconvert_exporter": "python",
   "pygments_lexer": "ipython3",
   "version": "3.8.10"
  },
  "orig_nbformat": 4,
  "vscode": {
   "interpreter": {
    "hash": "0adcc2737ebf6a4a119f135174df96668767fca1ef1112612db5ecadf2b6d608"
   }
  }
 },
 "nbformat": 4,
 "nbformat_minor": 2
}
