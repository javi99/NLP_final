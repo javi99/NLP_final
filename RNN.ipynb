{
 "cells": [
  {
   "attachments": {},
   "cell_type": "markdown",
   "metadata": {},
   "source": [
    "# Recurrent neural networks (RNN)"
   ]
  },
  {
   "cell_type": "code",
   "execution_count": 1,
   "metadata": {},
   "outputs": [
    {
     "name": "stderr",
     "output_type": "stream",
     "text": [
      "2023-03-29 16:57:22.744746: I tensorflow/core/platform/cpu_feature_guard.cc:182] This TensorFlow binary is optimized to use available CPU instructions in performance-critical operations.\n",
      "To enable the following instructions: AVX2 FMA, in other operations, rebuild TensorFlow with the appropriate compiler flags.\n"
     ]
    }
   ],
   "source": [
    "#spacy works for python 3.8.10\n",
    "import spacy\n",
    "#!python3.8 -m spacy download en_core_web_sm\n",
    "import os\n",
    "import ast\n",
    "\n",
    "#word2vec\n",
    "from gensim.models import Word2Vec\n",
    "from gensim import downloader\n",
    "\n",
    "import string\n",
    "import numpy as np\n",
    "import pandas as pd\n",
    "import matplotlib.pyplot as plt\n",
    "import seaborn as sns\n",
    "sns.set_style(\"whitegrid\")\n",
    "sns.set_palette(sns.color_palette(\"pastel\"))\n",
    "\n",
    "#modelling\n",
    "from sklearn.model_selection import train_test_split\n",
    "from sklearn.preprocessing import OneHotEncoder,LabelEncoder\n",
    "from tensorflow.keras.preprocessing.sequence import pad_sequences\n",
    "from tensorflow.keras.preprocessing.text import Tokenizer\n",
    "from tensorflow.keras.models import Sequential\n",
    "from tensorflow.keras.layers import Dense, Dropout, LSTM, Bidirectional, Embedding, BatchNormalization\n",
    "from tensorflow.keras.models import load_model\n",
    "from tensorflow.keras.callbacks import EarlyStopping\n",
    "from tensorflow.keras.callbacks import ReduceLROnPlateau\n",
    "import tensorflow as tf\n",
    "from tensorflow.keras.metrics import Precision, Recall, Accuracy\n",
    "\n",
    "import datetime\n",
    "\n",
    "#saving model\n",
    "import pickle"
   ]
  },
  {
   "attachments": {},
   "cell_type": "markdown",
   "metadata": {},
   "source": [
    "### Functions and global vars definition"
   ]
  },
  {
   "cell_type": "code",
   "execution_count": 65,
   "metadata": {},
   "outputs": [],
   "source": [
    "DEVELOPING = False\n",
    "MAX_LENGTH = 80\n",
    "model_name = \"RNN_model\"\n",
    "dest_path=\"data/models/RNN_outputs\"\n",
    "metrics_list = [\"Accuracy\", \"Precision\", \"Recall\"]\n",
    "\n",
    "classes =[\"Company\",\"EducationalInstitution\",\"Artist\",\n",
    "          \"Athlete\",\"OfficeHolder\",\"MeanOfTransportation\",\n",
    "          \"Building\",\"NaturalPlace\",\"Village\",\"Animal\",\"Plant\",\n",
    "          \"Album\",\"Film\",\"WrittenWork\"]"
   ]
  },
  {
   "cell_type": "code",
   "execution_count": 3,
   "metadata": {},
   "outputs": [],
   "source": [
    "nlp = spacy.load(\"en_core_web_sm\")#english tokenizer, tagger, parser and NER\n",
    "def split_sentences(text):\n",
    "    aux_sentence = nlp(text)\n",
    "    return [str(token.lemma_).lower() for token in aux_sentence if not (token.is_stop or \\\n",
    "                                                                token.is_punct or \\\n",
    "                                                                len(token)<3)]\n",
    "\n",
    "def encoding_data(data_train,data_test,max_length):\n",
    "    \"\"\"This function creates the tokenizer, fits it to the data, tokenizes and padds train and test dataframes,\n",
    "    saves the fitted tokenizer into a file, and finally returns train and test dataframes with text encoded as well as \n",
    "    the labels one hot encoded and the word_index dictionary\"\"\"\n",
    "    tokenizer = Tokenizer()\n",
    "    tokenizer.fit_on_texts(data_train[\"preprocessed_content\"])\n",
    "\n",
    "    # word_index is a dictionary contains indeces for the words like {'for': 8, 'is': 9, 'me': 10, ...}\n",
    "    word_index = tokenizer.word_index\n",
    "\n",
    "    # train_sequences is vectors where each vector represents a sentence\n",
    "    train_sequences = tokenizer.texts_to_sequences(data_train[\"preprocessed_content\"])\n",
    "    test_sequences = tokenizer.texts_to_sequences(data_test[\"preprocessed_content\"])\n",
    "\n",
    "    train_sequences = pad_sequences(train_sequences, maxlen=max_length, padding=\"pre\")\n",
    "    test_sequences = pad_sequences(test_sequences, maxlen=max_length, padding=\"pre\")\n",
    "\n",
    "    # Convert our labels into one-hot encoded\n",
    "    onehot_encoder = OneHotEncoder(sparse=False)\n",
    "    onehot_encoder.fit(np.array(data_train[\"label\"]).reshape(-1, 1))\n",
    "\n",
    "    train_labels = onehot_encoder.transform(np.array(data_train[\"label\"]).reshape(-1, 1))\n",
    "    test_labels = onehot_encoder.transform(np.array(data_test[\"label\"]).reshape(-1, 1))\n",
    "\n",
    "\n",
    "    # saving\n",
    "    with open('data/tokenizers_embedders/tokenizer.pickle', 'wb') as handle:\n",
    "        pickle.dump(tokenizer, handle, protocol=pickle.HIGHEST_PROTOCOL)\n",
    "\n",
    "\n",
    "    return train_sequences, test_sequences, train_labels, test_labels, word_index\n",
    "\n",
    "def embeddingWights(w2v, word_index, max_num_words=500000):\n",
    "  \n",
    "  all_embs = np.stack(w2v.wv.vectors)\n",
    "  emb_mean,emb_std = all_embs.mean(), all_embs.std()\n",
    "\n",
    "  num_words = min(max_num_words, len(word_index))+1\n",
    "\n",
    "  embedding_dim=len(w2v.wv['software'])\n",
    "\n",
    "  embedding_wights = np.random.normal(emb_mean, emb_std, (num_words, embedding_dim))\n",
    "\n",
    "  for word, i in word_index.items():\n",
    "    if i >= max_num_words:\n",
    "        break\n",
    "\n",
    "    if word in w2v.wv:\n",
    "        embedding_vector = w2v.wv[word]\n",
    "        embedding_wights[i] = embedding_vector\n",
    "    \n",
    "  return embedding_wights, num_words\n",
    "\n",
    "def build_RNN_model(input_size, num_words, output_dim, embedding_wights,metrics_list):\n",
    "\n",
    "    model = Sequential()\n",
    "    model.add(Embedding(input_dim=num_words, output_dim=output_dim, trainable=True, input_length=input_size, weights=[embedding_wights]))\n",
    "    model.add(BatchNormalization())\n",
    "    model.add(Bidirectional(LSTM(256, return_sequences=True, recurrent_dropout=0.2, dropout=0.2), 'concat'))\n",
    "    model.add(Dropout(0.4))\n",
    "    model.add(LSTM(64, return_sequences=True, recurrent_dropout=0.2, dropout=0.2))\n",
    "    model.add(Dropout(0.4))\n",
    "    model.add(LSTM(32, return_sequences=False, recurrent_dropout=0.2, dropout=0.2))\n",
    "    model.add(Dropout(0.2))\n",
    "    model.add(Dense(32, activation='sigmoid'))\n",
    "    model.add(Dropout(0.2))\n",
    "    model.add(Dense(14, activation='softmax'))\n",
    "    model.compile(loss ='categorical_crossentropy', optimizer = \"adam\", metrics = metrics_list)\n",
    "\n",
    "\n",
    "    return model\n"
   ]
  },
  {
   "cell_type": "code",
   "execution_count": 5,
   "metadata": {},
   "outputs": [],
   "source": [
    "data_train = pd.read_csv(\"data/csv/clean_df_train.csv\")\n",
    "data_test = pd.read_csv(\"data/csv/clean_df_test.csv\")"
   ]
  },
  {
   "cell_type": "code",
   "execution_count": 6,
   "metadata": {},
   "outputs": [],
   "source": [
    "#subsampling for developing faster\n",
    "if DEVELOPING:\n",
    "    data_train = data_train.groupby('label').apply(lambda x: x.sample(frac=0.03)).reset_index(drop=True)\n",
    "    data_test = data_test.groupby('label').apply(lambda x: x.sample(frac=0.03)).reset_index(drop=True)"
   ]
  },
  {
   "attachments": {},
   "cell_type": "markdown",
   "metadata": {},
   "source": [
    "## preprocessing"
   ]
  },
  {
   "attachments": {},
   "cell_type": "markdown",
   "metadata": {},
   "source": [
    "### Analyzing length of each sentence"
   ]
  },
  {
   "attachments": {},
   "cell_type": "markdown",
   "metadata": {},
   "source": [
    "With a length of input of 80 words we are only not completely getting approximatelly a 5% of the data (train and test)"
   ]
  },
  {
   "cell_type": "code",
   "execution_count": 7,
   "metadata": {},
   "outputs": [],
   "source": [
    "data_train[\"words_count\"] = data_train.apply(lambda row: len(row[\"content\"].split()), axis = 1)\n",
    "data_test[\"words_count\"] = data_test.apply(lambda row: len(row[\"content\"].split()), axis = 1)"
   ]
  },
  {
   "cell_type": "code",
   "execution_count": 8,
   "metadata": {},
   "outputs": [
    {
     "data": {
      "text/plain": [
       "count    11573.000000\n",
       "mean        45.155966\n",
       "std         24.755010\n",
       "min          2.000000\n",
       "25%         24.000000\n",
       "50%         44.000000\n",
       "75%         65.000000\n",
       "max       1175.000000\n",
       "Name: words_count, dtype: float64"
      ]
     },
     "execution_count": 8,
     "metadata": {},
     "output_type": "execute_result"
    }
   ],
   "source": [
    "data_train[\"words_count\"].describe()"
   ]
  },
  {
   "cell_type": "code",
   "execution_count": 9,
   "metadata": {},
   "outputs": [
    {
     "data": {
      "text/plain": [
       "count    1443.000000\n",
       "mean       45.778933\n",
       "std        23.077126\n",
       "min         6.000000\n",
       "25%        24.000000\n",
       "50%        44.000000\n",
       "75%        67.000000\n",
       "max       179.000000\n",
       "Name: words_count, dtype: float64"
      ]
     },
     "execution_count": 9,
     "metadata": {},
     "output_type": "execute_result"
    }
   ],
   "source": [
    "data_test[\"words_count\"].describe()"
   ]
  },
  {
   "cell_type": "code",
   "execution_count": 10,
   "metadata": {},
   "outputs": [
    {
     "data": {
      "text/plain": [
       "0        [ware, label, himeyasoft, inc., confuse, distr...\n",
       "1        [octapharma, large, privately, own, human, pro...\n",
       "2        [knoll, aircraft, company, american, aircraft,...\n",
       "3        [middletown, area, transit, popularly, know, m...\n",
       "4        [fabrap, finch, alexander, barnes, rothschild,...\n",
       "                               ...                        \n",
       "11568    [journal, gazette, morning, newspaper, fort, w...\n",
       "11569    [scandia, academic, journal, history, publish,...\n",
       "11570    [central, european, journal, mathematics, peer...\n",
       "11571    [grey, japanese, science, fiction, manga, crea...\n",
       "11572    [kindly, ones, french, les, bienveillantes, hi...\n",
       "Length: 11573, dtype: object"
      ]
     },
     "execution_count": 10,
     "metadata": {},
     "output_type": "execute_result"
    }
   ],
   "source": [
    "\"\"\"#parallelizing (Not sure it works correctly. Maybe mac hardware is not good for this)\n",
    "import dask.dataframe as dd\n",
    "from dask.multiprocessing import get\n",
    "\n",
    "ddata = dd.from_pandas(data_train, npartitions=30)\n",
    "\n",
    "#data_train[:1000].apply(lambda row: split_sentences(row[\"content\"]), axis = 1)\n",
    "ddata.map_partitions(lambda df: df.apply((lambda row: split_sentences(row[\"content\"])), axis=1)).compute(scheduler=\"threads\")\"\"\""
   ]
  },
  {
   "cell_type": "code",
   "execution_count": 11,
   "metadata": {},
   "outputs": [],
   "source": [
    "data_train[\"preprocessed_content\"] = data_train.apply(lambda row: split_sentences(row[\"content\"]), axis = 1)\n",
    "data_test[\"preprocessed_content\"] = data_test.apply(lambda row: split_sentences(row[\"content\"]), axis = 1)"
   ]
  },
  {
   "cell_type": "code",
   "execution_count": 12,
   "metadata": {},
   "outputs": [
    {
     "data": {
      "text/html": [
       "<div>\n",
       "<style scoped>\n",
       "    .dataframe tbody tr th:only-of-type {\n",
       "        vertical-align: middle;\n",
       "    }\n",
       "\n",
       "    .dataframe tbody tr th {\n",
       "        vertical-align: top;\n",
       "    }\n",
       "\n",
       "    .dataframe thead th {\n",
       "        text-align: right;\n",
       "    }\n",
       "</style>\n",
       "<table border=\"1\" class=\"dataframe\">\n",
       "  <thead>\n",
       "    <tr style=\"text-align: right;\">\n",
       "      <th></th>\n",
       "      <th>label</th>\n",
       "      <th>title</th>\n",
       "      <th>content</th>\n",
       "      <th>words_count</th>\n",
       "      <th>preprocessed_content</th>\n",
       "    </tr>\n",
       "  </thead>\n",
       "  <tbody>\n",
       "    <tr>\n",
       "      <th>0</th>\n",
       "      <td>0.0</td>\n",
       "      <td>C's Ware</td>\n",
       "      <td>C's Ware is a label of HimeyaSoft Inc. (not t...</td>\n",
       "      <td>77</td>\n",
       "      <td>[ware, label, himeyasoft, inc., confuse, distr...</td>\n",
       "    </tr>\n",
       "    <tr>\n",
       "      <th>1</th>\n",
       "      <td>0.0</td>\n",
       "      <td>Octapharma</td>\n",
       "      <td>Octapharma AG is the largest privately owned ...</td>\n",
       "      <td>68</td>\n",
       "      <td>[octapharma, large, privately, own, human, pro...</td>\n",
       "    </tr>\n",
       "    <tr>\n",
       "      <th>2</th>\n",
       "      <td>0.0</td>\n",
       "      <td>Knoll Aircraft Company</td>\n",
       "      <td>Knoll Aircraft Company was an American aircra...</td>\n",
       "      <td>12</td>\n",
       "      <td>[knoll, aircraft, company, american, aircraft,...</td>\n",
       "    </tr>\n",
       "    <tr>\n",
       "      <th>3</th>\n",
       "      <td>0.0</td>\n",
       "      <td>Middletown Area Transit</td>\n",
       "      <td>Middletown Area Transit popularly known as MA...</td>\n",
       "      <td>73</td>\n",
       "      <td>[middletown, area, transit, popularly, know, m...</td>\n",
       "    </tr>\n",
       "    <tr>\n",
       "      <th>4</th>\n",
       "      <td>0.0</td>\n",
       "      <td>FABRAP</td>\n",
       "      <td>FABRAP or Finch Alexander Barnes Rothschild a...</td>\n",
       "      <td>32</td>\n",
       "      <td>[fabrap, finch, alexander, barnes, rothschild,...</td>\n",
       "    </tr>\n",
       "  </tbody>\n",
       "</table>\n",
       "</div>"
      ],
      "text/plain": [
       "   label                    title  \\\n",
       "0    0.0                 C's Ware   \n",
       "1    0.0               Octapharma   \n",
       "2    0.0   Knoll Aircraft Company   \n",
       "3    0.0  Middletown Area Transit   \n",
       "4    0.0                   FABRAP   \n",
       "\n",
       "                                             content  words_count  \\\n",
       "0   C's Ware is a label of HimeyaSoft Inc. (not t...           77   \n",
       "1   Octapharma AG is the largest privately owned ...           68   \n",
       "2   Knoll Aircraft Company was an American aircra...           12   \n",
       "3   Middletown Area Transit popularly known as MA...           73   \n",
       "4   FABRAP or Finch Alexander Barnes Rothschild a...           32   \n",
       "\n",
       "                                preprocessed_content  \n",
       "0  [ware, label, himeyasoft, inc., confuse, distr...  \n",
       "1  [octapharma, large, privately, own, human, pro...  \n",
       "2  [knoll, aircraft, company, american, aircraft,...  \n",
       "3  [middletown, area, transit, popularly, know, m...  \n",
       "4  [fabrap, finch, alexander, barnes, rothschild,...  "
      ]
     },
     "execution_count": 12,
     "metadata": {},
     "output_type": "execute_result"
    }
   ],
   "source": [
    "data_train.head()"
   ]
  },
  {
   "cell_type": "code",
   "execution_count": 13,
   "metadata": {},
   "outputs": [
    {
     "data": {
      "text/html": [
       "<div>\n",
       "<style scoped>\n",
       "    .dataframe tbody tr th:only-of-type {\n",
       "        vertical-align: middle;\n",
       "    }\n",
       "\n",
       "    .dataframe tbody tr th {\n",
       "        vertical-align: top;\n",
       "    }\n",
       "\n",
       "    .dataframe thead th {\n",
       "        text-align: right;\n",
       "    }\n",
       "</style>\n",
       "<table border=\"1\" class=\"dataframe\">\n",
       "  <thead>\n",
       "    <tr style=\"text-align: right;\">\n",
       "      <th></th>\n",
       "      <th>label</th>\n",
       "      <th>title</th>\n",
       "      <th>content</th>\n",
       "      <th>words_count</th>\n",
       "      <th>preprocessed_content</th>\n",
       "    </tr>\n",
       "  </thead>\n",
       "  <tbody>\n",
       "    <tr>\n",
       "      <th>0</th>\n",
       "      <td>0</td>\n",
       "      <td>SemBioSys Genetics</td>\n",
       "      <td>SemBioSys Genetics Inc. was a development sta...</td>\n",
       "      <td>46</td>\n",
       "      <td>[sembiosys, genetics, inc., development, stage...</td>\n",
       "    </tr>\n",
       "    <tr>\n",
       "      <th>1</th>\n",
       "      <td>0</td>\n",
       "      <td>Element Six</td>\n",
       "      <td>Element Six (formerly De Beers Industrial Dia...</td>\n",
       "      <td>57</td>\n",
       "      <td>[element, beers, industrial, diamond, company,...</td>\n",
       "    </tr>\n",
       "    <tr>\n",
       "      <th>2</th>\n",
       "      <td>0</td>\n",
       "      <td>NBTY</td>\n",
       "      <td>NBTY Inc. formerly known as Nature's Bounty I...</td>\n",
       "      <td>56</td>\n",
       "      <td>[nbty, inc., know, nature, bounty, inc., ameri...</td>\n",
       "    </tr>\n",
       "    <tr>\n",
       "      <th>3</th>\n",
       "      <td>0</td>\n",
       "      <td>Pinkberry</td>\n",
       "      <td>Pinkberry is a franchise of upscale frozen de...</td>\n",
       "      <td>65</td>\n",
       "      <td>[pinkberry, franchise, upscale, frozen, desser...</td>\n",
       "    </tr>\n",
       "    <tr>\n",
       "      <th>4</th>\n",
       "      <td>0</td>\n",
       "      <td>Lam Research</td>\n",
       "      <td>Lam Research Corporation is an American corpo...</td>\n",
       "      <td>27</td>\n",
       "      <td>[lam, research, corporation, american, corpora...</td>\n",
       "    </tr>\n",
       "  </tbody>\n",
       "</table>\n",
       "</div>"
      ],
      "text/plain": [
       "   label               title  \\\n",
       "0      0  SemBioSys Genetics   \n",
       "1      0         Element Six   \n",
       "2      0                NBTY   \n",
       "3      0           Pinkberry   \n",
       "4      0        Lam Research   \n",
       "\n",
       "                                             content  words_count  \\\n",
       "0   SemBioSys Genetics Inc. was a development sta...           46   \n",
       "1   Element Six (formerly De Beers Industrial Dia...           57   \n",
       "2   NBTY Inc. formerly known as Nature's Bounty I...           56   \n",
       "3   Pinkberry is a franchise of upscale frozen de...           65   \n",
       "4   Lam Research Corporation is an American corpo...           27   \n",
       "\n",
       "                                preprocessed_content  \n",
       "0  [sembiosys, genetics, inc., development, stage...  \n",
       "1  [element, beers, industrial, diamond, company,...  \n",
       "2  [nbty, inc., know, nature, bounty, inc., ameri...  \n",
       "3  [pinkberry, franchise, upscale, frozen, desser...  \n",
       "4  [lam, research, corporation, american, corpora...  "
      ]
     },
     "execution_count": 13,
     "metadata": {},
     "output_type": "execute_result"
    }
   ],
   "source": [
    "data_test.head()"
   ]
  },
  {
   "attachments": {},
   "cell_type": "markdown",
   "metadata": {},
   "source": [
    "### Saving preprocessed dataframes to avoid repeating preprocessing"
   ]
  },
  {
   "cell_type": "code",
   "execution_count": null,
   "metadata": {},
   "outputs": [],
   "source": [
    "data_train.to_csv('preprocessed_df_train.csv', index=False)\n",
    "data_test.to_csv('preprocessed_df_test.csv', index=False)"
   ]
  },
  {
   "attachments": {},
   "cell_type": "markdown",
   "metadata": {},
   "source": [
    "## Tokenizer"
   ]
  },
  {
   "cell_type": "code",
   "execution_count": 4,
   "metadata": {},
   "outputs": [],
   "source": [
    "data_train = pd.read_csv(\"data/csv/preprocessed_df_train.csv\")\n",
    "data_test = pd.read_csv(\"data/csv/preprocessed_df_test.csv\")"
   ]
  },
  {
   "cell_type": "code",
   "execution_count": 20,
   "metadata": {},
   "outputs": [],
   "source": [
    "data_train[\"preprocessed_content\"] = data_train.apply(lambda row: ast.literal_eval(row[\"preprocessed_content\"]), axis = 1)\n",
    "data_test[\"preprocessed_content\"] = data_test.apply(lambda row: ast.literal_eval(row[\"preprocessed_content\"]), axis = 1)"
   ]
  },
  {
   "cell_type": "code",
   "execution_count": 21,
   "metadata": {},
   "outputs": [],
   "source": [
    "train_sequences, test_sequences, train_labels, test_labels, word_index = encoding_data(data_train, data_test, MAX_LENGTH)\n",
    "\n",
    "#Saving all information so we dont need to process them again\n",
    "with open(\"data/tokenizers_embedders/train_sequences.pickle\",\"wb\") as file:\n",
    "    pickle.dump(train_sequences,file)\n",
    "with open(\"data/tokenizers_embedders/test_sequences.pickle\",\"wb\") as file:\n",
    "    pickle.dump(test_sequences,file)\n",
    "with open(\"data/tokenizers_embedders/train_labels.pickle\",\"wb\") as file:\n",
    "    pickle.dump(train_labels,file)\n",
    "with open(\"data/tokenizers_embedders/test_labels.pickle\",\"wb\") as file:\n",
    "    pickle.dump(test_labels,file)\n",
    "with open(\"data/tokenizers_embedders/word_index.pickle\",\"wb\") as file:\n",
    "    pickle.dump(word_index,file)"
   ]
  },
  {
   "cell_type": "code",
   "execution_count": 22,
   "metadata": {},
   "outputs": [],
   "source": [
    "# loading\n",
    "with open('data/tokenizers_embedders/tokenizer.pickle', 'rb') as file:\n",
    "    tokenizer = pickle.load(file)\n",
    "with open(\"data/tokenizers_embedders/train_sequences.pickle\",\"rb\") as file:\n",
    "    train_sequences = pickle.load(file)\n",
    "with open(\"data/tokenizers_embedders/train_sequences.pickle\",\"rb\") as file:\n",
    "    test_sequences = pickle.load(file)\n",
    "with open(\"data/tokenizers_embedders/train_labels.pickle\",\"rb\") as file:\n",
    "    train_labels = pickle.load(file)\n",
    "with open(\"data/tokenizers_embedders/test_labels.pickle\",\"rb\") as file:\n",
    "    test_labels = pickle.load(file)\n",
    "with open(\"data/tokenizers_embedders/word_index.pickle\",\"rb\") as file:\n",
    "    word_index = pickle.load(file)"
   ]
  },
  {
   "attachments": {},
   "cell_type": "markdown",
   "metadata": {},
   "source": [
    "# Defnining word embedding"
   ]
  },
  {
   "attachments": {},
   "cell_type": "markdown",
   "metadata": {},
   "source": [
    "### Creating our own word embedding with Word2vec"
   ]
  },
  {
   "attachments": {},
   "cell_type": "markdown",
   "metadata": {},
   "source": [
    "+ min_count = int - Ignores all words with total absolute frequency lower than this - (2, 100)\n",
    "+ window = int - The maximum distance between the current and predicted word within a sentence. E.g. window words on the left and window words on the left of our target - (2, 10)\n",
    "+ size = int - Dimensionality of the feature vectors. - (50, 300)\n",
    "+ sample = float - The threshold for configuring which higher-frequency words are randomly downsampled. Highly influencial. - (0, 1e-5)\n",
    "+ alpha = float - The initial learning rate - (0.01, 0.05)\n",
    "min_alpha = float - Learning rate will linearly drop to min_alpha as training progresses. To set it: alpha - (min_alpha * epochs) ~ 0.00\n",
    "+ negative = int - If > 0, negative sampling will be used, the int for negative specifies how many \"noise words\" should be drown. If set to 0, no negative sampling is used. - (5, 20)\n",
    "+ workers = int - Use these many worker threads to train the model (=faster training with multicore machines)"
   ]
  },
  {
   "cell_type": "code",
   "execution_count": 23,
   "metadata": {},
   "outputs": [
    {
     "data": {
      "text/plain": [
       "416506"
      ]
     },
     "execution_count": 23,
     "metadata": {},
     "output_type": "execute_result"
    }
   ],
   "source": [
    "#total words in our vocabulary\n",
    "len(word_index.keys())"
   ]
  },
  {
   "cell_type": "code",
   "execution_count": 24,
   "metadata": {},
   "outputs": [
    {
     "data": {
      "text/html": [
       "<div>\n",
       "<style scoped>\n",
       "    .dataframe tbody tr th:only-of-type {\n",
       "        vertical-align: middle;\n",
       "    }\n",
       "\n",
       "    .dataframe tbody tr th {\n",
       "        vertical-align: top;\n",
       "    }\n",
       "\n",
       "    .dataframe thead th {\n",
       "        text-align: right;\n",
       "    }\n",
       "</style>\n",
       "<table border=\"1\" class=\"dataframe\">\n",
       "  <thead>\n",
       "    <tr style=\"text-align: right;\">\n",
       "      <th></th>\n",
       "      <th>label</th>\n",
       "      <th>title</th>\n",
       "      <th>content</th>\n",
       "      <th>words_count</th>\n",
       "      <th>preprocessed_content</th>\n",
       "      <th>preprocessing</th>\n",
       "    </tr>\n",
       "  </thead>\n",
       "  <tbody>\n",
       "    <tr>\n",
       "      <th>0</th>\n",
       "      <td>0.0</td>\n",
       "      <td>E. D. Abbott Ltd</td>\n",
       "      <td>Abbott of Farnham E D Abbott Limited was a Br...</td>\n",
       "      <td>40</td>\n",
       "      <td>[abbott, farnham, abbott, limited, british, co...</td>\n",
       "      <td>[abbott, farnham, abbott, limited, british, co...</td>\n",
       "    </tr>\n",
       "    <tr>\n",
       "      <th>1</th>\n",
       "      <td>0.0</td>\n",
       "      <td>Schwan-Stabilo</td>\n",
       "      <td>Schwan-STABILO is a German maker of pens for ...</td>\n",
       "      <td>32</td>\n",
       "      <td>[schwan, stabilo, german, maker, pen, write, c...</td>\n",
       "      <td>[schwan, stabilo, german, maker, pen, write, c...</td>\n",
       "    </tr>\n",
       "    <tr>\n",
       "      <th>2</th>\n",
       "      <td>0.0</td>\n",
       "      <td>Marvell Software Solutions Israel</td>\n",
       "      <td>Marvell Software Solutions Israel known as RA...</td>\n",
       "      <td>29</td>\n",
       "      <td>[marvell, software, solutions, israel, know, r...</td>\n",
       "      <td>[marvell, software, solutions, israel, know, r...</td>\n",
       "    </tr>\n",
       "    <tr>\n",
       "      <th>3</th>\n",
       "      <td>0.0</td>\n",
       "      <td>Bergan Mercy Medical Center</td>\n",
       "      <td>Bergan Mercy Medical Center is a hospital loc...</td>\n",
       "      <td>19</td>\n",
       "      <td>[bergan, mercy, medical, center, hospital, loc...</td>\n",
       "      <td>[bergan, mercy, medical, center, hospital, loc...</td>\n",
       "    </tr>\n",
       "    <tr>\n",
       "      <th>4</th>\n",
       "      <td>0.0</td>\n",
       "      <td>The Unsigned Guide</td>\n",
       "      <td>The Unsigned Guide is an online contacts dire...</td>\n",
       "      <td>37</td>\n",
       "      <td>[unsigned, guide, online, contact, directory, ...</td>\n",
       "      <td>[unsigned, guide, online, contact, directory, ...</td>\n",
       "    </tr>\n",
       "    <tr>\n",
       "      <th>...</th>\n",
       "      <td>...</td>\n",
       "      <td>...</td>\n",
       "      <td>...</td>\n",
       "      <td>...</td>\n",
       "      <td>...</td>\n",
       "      <td>...</td>\n",
       "    </tr>\n",
       "    <tr>\n",
       "      <th>385744</th>\n",
       "      <td>13.0</td>\n",
       "      <td>Scoliosis (journal)</td>\n",
       "      <td>Scoliosis (ISSN 1748-7161) is an open-access ...</td>\n",
       "      <td>60</td>\n",
       "      <td>[scoliosis, issn, 1748, 7161, open, access, pe...</td>\n",
       "      <td>[scoliosis, issn, 1748, 7161, open, access, pe...</td>\n",
       "    </tr>\n",
       "    <tr>\n",
       "      <th>385745</th>\n",
       "      <td>13.0</td>\n",
       "      <td>Barking in Essex</td>\n",
       "      <td>Barking in Essex is a Black comedy play direc...</td>\n",
       "      <td>34</td>\n",
       "      <td>[bark, essex, black, comedy, play, direct, har...</td>\n",
       "      <td>[bark, essex, black, comedy, play, direct, har...</td>\n",
       "    </tr>\n",
       "    <tr>\n",
       "      <th>385746</th>\n",
       "      <td>13.0</td>\n",
       "      <td>Science &amp; Spirit</td>\n",
       "      <td>Science &amp; Spirit is a discontinued American b...</td>\n",
       "      <td>66</td>\n",
       "      <td>[science, spirit, discontinued, american, bimo...</td>\n",
       "      <td>[science, spirit, discontinued, american, bimo...</td>\n",
       "    </tr>\n",
       "    <tr>\n",
       "      <th>385747</th>\n",
       "      <td>13.0</td>\n",
       "      <td>The Blithedale Romance</td>\n",
       "      <td>The Blithedale Romance (1852) is Nathaniel Ha...</td>\n",
       "      <td>27</td>\n",
       "      <td>[blithedale, romance, 1852, nathaniel, hawthor...</td>\n",
       "      <td>[blithedale, romance, 1852, nathaniel, hawthor...</td>\n",
       "    </tr>\n",
       "    <tr>\n",
       "      <th>385748</th>\n",
       "      <td>13.0</td>\n",
       "      <td>The Vinyl Cafe Notebooks</td>\n",
       "      <td>Vinyl Cafe Notebooks: a collection of essays ...</td>\n",
       "      <td>75</td>\n",
       "      <td>[vinyl, cafe, notebooks, collection, essay, vi...</td>\n",
       "      <td>[vinyl, cafe, notebooks, collection, essay, vi...</td>\n",
       "    </tr>\n",
       "  </tbody>\n",
       "</table>\n",
       "<p>385749 rows × 6 columns</p>\n",
       "</div>"
      ],
      "text/plain": [
       "        label                              title  \\\n",
       "0         0.0                   E. D. Abbott Ltd   \n",
       "1         0.0                     Schwan-Stabilo   \n",
       "2         0.0  Marvell Software Solutions Israel   \n",
       "3         0.0        Bergan Mercy Medical Center   \n",
       "4         0.0                 The Unsigned Guide   \n",
       "...       ...                                ...   \n",
       "385744   13.0                Scoliosis (journal)   \n",
       "385745   13.0                   Barking in Essex   \n",
       "385746   13.0                   Science & Spirit   \n",
       "385747   13.0             The Blithedale Romance   \n",
       "385748   13.0           The Vinyl Cafe Notebooks   \n",
       "\n",
       "                                                  content  words_count  \\\n",
       "0        Abbott of Farnham E D Abbott Limited was a Br...           40   \n",
       "1        Schwan-STABILO is a German maker of pens for ...           32   \n",
       "2        Marvell Software Solutions Israel known as RA...           29   \n",
       "3        Bergan Mercy Medical Center is a hospital loc...           19   \n",
       "4        The Unsigned Guide is an online contacts dire...           37   \n",
       "...                                                   ...          ...   \n",
       "385744   Scoliosis (ISSN 1748-7161) is an open-access ...           60   \n",
       "385745   Barking in Essex is a Black comedy play direc...           34   \n",
       "385746   Science & Spirit is a discontinued American b...           66   \n",
       "385747   The Blithedale Romance (1852) is Nathaniel Ha...           27   \n",
       "385748   Vinyl Cafe Notebooks: a collection of essays ...           75   \n",
       "\n",
       "                                     preprocessed_content  \\\n",
       "0       [abbott, farnham, abbott, limited, british, co...   \n",
       "1       [schwan, stabilo, german, maker, pen, write, c...   \n",
       "2       [marvell, software, solutions, israel, know, r...   \n",
       "3       [bergan, mercy, medical, center, hospital, loc...   \n",
       "4       [unsigned, guide, online, contact, directory, ...   \n",
       "...                                                   ...   \n",
       "385744  [scoliosis, issn, 1748, 7161, open, access, pe...   \n",
       "385745  [bark, essex, black, comedy, play, direct, har...   \n",
       "385746  [science, spirit, discontinued, american, bimo...   \n",
       "385747  [blithedale, romance, 1852, nathaniel, hawthor...   \n",
       "385748  [vinyl, cafe, notebooks, collection, essay, vi...   \n",
       "\n",
       "                                            preprocessing  \n",
       "0       [abbott, farnham, abbott, limited, british, co...  \n",
       "1       [schwan, stabilo, german, maker, pen, write, c...  \n",
       "2       [marvell, software, solutions, israel, know, r...  \n",
       "3       [bergan, mercy, medical, center, hospital, loc...  \n",
       "4       [unsigned, guide, online, contact, directory, ...  \n",
       "...                                                   ...  \n",
       "385744  [scoliosis, issn, 1748, 7161, open, access, pe...  \n",
       "385745  [bark, essex, black, comedy, play, direct, har...  \n",
       "385746  [science, spirit, discontinued, american, bimo...  \n",
       "385747  [blithedale, romance, 1852, nathaniel, hawthor...  \n",
       "385748  [vinyl, cafe, notebooks, collection, essay, vi...  \n",
       "\n",
       "[385749 rows x 6 columns]"
      ]
     },
     "execution_count": 24,
     "metadata": {},
     "output_type": "execute_result"
    }
   ],
   "source": [
    "data_train"
   ]
  },
  {
   "cell_type": "code",
   "execution_count": 25,
   "metadata": {},
   "outputs": [],
   "source": [
    "w2v_model = Word2Vec(sentences= data_train[\"preprocessed_content\"].to_list(),\n",
    "                     min_count=3,\n",
    "                     window=10,\n",
    "                     vector_size=100,\n",
    "                     sample=6e-5, \n",
    "                     alpha=0.03, \n",
    "                     min_alpha=0.0007)"
   ]
  },
  {
   "cell_type": "code",
   "execution_count": 29,
   "metadata": {},
   "outputs": [],
   "source": [
    "w2v_model.save(\"data/models/word2vec.model\")"
   ]
  },
  {
   "cell_type": "code",
   "execution_count": 30,
   "metadata": {},
   "outputs": [
    {
     "data": {
      "text/plain": [
       "124152"
      ]
     },
     "execution_count": 30,
     "metadata": {},
     "output_type": "execute_result"
    }
   ],
   "source": [
    "#total words in our word embedding ignoring words that appear less than 3 times\n",
    "len(w2v_model.wv)"
   ]
  },
  {
   "cell_type": "code",
   "execution_count": 32,
   "metadata": {},
   "outputs": [],
   "source": [
    "embedding_wights, num_words = embeddingWights(w2v_model, word_index, max_num_words=500000)"
   ]
  },
  {
   "cell_type": "code",
   "execution_count": 33,
   "metadata": {},
   "outputs": [
    {
     "data": {
      "text/plain": [
       "0.0"
      ]
     },
     "execution_count": 33,
     "metadata": {},
     "output_type": "execute_result"
    }
   ],
   "source": [
    "# testing the word embedding by comparing the weights of the final \n",
    "# embedding_wights and w2v_model.wv vector for the word \"software\", \n",
    "# they should be the same so the result should be 0.\n",
    "\n",
    "(embedding_wights[word_index[\"school\"],:].reshape([100,1])-w2v_model.wv[\"school\"].reshape([100,1])).sum()"
   ]
  },
  {
   "cell_type": "code",
   "execution_count": 35,
   "metadata": {},
   "outputs": [],
   "source": [
    "#saving embedding weights\n",
    "np.save('data/models/embedding_layer_weights.npy', embedding_wights)\n",
    "np.save('data/models/num_words.npy', num_words)"
   ]
  },
  {
   "attachments": {},
   "cell_type": "markdown",
   "metadata": {},
   "source": [
    "### Visualizing word embedding"
   ]
  },
  {
   "cell_type": "code",
   "execution_count": 48,
   "metadata": {},
   "outputs": [],
   "source": [
    "#loading previously trained model\n",
    "w2v_model = Word2Vec.load(\"data/models/word2vec.model\")"
   ]
  },
  {
   "cell_type": "code",
   "execution_count": 49,
   "metadata": {},
   "outputs": [
    {
     "name": "stdout",
     "output_type": "stream",
     "text": [
      "3 words similar to **software**\n",
      "('computer', 0.8293694257736206)\n",
      "('linux', 0.8119499087333679)\n",
      "('microsoft', 0.8118927478790283)\n"
     ]
    }
   ],
   "source": [
    "#testing similarities\n",
    "word = 'software'\n",
    "print(f\"3 words similar to **{word}**\")\n",
    "words = w2v_model.wv.most_similar(word, topn=3)\n",
    "for word in words:\n",
    "  print(word)"
   ]
  },
  {
   "cell_type": "code",
   "execution_count": 50,
   "metadata": {},
   "outputs": [
    {
     "name": "stdout",
     "output_type": "stream",
     "text": [
      "3 words similar to **school**\n",
      "('high', 0.7755335569381714)\n",
      "('secondary', 0.7312402129173279)\n",
      "('grade', 0.7299057841300964)\n"
     ]
    }
   ],
   "source": [
    "#testing similarities\n",
    "word = 'school'\n",
    "print(f\"3 words similar to **{word}**\")\n",
    "words = w2v_model.wv.most_similar(word, topn=3)\n",
    "for word in words:\n",
    "  print(word)"
   ]
  },
  {
   "cell_type": "code",
   "execution_count": 74,
   "metadata": {},
   "outputs": [
    {
     "name": "stderr",
     "output_type": "stream",
     "text": [
      "/Library/Frameworks/Python.framework/Versions/3.8/lib/python3.8/site-packages/seaborn/_decorators.py:36: FutureWarning: Pass the following variables as keyword args: x, y. From version 0.12, the only valid positional argument will be `data`, and passing other arguments without an explicit keyword will result in an error or misinterpretation.\n",
      "  warnings.warn(\n"
     ]
    },
    {
     "data": {
      "image/png": "[encoded data removed]",
      "text/plain": [
       "<Figure size 640x480 with 1 Axes>"
      ]
     },
     "metadata": {},
     "output_type": "display_data"
    }
   ],
   "source": [
    "from sklearn.decomposition import PCA\n",
    "\n",
    "words_to_represent = 50\n",
    "\n",
    "pca = PCA(n_components=2)\n",
    "result = pca.fit_transform(w2v_model.wv.vectors[:words_to_represent])\n",
    "word_embedding_fig = sns.scatterplot(result[:,0],result[:,1])\n",
    "\n",
    "words = list(w2v_model.wv.key_to_index.keys())[:words_to_represent]\n",
    "\n",
    "for i in range(words_to_represent):\n",
    "   word_embedding_fig.annotate(words[i], xy = (result[i, 0], result[i, 1]))\n",
    "\n",
    "word_embedding_fig.set_title('Word embedding sample representation')\n",
    "\n",
    "plt.savefig(\"data/results/figures/word_embedding.png\")"
   ]
  },
  {
   "attachments": {},
   "cell_type": "markdown",
   "metadata": {},
   "source": [
    "# Training"
   ]
  },
  {
   "cell_type": "markdown",
   "metadata": {},
   "source": [
    "### Data separation"
   ]
  },
  {
   "cell_type": "code",
   "execution_count": 68,
   "metadata": {},
   "outputs": [],
   "source": [
    "#loading datasets\n",
    "with open(\"data/tokenizers_embedders/train_sequences.pickle\",\"rb\") as file:\n",
    "    train_sequences = pickle.load(file)\n",
    "with open(\"data/tokenizers_embedders/test_sequences.pickle\",\"rb\") as file:\n",
    "    test_sequences = pickle.load(file)\n",
    "with open(\"data/tokenizers_embedders/train_labels.pickle\",\"rb\") as file:\n",
    "    train_labels = pickle.load(file)\n",
    "with open(\"data/tokenizers_embedders/test_labels.pickle\",\"rb\") as file:\n",
    "    test_labels = pickle.load(file)"
   ]
  },
  {
   "cell_type": "code",
   "execution_count": 10,
   "metadata": {},
   "outputs": [],
   "source": [
    "#loading files for training the model\n",
    "embedding_wights = np.load(\"data/models/embedding_layer_weights.npy\")\n",
    "num_words = np.load(\"data/models/num_words.npy\")"
   ]
  },
  {
   "cell_type": "code",
   "execution_count": 11,
   "metadata": {},
   "outputs": [
    {
     "data": {
      "text/plain": [
       "(416507, 100)"
      ]
     },
     "execution_count": 11,
     "metadata": {},
     "output_type": "execute_result"
    }
   ],
   "source": [
    "embedding_wights.shape"
   ]
  },
  {
   "cell_type": "code",
   "execution_count": 12,
   "metadata": {},
   "outputs": [
    {
     "data": {
      "text/plain": [
       "array(416507)"
      ]
     },
     "execution_count": 12,
     "metadata": {},
     "output_type": "execute_result"
    }
   ],
   "source": [
    "num_words"
   ]
  },
  {
   "cell_type": "code",
   "execution_count": 77,
   "metadata": {},
   "outputs": [
    {
     "data": {
      "text/plain": [
       "(385749, 80)"
      ]
     },
     "execution_count": 77,
     "metadata": {},
     "output_type": "execute_result"
    }
   ],
   "source": [
    "train_sequences.shape"
   ]
  },
  {
   "cell_type": "code",
   "execution_count": null,
   "metadata": {},
   "outputs": [],
   "source": [
    "train_data, val_data, train_labels, val_labels = train_test_split(train_sequences, \n",
    "                                                                  train_labels,\n",
    "                                                                  test_size = 0.2)\n",
    "test_data = test_sequences\n",
    "test_labels = test_labels"
   ]
  },
  {
   "cell_type": "code",
   "execution_count": 7,
   "metadata": {},
   "outputs": [],
   "source": [
    "#Creation of callbacks\n",
    "\n",
    "log_dir = dest_path + \"/logs/fit/\"+ datetime.datetime.now().strftime(\"%Y%m%d-%H%M%S\")\n",
    "\n",
    "es_callback = tf.keras.callbacks.EarlyStopping(monitor='val_loss', \n",
    "                                                mode='min', \n",
    "                                                patience = 5, \n",
    "                                                verbose=1)\n",
    "\n",
    "tensorboard_callback = tf.keras.callbacks.TensorBoard(log_dir = log_dir,\n",
    "                                                        histogram_freq = 1)\n",
    "\n",
    "checkpoint_path_best = os.path.join(dest_path,model_name + \"_best.hdf5\")\n",
    "checkpoint_path_last = os.path.join(dest_path,model_name + \"_last.hdf5\")\n",
    "\n",
    "cp_callback_best = tf.keras.callbacks.ModelCheckpoint(filepath=checkpoint_path_best,\n",
    "                                                save_best_only=True,\n",
    "                                                monitor = \"val_loss\",\n",
    "                                                mode = \"min\",\n",
    "                                                verbose=1)\n",
    "\n",
    "cp_callback_last = tf.keras.callbacks.ModelCheckpoint(filepath = checkpoint_path_last,\n",
    "                                                    verbose = 0,\n",
    "                                                    save_freq = 'epoch')\n",
    "\n",
    "reduce_lr_callback = ReduceLROnPlateau(monitor='val_loss', patience = 5, mode = \"min\", verbose = 1, factor = 0.1, min_delta=0.001, min_lr = 0.00001)\n",
    "\n",
    "callbacks_list = [cp_callback_best, cp_callback_last, es_callback, tensorboard_callback]"
   ]
  },
  {
   "cell_type": "code",
   "execution_count": null,
   "metadata": {},
   "outputs": [
    {
     "name": "stdout",
     "output_type": "stream",
     "text": [
      "WARNING:tensorflow:Layer lstm_3 will not use cuDNN kernels since it doesn't meet the criteria. It will use a generic GPU kernel as fallback when running on GPU.\n",
      "WARNING:tensorflow:Layer lstm_3 will not use cuDNN kernels since it doesn't meet the criteria. It will use a generic GPU kernel as fallback when running on GPU.\n",
      "WARNING:tensorflow:Layer lstm_3 will not use cuDNN kernels since it doesn't meet the criteria. It will use a generic GPU kernel as fallback when running on GPU.\n",
      "WARNING:tensorflow:Layer lstm_4 will not use cuDNN kernels since it doesn't meet the criteria. It will use a generic GPU kernel as fallback when running on GPU.\n",
      "WARNING:tensorflow:Layer lstm_5 will not use cuDNN kernels since it doesn't meet the criteria. It will use a generic GPU kernel as fallback when running on GPU.\n",
      "Model: \"sequential_2\"\n",
      "_________________________________________________________________\n",
      " Layer (type)                Output Shape              Param #   \n",
      "=================================================================\n",
      " embedding_2 (Embedding)     (None, 80, 100)           41650700  \n",
      "                                                                 \n",
      " batch_normalization (BatchN  (None, 80, 100)          400       \n",
      " ormalization)                                                   \n",
      "                                                                 \n",
      " bidirectional_1 (Bidirectio  (None, 80, 512)          731136    \n",
      " nal)                                                            \n",
      "                                                                 \n",
      " dropout_4 (Dropout)         (None, 80, 512)           0         \n",
      "                                                                 \n",
      " lstm_4 (LSTM)               (None, 80, 64)            147712    \n",
      "                                                                 \n",
      " dropout_5 (Dropout)         (None, 80, 64)            0         \n",
      "                                                                 \n",
      " lstm_5 (LSTM)               (None, 32)                12416     \n",
      "                                                                 \n",
      " dropout_6 (Dropout)         (None, 32)                0         \n",
      "                                                                 \n",
      " dense_2 (Dense)             (None, 32)                1056      \n",
      "                                                                 \n",
      " dropout_7 (Dropout)         (None, 32)                0         \n",
      "                                                                 \n",
      " dense_3 (Dense)             (None, 14)                462       \n",
      "                                                                 \n",
      "=================================================================\n",
      "Total params: 42,543,882\n",
      "Trainable params: 42,543,682\n",
      "Non-trainable params: 200\n",
      "_________________________________________________________________\n"
     ]
    }
   ],
   "source": [
    "#creating the model\n",
    "RNN_model = build_RNN_model(MAX_LENGTH, num_words, 100, embedding_wights, metrics_list)\n",
    "RNN_model.summary()"
   ]
  },
  {
   "cell_type": "code",
   "execution_count": null,
   "metadata": {},
   "outputs": [
    {
     "name": "stdout",
     "output_type": "stream",
     "text": [
      "Epoch 1/50\n",
      "205/205 [==============================] - ETA: 0s - loss: 1.1226 - Accuracy: 0.8502 - precision: 0.9701 - recall: 0.3303\n",
      "Epoch 00001: val_loss improved from inf to 0.43931, saving model to data\\models\\tensorflow_outputs\\RNN_model_best.hdf5\n",
      "205/205 [==============================] - 1065s 5s/step - loss: 1.1226 - Accuracy: 0.8502 - precision: 0.9701 - recall: 0.3303 - val_loss: 0.4393 - val_Accuracy: 0.9598 - val_precision: 0.9699 - val_recall: 0.9334\n",
      "Epoch 2/50\n",
      "205/205 [==============================] - ETA: 0s - loss: 0.3893 - Accuracy: 0.9606 - precision: 0.9763 - recall: 0.8975\n",
      "Epoch 00002: val_loss improved from 0.43931 to 0.18296, saving model to data\\models\\tensorflow_outputs\\RNN_model_best.hdf5\n",
      "205/205 [==============================] - 967s 5s/step - loss: 0.3893 - Accuracy: 0.9606 - precision: 0.9763 - recall: 0.8975 - val_loss: 0.1830 - val_Accuracy: 0.9753 - val_precision: 0.9798 - val_recall: 0.9717\n",
      "Epoch 3/50\n",
      "205/205 [==============================] - ETA: 0s - loss: 0.2185 - Accuracy: 0.9742 - precision: 0.9815 - recall: 0.9603\n",
      "Epoch 00003: val_loss improved from 0.18296 to 0.12827, saving model to data\\models\\tensorflow_outputs\\RNN_model_best.hdf5\n",
      "205/205 [==============================] - 950s 5s/step - loss: 0.2185 - Accuracy: 0.9742 - precision: 0.9815 - recall: 0.9603 - val_loss: 0.1283 - val_Accuracy: 0.9783 - val_precision: 0.9816 - val_recall: 0.9760\n",
      "Epoch 4/50\n",
      "205/205 [==============================] - ETA: 0s - loss: 0.1593 - Accuracy: 0.9785 - precision: 0.9837 - recall: 0.9721\n",
      "Epoch 00004: val_loss improved from 0.12827 to 0.11290, saving model to data\\models\\tensorflow_outputs\\RNN_model_best.hdf5\n",
      "205/205 [==============================] - 946s 5s/step - loss: 0.1593 - Accuracy: 0.9785 - precision: 0.9837 - recall: 0.9721 - val_loss: 0.1129 - val_Accuracy: 0.9790 - val_precision: 0.9815 - val_recall: 0.9776\n",
      "Epoch 5/50\n",
      "205/205 [==============================] - ETA: 0s - loss: 0.1260 - Accuracy: 0.9817 - precision: 0.9856 - recall: 0.9775\n",
      "Epoch 00005: val_loss improved from 0.11290 to 0.10484, saving model to data\\models\\tensorflow_outputs\\RNN_model_best.hdf5\n",
      "205/205 [==============================] - 943s 5s/step - loss: 0.1260 - Accuracy: 0.9817 - precision: 0.9856 - recall: 0.9775 - val_loss: 0.1048 - val_Accuracy: 0.9795 - val_precision: 0.9810 - val_recall: 0.9781\n",
      "Epoch 6/50\n",
      "205/205 [==============================] - ETA: 0s - loss: 0.1052 - Accuracy: 0.9840 - precision: 0.9873 - recall: 0.9808\n",
      "Epoch 00006: val_loss improved from 0.10484 to 0.08761, saving model to data\\models\\tensorflow_outputs\\RNN_model_best.hdf5\n",
      "205/205 [==============================] - 950s 5s/step - loss: 0.1052 - Accuracy: 0.9840 - precision: 0.9873 - recall: 0.9808 - val_loss: 0.0876 - val_Accuracy: 0.9829 - val_precision: 0.9845 - val_recall: 0.9818\n",
      "Epoch 7/50\n",
      "205/205 [==============================] - ETA: 0s - loss: 0.0884 - Accuracy: 0.9863 - precision: 0.9888 - recall: 0.9838\n",
      "Epoch 00007: val_loss improved from 0.08761 to 0.08612, saving model to data\\models\\tensorflow_outputs\\RNN_model_best.hdf5\n",
      "205/205 [==============================] - 952s 5s/step - loss: 0.0884 - Accuracy: 0.9863 - precision: 0.9888 - recall: 0.9838 - val_loss: 0.0861 - val_Accuracy: 0.9836 - val_precision: 0.9850 - val_recall: 0.9828\n",
      "Epoch 8/50\n",
      "205/205 [==============================] - ETA: 0s - loss: 0.0790 - Accuracy: 0.9872 - precision: 0.9896 - recall: 0.9850\n",
      "Epoch 00008: val_loss did not improve from 0.08612\n",
      "205/205 [==============================] - 943s 5s/step - loss: 0.0790 - Accuracy: 0.9872 - precision: 0.9896 - recall: 0.9850 - val_loss: 0.0876 - val_Accuracy: 0.9834 - val_precision: 0.9846 - val_recall: 0.9828\n",
      "Epoch 9/50\n",
      "205/205 [==============================] - ETA: 0s - loss: 0.0688 - Accuracy: 0.9891 - precision: 0.9908 - recall: 0.9875\n",
      "Epoch 00009: val_loss improved from 0.08612 to 0.08149, saving model to data\\models\\tensorflow_outputs\\RNN_model_best.hdf5\n",
      "205/205 [==============================] - 947s 5s/step - loss: 0.0688 - Accuracy: 0.9891 - precision: 0.9908 - recall: 0.9875 - val_loss: 0.0815 - val_Accuracy: 0.9841 - val_precision: 0.9855 - val_recall: 0.9833\n",
      "Epoch 10/50\n",
      "205/205 [==============================] - ETA: 0s - loss: 0.0569 - Accuracy: 0.9913 - precision: 0.9927 - recall: 0.9900\n",
      "Epoch 00010: val_loss did not improve from 0.08149\n",
      "205/205 [==============================] - 940s 5s/step - loss: 0.0569 - Accuracy: 0.9913 - precision: 0.9927 - recall: 0.9900 - val_loss: 0.0826 - val_Accuracy: 0.9845 - val_precision: 0.9855 - val_recall: 0.9839\n",
      "Epoch 11/50\n",
      "205/205 [==============================] - ETA: 0s - loss: 0.0513 - Accuracy: 0.9919 - precision: 0.9932 - recall: 0.9908\n",
      "Epoch 00011: val_loss did not improve from 0.08149\n",
      "205/205 [==============================] - 954s 5s/step - loss: 0.0513 - Accuracy: 0.9919 - precision: 0.9932 - recall: 0.9908 - val_loss: 0.1018 - val_Accuracy: 0.9817 - val_precision: 0.9828 - val_recall: 0.9808\n",
      "Epoch 12/50\n",
      "205/205 [==============================] - ETA: 0s - loss: 0.0461 - Accuracy: 0.9929 - precision: 0.9939 - recall: 0.9919\n",
      "Epoch 00012: val_loss did not improve from 0.08149\n",
      "205/205 [==============================] - 938s 5s/step - loss: 0.0461 - Accuracy: 0.9929 - precision: 0.9939 - recall: 0.9919 - val_loss: 0.0880 - val_Accuracy: 0.9840 - val_precision: 0.9849 - val_recall: 0.9834\n",
      "Epoch 13/50\n",
      "205/205 [==============================] - ETA: 0s - loss: 0.0435 - Accuracy: 0.9930 - precision: 0.9940 - recall: 0.9923\n",
      "Epoch 00013: val_loss did not improve from 0.08149\n",
      "205/205 [==============================] - 935s 5s/step - loss: 0.0435 - Accuracy: 0.9930 - precision: 0.9940 - recall: 0.9923 - val_loss: 0.0900 - val_Accuracy: 0.9840 - val_precision: 0.9847 - val_recall: 0.9836\n",
      "Epoch 14/50\n",
      "205/205 [==============================] - ETA: 0s - loss: 0.0372 - Accuracy: 0.9943 - precision: 0.9950 - recall: 0.9936\n",
      "Epoch 00014: val_loss did not improve from 0.08149\n",
      "205/205 [==============================] - 937s 5s/step - loss: 0.0372 - Accuracy: 0.9943 - precision: 0.9950 - recall: 0.9936 - val_loss: 0.0900 - val_Accuracy: 0.9845 - val_precision: 0.9851 - val_recall: 0.9842\n",
      "Epoch 00014: early stopping\n"
     ]
    }
   ],
   "source": [
    "history = RNN_model.fit(train_data, train_labels, epochs = 50,\n",
    "          batch_size = 1512, shuffle=True,\n",
    "          validation_data=[val_data, val_labels],\n",
    "          callbacks = callbacks_list,\n",
    "          verbose = 1,\n",
    "          use_multiprocessing=True\n",
    "          )"
   ]
  },
  {
   "cell_type": "code",
   "execution_count": null,
   "metadata": {},
   "outputs": [
    {
     "data": {
      "text/plain": [
       "<matplotlib.legend.Legend at 0x182f0b3f550>"
      ]
     },
     "metadata": {},
     "output_type": "display_data"
    },
    {
     "data": {
      "image/png": "[encoded data removed]",
      "text/plain": [
       "<Figure size 640x480 with 1 Axes>"
      ]
     },
     "metadata": {},
     "output_type": "display_data"
    }
   ],
   "source": [
    "\n",
    "loss = history.history['loss']\n",
    "val_loss = history.history['val_loss']\n",
    "epochs = range(1, len(loss) + 1)\n",
    "plt.plot(epochs, loss, 'y', label='Training loss')\n",
    "plt.plot(epochs, val_loss, 'r', label='Validation loss')\n",
    "plt.title('Training and validation loss')\n",
    "plt.xlabel('Epochs')\n",
    "plt.ylabel('Loss')\n",
    "plt.legend()"
   ]
  },
  {
   "attachments": {},
   "cell_type": "markdown",
   "metadata": {},
   "source": [
    "### Evaluation"
   ]
  },
  {
   "cell_type": "code",
   "execution_count": 66,
   "metadata": {},
   "outputs": [],
   "source": [
    "#creating the model structure\n",
    "RNN_model = build_RNN_model(MAX_LENGTH, num_words, 100, embedding_wights, metrics_list)\n",
    "\n",
    "#loading weights\n",
    "checkpoint_path = checkpoint_path_best\n",
    "RNN_model.load_weights(checkpoint_path)\n",
    " "
   ]
  },
  {
   "cell_type": "code",
   "execution_count": 69,
   "metadata": {},
   "outputs": [
    {
     "name": "stdout",
     "output_type": "stream",
     "text": [
      "32/32 [==============================] - 73s 2s/step - loss: 0.0821 - Accuracy: 0.9839 - precision: 0.9854 - recall: 0.9831\n"
     ]
    },
    {
     "data": {
      "text/plain": [
       "[0.08208899199962616,\n",
       " 0.9839349985122681,\n",
       " 0.9853559732437134,\n",
       " 0.9830828905105591]"
      ]
     },
     "execution_count": 69,
     "metadata": {},
     "output_type": "execute_result"
    }
   ],
   "source": [
    "results = RNN_model.evaluate(test_sequences, test_labels, batch_size = 1512)\n",
    "results"
   ]
  },
  {
   "cell_type": "code",
   "execution_count": 20,
   "metadata": {},
   "outputs": [
    {
     "data": {
      "text/plain": [
       "0.9842181194398524"
      ]
     },
     "execution_count": 20,
     "metadata": {},
     "output_type": "execute_result"
    }
   ],
   "source": [
    "F1score = 2*(results[2]*results[3])/(results[2]+results[3])\n",
    "F1score"
   ]
  },
  {
   "cell_type": "code",
   "execution_count": 21,
   "metadata": {},
   "outputs": [
    {
     "name": "stdout",
     "output_type": "stream",
     "text": [
      "Precision over test set: 0.9853559732437134\n",
      "Recall over test set: 0.9830828905105591\n",
      "Accuracy over test set: 0.9839349985122681\n",
      "F1 over test set: 0.9842181194398524\n"
     ]
    }
   ],
   "source": [
    "print(\"Precision over test set: \" + str(results[2]))\n",
    "print(\"Recall over test set: \" + str(results[3]))\n",
    "print(\"Accuracy over test set: \" + str(results[1]))\n",
    "print(\"F1 over test set: \" + str(F1score))"
   ]
  },
  {
   "cell_type": "code",
   "execution_count": 23,
   "metadata": {},
   "outputs": [
    {
     "data": {
      "text/plain": [
       "(48117, 14)"
      ]
     },
     "execution_count": 23,
     "metadata": {},
     "output_type": "execute_result"
    }
   ],
   "source": [
    "#creating a matrix with results for each class\n",
    "test_labels.shape"
   ]
  },
  {
   "cell_type": "code",
   "execution_count": 71,
   "metadata": {},
   "outputs": [],
   "source": [
    "results_matrix = np.zeros((4,14))"
   ]
  },
  {
   "cell_type": "code",
   "execution_count": 73,
   "metadata": {},
   "outputs": [
    {
     "name": "stdout",
     "output_type": "stream",
     "text": [
      "3/3 [==============================] - 5s 1s/step - loss: 0.1912 - Accuracy: 0.9598 - precision: 0.9619 - recall: 0.9567\n",
      "3/3 [==============================] - 5s 2s/step - loss: 0.0819 - Accuracy: 0.9817 - precision: 0.9840 - recall: 0.9809\n",
      "2/2 [==============================] - 4s 2s/step - loss: 0.1421 - Accuracy: 0.9734 - precision: 0.9755 - recall: 0.9730\n",
      "2/2 [==============================] - 5s 2s/step - loss: 0.0294 - Accuracy: 0.9921 - precision: 0.9932 - recall: 0.9921\n",
      "2/2 [==============================] - 3s 1s/step - loss: 0.0933 - Accuracy: 0.9815 - precision: 0.9839 - recall: 0.9806\n",
      "3/3 [==============================] - 6s 2s/step - loss: 0.0559 - Accuracy: 0.9874 - precision: 0.9883 - recall: 0.9871\n",
      "3/3 [==============================] - 6s 2s/step - loss: 0.1051 - Accuracy: 0.9773 - precision: 0.9784 - recall: 0.9748\n",
      "2/2 [==============================] - 4s 2s/step - loss: 0.0417 - Accuracy: 0.9913 - precision: 0.9920 - recall: 0.9913\n",
      "1/1 [==============================] - 1s 1s/step - loss: 0.0617 - Accuracy: 0.9908 - precision: 0.9920 - recall: 0.9908\n",
      "3/3 [==============================] - 7s 2s/step - loss: 0.0568 - Accuracy: 0.9908 - precision: 0.9913 - recall: 0.9908\n",
      "3/3 [==============================] - 6s 2s/step - loss: 0.0292 - Accuracy: 0.9968 - precision: 0.9970 - recall: 0.9964\n",
      "3/3 [==============================] - 6s 2s/step - loss: 0.0704 - Accuracy: 0.9898 - precision: 0.9912 - recall: 0.9887\n",
      "3/3 [==============================] - 5s 2s/step - loss: 0.0890 - Accuracy: 0.9833 - precision: 0.9852 - recall: 0.9825\n",
      "3/3 [==============================] - 6s 2s/step - loss: 0.0935 - Accuracy: 0.9816 - precision: 0.9838 - recall: 0.9811\n"
     ]
    }
   ],
   "source": [
    "for i in range(14):\n",
    "    y_test_class = test_labels[test_labels[:,i] == 1]\n",
    "    x_test_class = test_sequences[test_labels[:,i] == 1]\n",
    "    results = RNN_model.evaluate(x_test_class, y_test_class, batch_size = 1512)\n",
    "\n",
    "    results_matrix[0,i] = results[1]#accuracy\n",
    "    results_matrix[1,i] = results[2]#precision\n",
    "    results_matrix[2,i] = results[3]#recall\n",
    "    results_matrix[3,i] = 2*(results[2]*results[3])/(results[2]+results[3])#F1    "
   ]
  },
  {
   "cell_type": "code",
   "execution_count": 74,
   "metadata": {},
   "outputs": [
    {
     "data": {
      "text/html": [
       "<div>\n",
       "<style scoped>\n",
       "    .dataframe tbody tr th:only-of-type {\n",
       "        vertical-align: middle;\n",
       "    }\n",
       "\n",
       "    .dataframe tbody tr th {\n",
       "        vertical-align: top;\n",
       "    }\n",
       "\n",
       "    .dataframe thead th {\n",
       "        text-align: right;\n",
       "    }\n",
       "</style>\n",
       "<table border=\"1\" class=\"dataframe\">\n",
       "  <thead>\n",
       "    <tr style=\"text-align: right;\">\n",
       "      <th></th>\n",
       "      <th>Company</th>\n",
       "      <th>EducationalInstitution</th>\n",
       "      <th>Artist</th>\n",
       "      <th>Athlete</th>\n",
       "      <th>OfficeHolder</th>\n",
       "      <th>MeanOfTransportation</th>\n",
       "      <th>Building</th>\n",
       "      <th>NaturalPlace</th>\n",
       "      <th>Village</th>\n",
       "      <th>Animal</th>\n",
       "      <th>Plant</th>\n",
       "      <th>Album</th>\n",
       "      <th>Film</th>\n",
       "      <th>WrittenWork</th>\n",
       "      <th>global</th>\n",
       "    </tr>\n",
       "  </thead>\n",
       "  <tbody>\n",
       "    <tr>\n",
       "      <th>Accuracy</th>\n",
       "      <td>0.959764</td>\n",
       "      <td>0.981710</td>\n",
       "      <td>0.973383</td>\n",
       "      <td>0.992129</td>\n",
       "      <td>0.981466</td>\n",
       "      <td>0.987373</td>\n",
       "      <td>0.977267</td>\n",
       "      <td>0.991325</td>\n",
       "      <td>0.990836</td>\n",
       "      <td>0.990809</td>\n",
       "      <td>0.996811</td>\n",
       "      <td>0.989820</td>\n",
       "      <td>0.983306</td>\n",
       "      <td>0.981576</td>\n",
       "      <td>0.984113</td>\n",
       "    </tr>\n",
       "    <tr>\n",
       "      <th>Precision</th>\n",
       "      <td>0.961865</td>\n",
       "      <td>0.983979</td>\n",
       "      <td>0.975537</td>\n",
       "      <td>0.993246</td>\n",
       "      <td>0.983884</td>\n",
       "      <td>0.988349</td>\n",
       "      <td>0.978435</td>\n",
       "      <td>0.992014</td>\n",
       "      <td>0.991973</td>\n",
       "      <td>0.991254</td>\n",
       "      <td>0.997037</td>\n",
       "      <td>0.991185</td>\n",
       "      <td>0.985181</td>\n",
       "      <td>0.983834</td>\n",
       "      <td>0.985555</td>\n",
       "    </tr>\n",
       "    <tr>\n",
       "      <th>Recall</th>\n",
       "      <td>0.956689</td>\n",
       "      <td>0.980938</td>\n",
       "      <td>0.973013</td>\n",
       "      <td>0.992129</td>\n",
       "      <td>0.980642</td>\n",
       "      <td>0.987126</td>\n",
       "      <td>0.974769</td>\n",
       "      <td>0.991325</td>\n",
       "      <td>0.990836</td>\n",
       "      <td>0.990809</td>\n",
       "      <td>0.996355</td>\n",
       "      <td>0.988663</td>\n",
       "      <td>0.982485</td>\n",
       "      <td>0.981064</td>\n",
       "      <td>0.983346</td>\n",
       "    </tr>\n",
       "    <tr>\n",
       "      <th>F1score</th>\n",
       "      <td>0.959270</td>\n",
       "      <td>0.982456</td>\n",
       "      <td>0.974274</td>\n",
       "      <td>0.992687</td>\n",
       "      <td>0.982261</td>\n",
       "      <td>0.987737</td>\n",
       "      <td>0.976599</td>\n",
       "      <td>0.991670</td>\n",
       "      <td>0.991404</td>\n",
       "      <td>0.991031</td>\n",
       "      <td>0.996696</td>\n",
       "      <td>0.989922</td>\n",
       "      <td>0.983831</td>\n",
       "      <td>0.982447</td>\n",
       "      <td>0.984449</td>\n",
       "    </tr>\n",
       "  </tbody>\n",
       "</table>\n",
       "</div>"
      ],
      "text/plain": [
       "            Company  EducationalInstitution    Artist   Athlete  OfficeHolder  \\\n",
       "Accuracy   0.959764                0.981710  0.973383  0.992129      0.981466   \n",
       "Precision  0.961865                0.983979  0.975537  0.993246      0.983884   \n",
       "Recall     0.956689                0.980938  0.973013  0.992129      0.980642   \n",
       "F1score    0.959270                0.982456  0.974274  0.992687      0.982261   \n",
       "\n",
       "           MeanOfTransportation  Building  NaturalPlace   Village    Animal  \\\n",
       "Accuracy               0.987373  0.977267      0.991325  0.990836  0.990809   \n",
       "Precision              0.988349  0.978435      0.992014  0.991973  0.991254   \n",
       "Recall                 0.987126  0.974769      0.991325  0.990836  0.990809   \n",
       "F1score                0.987737  0.976599      0.991670  0.991404  0.991031   \n",
       "\n",
       "              Plant     Album      Film  WrittenWork    global  \n",
       "Accuracy   0.996811  0.989820  0.983306     0.981576  0.984113  \n",
       "Precision  0.997037  0.991185  0.985181     0.983834  0.985555  \n",
       "Recall     0.996355  0.988663  0.982485     0.981064  0.983346  \n",
       "F1score    0.996696  0.989922  0.983831     0.982447  0.984449  "
      ]
     },
     "execution_count": 74,
     "metadata": {},
     "output_type": "execute_result"
    }
   ],
   "source": [
    "results_df = pd.DataFrame(results_matrix, columns = classes)\n",
    "results_df.index = [\"Accuracy\", \"Precision\", \"Recall\", \"F1score\"]\n",
    "results_df[\"global\"] = results_df.apply(lambda row: row[classes].mean(), axis = 1)\n",
    "results_df"
   ]
  },
  {
   "cell_type": "code",
   "execution_count": 47,
   "metadata": {},
   "outputs": [],
   "source": [
    "results_df.to_csv(\"data/models_results/RNN_metrics_results.csv\")"
   ]
  },
  {
   "attachments": {},
   "cell_type": "markdown",
   "metadata": {},
   "source": [
    "# Error analysis"
   ]
  },
  {
   "cell_type": "code",
   "execution_count": 87,
   "metadata": {},
   "outputs": [],
   "source": [
    "#loading datasets\n",
    "with open(\"data/tokenizers_embedders/test_sequences.pickle\",\"rb\") as file:\n",
    "    test_sequences = pickle.load(file)\n",
    "with open(\"data/tokenizers_embedders/test_labels.pickle\",\"rb\") as file:\n",
    "    test_labels = pickle.load(file)\n",
    "\n",
    "embedding_wights = np.load(\"data/models/embedding_layer_weights.npy\")\n",
    "num_words = np.load(\"data/models/num_words.npy\")\n",
    "\n",
    "#creating the model structure\n",
    "RNN_model = build_RNN_model(MAX_LENGTH, num_words, 100, embedding_wights, metrics_list)\n",
    "\n",
    "#loading weights\n",
    "checkpoint_path = checkpoint_path_best\n",
    "RNN_model.load_weights(checkpoint_path)"
   ]
  },
  {
   "cell_type": "code",
   "execution_count": 88,
   "metadata": {},
   "outputs": [],
   "source": [
    "test_dataset_errors = pd.read_csv(\"data/csv/preprocessed_df_test.csv\")"
   ]
  },
  {
   "cell_type": "code",
   "execution_count": 90,
   "metadata": {},
   "outputs": [
    {
     "name": "stdout",
     "output_type": "stream",
     "text": [
      "47/47 [==============================] - 72s 2s/step\n"
     ]
    }
   ],
   "source": [
    "test_pred = RNN_model.predict(test_sequences, batch_size = 1024)"
   ]
  },
  {
   "cell_type": "code",
   "execution_count": 93,
   "metadata": {},
   "outputs": [],
   "source": [
    "max_vals = []\n",
    "for vector in test_pred:\n",
    "\n",
    "    max_val = np.max(vector)\n",
    "    max_index = np.where(vector == max_val)[0][0]\n",
    "    max_vals.append(max_index)\n",
    "    \n",
    "test_dataset_errors[\"pred\"] = max_vals"
   ]
  },
  {
   "cell_type": "code",
   "execution_count": 106,
   "metadata": {},
   "outputs": [],
   "source": [
    "test_dataset_errors[\"correct_pred\"] = test_dataset_errors.apply(lambda row: True if row[\"pred\"]==row[\"label\"] else False, axis = 1)"
   ]
  },
  {
   "cell_type": "code",
   "execution_count": 111,
   "metadata": {},
   "outputs": [],
   "source": [
    "test_dataset_errors.to_csv(\"data/results/models_results/RNN_errors_analysis.csv\")"
   ]
  },
  {
   "cell_type": "code",
   "execution_count": 108,
   "metadata": {},
   "outputs": [
    {
     "data": {
      "text/plain": [
       "0     157\n",
       "6      91\n",
       "2      72\n",
       "13     72\n",
       "1      71\n",
       "12     61\n",
       "5      51\n",
       "4      45\n",
       "11     44\n",
       "9      41\n",
       "7      25\n",
       "3      21\n",
       "10     14\n",
       "8       8\n",
       "Name: label, dtype: int64"
      ]
     },
     "execution_count": 108,
     "metadata": {},
     "output_type": "execute_result"
    }
   ],
   "source": [
    "test_dataset_errors[test_dataset_errors[\"correct_pred\"] == False][\"label\"].value_counts()"
   ]
  },
  {
   "attachments": {},
   "cell_type": "markdown",
   "metadata": {},
   "source": [
    "# Bias analysis"
   ]
  },
  {
   "cell_type": "code",
   "execution_count": 20,
   "metadata": {},
   "outputs": [],
   "source": [
    "embedding_wights = np.load(\"data/models/embedding_layer_weights.npy\")\n",
    "num_words = np.load(\"data/models/num_words.npy\")\n",
    "\n",
    "#creating the model structure\n",
    "RNN_model = build_RNN_model(MAX_LENGTH, num_words, 100, embedding_wights, metrics_list)\n",
    "\n",
    "#loading weights\n",
    "checkpoint_path = checkpoint_path_best\n",
    "RNN_model.load_weights(checkpoint_path)\n",
    "\n",
    "# loading tokenizer\n",
    "with open('data/tokenizers_embedders/tokenizer.pickle', 'rb') as file:\n",
    "    tokenizer = pickle.load(file)"
   ]
  },
  {
   "cell_type": "code",
   "execution_count": 10,
   "metadata": {},
   "outputs": [],
   "source": [
    "#loading word embedder\n",
    "w2v_model = Word2Vec.load(\"data/models/word2vec.model\")"
   ]
  },
  {
   "cell_type": "code",
   "execution_count": 75,
   "metadata": {},
   "outputs": [
    {
     "data": {
      "text/plain": [
       "array([[   0,    0,    0, ...,    0,    0,  243],\n",
       "       [   0,    0,    0, ...,    0,    0,  552],\n",
       "       [   0,    0,    0, ...,    0,    0, 1007],\n",
       "       ...,\n",
       "       [   0,    0,    0, ...,    0,    0, 1808],\n",
       "       [   0,    0,    0, ...,    0,    0, 8733],\n",
       "       [   0,    0,    0, ...,    0,    0, 2418]], dtype=int32)"
      ]
     },
     "execution_count": 75,
     "metadata": {},
     "output_type": "execute_result"
    }
   ],
   "source": [
    "words = [\"man\",\"boy\",\"male\",\"woman\",\"girl\",\"female\",\n",
    "          \"european\",\"caucasian\",\"african\",\"asian\" ,\n",
    "          \"indian\",\"pakistani\",\"bangladeshi\",\"chinese\",\n",
    "          \"caribbean\",\"gypsy\",\"arab\"]\n",
    "\n",
    "token_seq = []\n",
    "\n",
    "\n",
    "for word in words:\n",
    "    token = w2v_model.wv.key_to_index[word]\n",
    "    token_seq.append([token])\n",
    "    padded_sequences = pad_sequences(token_seq, maxlen=MAX_LENGTH, padding=\"pre\")\n",
    "\n",
    "padded_sequences"
   ]
  },
  {
   "cell_type": "code",
   "execution_count": 76,
   "metadata": {},
   "outputs": [
    {
     "name": "stdout",
     "output_type": "stream",
     "text": [
      "1/1 [==============================] - 1s 1s/step\n"
     ]
    }
   ],
   "source": [
    "bias_results = RNN_model.predict(padded_sequences)"
   ]
  },
  {
   "cell_type": "code",
   "execution_count": 80,
   "metadata": {},
   "outputs": [
    {
     "data": {
      "text/html": [
       "<div>\n",
       "<style scoped>\n",
       "    .dataframe tbody tr th:only-of-type {\n",
       "        vertical-align: middle;\n",
       "    }\n",
       "\n",
       "    .dataframe tbody tr th {\n",
       "        vertical-align: top;\n",
       "    }\n",
       "\n",
       "    .dataframe thead th {\n",
       "        text-align: right;\n",
       "    }\n",
       "</style>\n",
       "<table border=\"1\" class=\"dataframe\">\n",
       "  <thead>\n",
       "    <tr style=\"text-align: right;\">\n",
       "      <th></th>\n",
       "      <th>Company</th>\n",
       "      <th>EducationalInstitution</th>\n",
       "      <th>Artist</th>\n",
       "      <th>Athlete</th>\n",
       "      <th>OfficeHolder</th>\n",
       "      <th>MeanOfTransportation</th>\n",
       "      <th>Building</th>\n",
       "      <th>NaturalPlace</th>\n",
       "      <th>Village</th>\n",
       "      <th>Animal</th>\n",
       "      <th>Plant</th>\n",
       "      <th>Album</th>\n",
       "      <th>Film</th>\n",
       "      <th>WrittenWork</th>\n",
       "    </tr>\n",
       "  </thead>\n",
       "  <tbody>\n",
       "    <tr>\n",
       "      <th>man</th>\n",
       "      <td>0.185187</td>\n",
       "      <td>0.064930</td>\n",
       "      <td>0.045896</td>\n",
       "      <td>0.051979</td>\n",
       "      <td>0.058277</td>\n",
       "      <td>0.031698</td>\n",
       "      <td>0.077652</td>\n",
       "      <td>0.004840</td>\n",
       "      <td>0.038555</td>\n",
       "      <td>0.021730</td>\n",
       "      <td>0.009871</td>\n",
       "      <td>0.073602</td>\n",
       "      <td>0.254367</td>\n",
       "      <td>0.081415</td>\n",
       "    </tr>\n",
       "    <tr>\n",
       "      <th>boy</th>\n",
       "      <td>0.000746</td>\n",
       "      <td>0.003273</td>\n",
       "      <td>0.000709</td>\n",
       "      <td>0.012014</td>\n",
       "      <td>0.001758</td>\n",
       "      <td>0.000905</td>\n",
       "      <td>0.001762</td>\n",
       "      <td>0.000071</td>\n",
       "      <td>0.001058</td>\n",
       "      <td>0.964592</td>\n",
       "      <td>0.006997</td>\n",
       "      <td>0.004078</td>\n",
       "      <td>0.001851</td>\n",
       "      <td>0.000185</td>\n",
       "    </tr>\n",
       "    <tr>\n",
       "      <th>male</th>\n",
       "      <td>0.145366</td>\n",
       "      <td>0.085077</td>\n",
       "      <td>0.046972</td>\n",
       "      <td>0.039603</td>\n",
       "      <td>0.075645</td>\n",
       "      <td>0.050949</td>\n",
       "      <td>0.087699</td>\n",
       "      <td>0.061754</td>\n",
       "      <td>0.134053</td>\n",
       "      <td>0.032464</td>\n",
       "      <td>0.060315</td>\n",
       "      <td>0.092336</td>\n",
       "      <td>0.048591</td>\n",
       "      <td>0.039175</td>\n",
       "    </tr>\n",
       "    <tr>\n",
       "      <th>woman</th>\n",
       "      <td>0.131825</td>\n",
       "      <td>0.025133</td>\n",
       "      <td>0.039009</td>\n",
       "      <td>0.094813</td>\n",
       "      <td>0.198807</td>\n",
       "      <td>0.059704</td>\n",
       "      <td>0.053253</td>\n",
       "      <td>0.018026</td>\n",
       "      <td>0.055779</td>\n",
       "      <td>0.039579</td>\n",
       "      <td>0.054535</td>\n",
       "      <td>0.133210</td>\n",
       "      <td>0.063404</td>\n",
       "      <td>0.032923</td>\n",
       "    </tr>\n",
       "    <tr>\n",
       "      <th>girl</th>\n",
       "      <td>0.027889</td>\n",
       "      <td>0.015640</td>\n",
       "      <td>0.010343</td>\n",
       "      <td>0.001158</td>\n",
       "      <td>0.044820</td>\n",
       "      <td>0.033690</td>\n",
       "      <td>0.720597</td>\n",
       "      <td>0.026533</td>\n",
       "      <td>0.020421</td>\n",
       "      <td>0.024470</td>\n",
       "      <td>0.032099</td>\n",
       "      <td>0.017220</td>\n",
       "      <td>0.011974</td>\n",
       "      <td>0.013145</td>\n",
       "    </tr>\n",
       "    <tr>\n",
       "      <th>female</th>\n",
       "      <td>0.084327</td>\n",
       "      <td>0.196300</td>\n",
       "      <td>0.037152</td>\n",
       "      <td>0.144879</td>\n",
       "      <td>0.063758</td>\n",
       "      <td>0.041069</td>\n",
       "      <td>0.060617</td>\n",
       "      <td>0.004719</td>\n",
       "      <td>0.077267</td>\n",
       "      <td>0.092173</td>\n",
       "      <td>0.034930</td>\n",
       "      <td>0.054721</td>\n",
       "      <td>0.073297</td>\n",
       "      <td>0.034791</td>\n",
       "    </tr>\n",
       "    <tr>\n",
       "      <th>european</th>\n",
       "      <td>0.113899</td>\n",
       "      <td>0.018514</td>\n",
       "      <td>0.064077</td>\n",
       "      <td>0.106935</td>\n",
       "      <td>0.277660</td>\n",
       "      <td>0.050301</td>\n",
       "      <td>0.051948</td>\n",
       "      <td>0.018267</td>\n",
       "      <td>0.040633</td>\n",
       "      <td>0.034221</td>\n",
       "      <td>0.056346</td>\n",
       "      <td>0.088227</td>\n",
       "      <td>0.046717</td>\n",
       "      <td>0.032254</td>\n",
       "    </tr>\n",
       "    <tr>\n",
       "      <th>caucasian</th>\n",
       "      <td>0.105238</td>\n",
       "      <td>0.029547</td>\n",
       "      <td>0.035476</td>\n",
       "      <td>0.080670</td>\n",
       "      <td>0.187822</td>\n",
       "      <td>0.046349</td>\n",
       "      <td>0.063021</td>\n",
       "      <td>0.016218</td>\n",
       "      <td>0.080434</td>\n",
       "      <td>0.044574</td>\n",
       "      <td>0.051669</td>\n",
       "      <td>0.156524</td>\n",
       "      <td>0.065465</td>\n",
       "      <td>0.036995</td>\n",
       "    </tr>\n",
       "    <tr>\n",
       "      <th>african</th>\n",
       "      <td>0.044473</td>\n",
       "      <td>0.026737</td>\n",
       "      <td>0.012612</td>\n",
       "      <td>0.040498</td>\n",
       "      <td>0.091780</td>\n",
       "      <td>0.018946</td>\n",
       "      <td>0.026748</td>\n",
       "      <td>0.017999</td>\n",
       "      <td>0.372020</td>\n",
       "      <td>0.014004</td>\n",
       "      <td>0.043554</td>\n",
       "      <td>0.217669</td>\n",
       "      <td>0.045314</td>\n",
       "      <td>0.027646</td>\n",
       "    </tr>\n",
       "    <tr>\n",
       "      <th>asian</th>\n",
       "      <td>0.186272</td>\n",
       "      <td>0.025032</td>\n",
       "      <td>0.032311</td>\n",
       "      <td>0.042173</td>\n",
       "      <td>0.132493</td>\n",
       "      <td>0.039383</td>\n",
       "      <td>0.058524</td>\n",
       "      <td>0.086859</td>\n",
       "      <td>0.066474</td>\n",
       "      <td>0.027110</td>\n",
       "      <td>0.068450</td>\n",
       "      <td>0.174089</td>\n",
       "      <td>0.032838</td>\n",
       "      <td>0.027992</td>\n",
       "    </tr>\n",
       "    <tr>\n",
       "      <th>indian</th>\n",
       "      <td>0.030055</td>\n",
       "      <td>0.012550</td>\n",
       "      <td>0.009109</td>\n",
       "      <td>0.787852</td>\n",
       "      <td>0.015461</td>\n",
       "      <td>0.012803</td>\n",
       "      <td>0.001095</td>\n",
       "      <td>0.000544</td>\n",
       "      <td>0.005398</td>\n",
       "      <td>0.033414</td>\n",
       "      <td>0.031776</td>\n",
       "      <td>0.037807</td>\n",
       "      <td>0.007999</td>\n",
       "      <td>0.014138</td>\n",
       "    </tr>\n",
       "    <tr>\n",
       "      <th>pakistani</th>\n",
       "      <td>0.143007</td>\n",
       "      <td>0.009002</td>\n",
       "      <td>0.001866</td>\n",
       "      <td>0.021602</td>\n",
       "      <td>0.028362</td>\n",
       "      <td>0.018854</td>\n",
       "      <td>0.016358</td>\n",
       "      <td>0.008088</td>\n",
       "      <td>0.023376</td>\n",
       "      <td>0.019463</td>\n",
       "      <td>0.016973</td>\n",
       "      <td>0.637717</td>\n",
       "      <td>0.021467</td>\n",
       "      <td>0.033865</td>\n",
       "    </tr>\n",
       "    <tr>\n",
       "      <th>bangladeshi</th>\n",
       "      <td>0.080176</td>\n",
       "      <td>0.018889</td>\n",
       "      <td>0.115252</td>\n",
       "      <td>0.102205</td>\n",
       "      <td>0.357812</td>\n",
       "      <td>0.046861</td>\n",
       "      <td>0.061500</td>\n",
       "      <td>0.014195</td>\n",
       "      <td>0.030386</td>\n",
       "      <td>0.032310</td>\n",
       "      <td>0.043456</td>\n",
       "      <td>0.038122</td>\n",
       "      <td>0.034087</td>\n",
       "      <td>0.024748</td>\n",
       "    </tr>\n",
       "    <tr>\n",
       "      <th>chinese</th>\n",
       "      <td>0.073870</td>\n",
       "      <td>0.028125</td>\n",
       "      <td>0.073462</td>\n",
       "      <td>0.063771</td>\n",
       "      <td>0.298630</td>\n",
       "      <td>0.061524</td>\n",
       "      <td>0.099014</td>\n",
       "      <td>0.017117</td>\n",
       "      <td>0.072705</td>\n",
       "      <td>0.033481</td>\n",
       "      <td>0.056292</td>\n",
       "      <td>0.049299</td>\n",
       "      <td>0.044454</td>\n",
       "      <td>0.028255</td>\n",
       "    </tr>\n",
       "    <tr>\n",
       "      <th>caribbean</th>\n",
       "      <td>0.107053</td>\n",
       "      <td>0.042237</td>\n",
       "      <td>0.024851</td>\n",
       "      <td>0.055018</td>\n",
       "      <td>0.103349</td>\n",
       "      <td>0.038235</td>\n",
       "      <td>0.055787</td>\n",
       "      <td>0.034267</td>\n",
       "      <td>0.130135</td>\n",
       "      <td>0.045096</td>\n",
       "      <td>0.063787</td>\n",
       "      <td>0.216967</td>\n",
       "      <td>0.047603</td>\n",
       "      <td>0.035614</td>\n",
       "    </tr>\n",
       "    <tr>\n",
       "      <th>gypsy</th>\n",
       "      <td>0.075176</td>\n",
       "      <td>0.014159</td>\n",
       "      <td>0.113200</td>\n",
       "      <td>0.092343</td>\n",
       "      <td>0.410478</td>\n",
       "      <td>0.041612</td>\n",
       "      <td>0.053708</td>\n",
       "      <td>0.017413</td>\n",
       "      <td>0.027377</td>\n",
       "      <td>0.026845</td>\n",
       "      <td>0.051601</td>\n",
       "      <td>0.030790</td>\n",
       "      <td>0.025133</td>\n",
       "      <td>0.020164</td>\n",
       "    </tr>\n",
       "    <tr>\n",
       "      <th>arab</th>\n",
       "      <td>0.090494</td>\n",
       "      <td>0.050692</td>\n",
       "      <td>0.093192</td>\n",
       "      <td>0.069542</td>\n",
       "      <td>0.154590</td>\n",
       "      <td>0.059386</td>\n",
       "      <td>0.097164</td>\n",
       "      <td>0.011957</td>\n",
       "      <td>0.072935</td>\n",
       "      <td>0.030509</td>\n",
       "      <td>0.055200</td>\n",
       "      <td>0.051007</td>\n",
       "      <td>0.043222</td>\n",
       "      <td>0.120110</td>\n",
       "    </tr>\n",
       "  </tbody>\n",
       "</table>\n",
       "</div>"
      ],
      "text/plain": [
       "              Company  EducationalInstitution    Artist   Athlete  \\\n",
       "man          0.185187                0.064930  0.045896  0.051979   \n",
       "boy          0.000746                0.003273  0.000709  0.012014   \n",
       "male         0.145366                0.085077  0.046972  0.039603   \n",
       "woman        0.131825                0.025133  0.039009  0.094813   \n",
       "girl         0.027889                0.015640  0.010343  0.001158   \n",
       "female       0.084327                0.196300  0.037152  0.144879   \n",
       "european     0.113899                0.018514  0.064077  0.106935   \n",
       "caucasian    0.105238                0.029547  0.035476  0.080670   \n",
       "african      0.044473                0.026737  0.012612  0.040498   \n",
       "asian        0.186272                0.025032  0.032311  0.042173   \n",
       "indian       0.030055                0.012550  0.009109  0.787852   \n",
       "pakistani    0.143007                0.009002  0.001866  0.021602   \n",
       "bangladeshi  0.080176                0.018889  0.115252  0.102205   \n",
       "chinese      0.073870                0.028125  0.073462  0.063771   \n",
       "caribbean    0.107053                0.042237  0.024851  0.055018   \n",
       "gypsy        0.075176                0.014159  0.113200  0.092343   \n",
       "arab         0.090494                0.050692  0.093192  0.069542   \n",
       "\n",
       "             OfficeHolder  MeanOfTransportation  Building  NaturalPlace  \\\n",
       "man              0.058277              0.031698  0.077652      0.004840   \n",
       "boy              0.001758              0.000905  0.001762      0.000071   \n",
       "male             0.075645              0.050949  0.087699      0.061754   \n",
       "woman            0.198807              0.059704  0.053253      0.018026   \n",
       "girl             0.044820              0.033690  0.720597      0.026533   \n",
       "female           0.063758              0.041069  0.060617      0.004719   \n",
       "european         0.277660              0.050301  0.051948      0.018267   \n",
       "caucasian        0.187822              0.046349  0.063021      0.016218   \n",
       "african          0.091780              0.018946  0.026748      0.017999   \n",
       "asian            0.132493              0.039383  0.058524      0.086859   \n",
       "indian           0.015461              0.012803  0.001095      0.000544   \n",
       "pakistani        0.028362              0.018854  0.016358      0.008088   \n",
       "bangladeshi      0.357812              0.046861  0.061500      0.014195   \n",
       "chinese          0.298630              0.061524  0.099014      0.017117   \n",
       "caribbean        0.103349              0.038235  0.055787      0.034267   \n",
       "gypsy            0.410478              0.041612  0.053708      0.017413   \n",
       "arab             0.154590              0.059386  0.097164      0.011957   \n",
       "\n",
       "              Village    Animal     Plant     Album      Film  WrittenWork  \n",
       "man          0.038555  0.021730  0.009871  0.073602  0.254367     0.081415  \n",
       "boy          0.001058  0.964592  0.006997  0.004078  0.001851     0.000185  \n",
       "male         0.134053  0.032464  0.060315  0.092336  0.048591     0.039175  \n",
       "woman        0.055779  0.039579  0.054535  0.133210  0.063404     0.032923  \n",
       "girl         0.020421  0.024470  0.032099  0.017220  0.011974     0.013145  \n",
       "female       0.077267  0.092173  0.034930  0.054721  0.073297     0.034791  \n",
       "european     0.040633  0.034221  0.056346  0.088227  0.046717     0.032254  \n",
       "caucasian    0.080434  0.044574  0.051669  0.156524  0.065465     0.036995  \n",
       "african      0.372020  0.014004  0.043554  0.217669  0.045314     0.027646  \n",
       "asian        0.066474  0.027110  0.068450  0.174089  0.032838     0.027992  \n",
       "indian       0.005398  0.033414  0.031776  0.037807  0.007999     0.014138  \n",
       "pakistani    0.023376  0.019463  0.016973  0.637717  0.021467     0.033865  \n",
       "bangladeshi  0.030386  0.032310  0.043456  0.038122  0.034087     0.024748  \n",
       "chinese      0.072705  0.033481  0.056292  0.049299  0.044454     0.028255  \n",
       "caribbean    0.130135  0.045096  0.063787  0.216967  0.047603     0.035614  \n",
       "gypsy        0.027377  0.026845  0.051601  0.030790  0.025133     0.020164  \n",
       "arab         0.072935  0.030509  0.055200  0.051007  0.043222     0.120110  "
      ]
     },
     "execution_count": 80,
     "metadata": {},
     "output_type": "execute_result"
    }
   ],
   "source": [
    "bias_results = pd.DataFrame(bias_results, columns=classes)\n",
    "bias_results.index = words\n",
    "bias_results"
   ]
  },
  {
   "cell_type": "code",
   "execution_count": 84,
   "metadata": {},
   "outputs": [],
   "source": [
    "bias_results.to_csv(\"data/results/models_results/RNN_biass_analysis.csv\")\n"
   ]
  },
  {
   "cell_type": "code",
   "execution_count": 86,
   "metadata": {},
   "outputs": [
    {
     "data": {
      "image/png": "[encoded data removed]",
      "text/plain": [
       "<Figure size 640x480 with 2 Axes>"
      ]
     },
     "metadata": {},
     "output_type": "display_data"
    }
   ],
   "source": [
    "sns.heatmap(bias_results)\n",
    "plt.title('Bias analysis heatmap')\n",
    "plt.savefig(\"data/results/figures/biass_heatmap.png\")"
   ]
  }
 ],
 "metadata": {
  "kernelspec": {
   "display_name": "Python 3",
   "language": "python",
   "name": "python3"
  },
  "language_info": {
   "codemirror_mode": {
    "name": "ipython",
    "version": 3
   },
   "file_extension": ".py",
   "mimetype": "text/x-python",
   "name": "python",
   "nbconvert_exporter": "python",
   "pygments_lexer": "ipython3",
   "version": "3.8.10"
  },
  "orig_nbformat": 4,
  "vscode": {
   "interpreter": {
    "hash": "0adcc2737ebf6a4a119f135174df96668767fca1ef1112612db5ecadf2b6d608"
   }
  }
 },
 "nbformat": 4,
 "nbformat_minor": 2
}
